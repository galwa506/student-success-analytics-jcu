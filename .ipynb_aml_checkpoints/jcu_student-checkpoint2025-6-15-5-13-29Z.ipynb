{
  "cells": [
    {
      "cell_type": "code",
      "source": [
        "# Import required libraries\n",
        "import pandas as pd\n",
        "import numpy as np"
      ],
      "outputs": [],
      "execution_count": 1,
      "metadata": {
        "gather": {
          "logged": 1752554434760
        }
      }
    },
    {
      "cell_type": "code",
      "source": [
        "# Load dataset\n",
        "df = pd.read_excel('student_data.xlsx')\n",
        "\n",
        "# Show all columns when displaying DataFrames\n",
        "pd.set_option('display.max_columns', None)\n",
        "df.head()"
      ],
      "outputs": [
        {
          "output_type": "execute_result",
          "execution_count": 2,
          "data": {
            "text/plain": "   student_id                             course student_cohort  \\\n0           1  Master of Business Administration    SRI to JCUB   \n1           2  Master of Business Administration     Continuing   \n2           3  Master of Business Administration     First year   \n3           4  Master of Business Administration            New   \n4           5  Master of Business Administration     Continuing   \n\n  academic_status  failed_subjects        study_skills(attended)  \\\n0         At Risk              NaN              Essential Skills   \n1        Excluded              NaN                   Referencing   \n2         At Risk              NaN                       Writing   \n3        Excluded              NaN              Essential Skills   \n4         At Risk              NaN  Essential Skills and Reading   \n\n             referral    pp_meeting self_assessment  \\\n0  Student Counsellor        Booked             Yes   \n1    Student Advocate  Not relevant             Yes   \n2          Enrollment      Attended             Yes   \n3    Student Advocate      Attended              No   \n4  Student Counsellor  Not relevant              No   \n\n  readiness_assessment_results follow_up follow_up_type  subject_1  \\\n0       L/G:9/10 N:5/10 R:8/10       Yes       No Reply        NaN   \n1       L/G:9/10 N:5/10 R:8/10        No          Phone        NaN   \n2       L/G:9/10 N:5/10 R:8/10       Yes          Phone        NaN   \n3       L/G:9/10 N:5/10 R:8/10        No            F2F        NaN   \n4       L/G:9/10 N:5/10 R:8/10       Yes       No Reply        NaN   \n\n   subject_1_assess_1  subject_1_assess_2  subject_1_assess_3  \\\n0                7.70               27.22               26.51   \n1               31.14               54.66               81.72   \n2               39.09               75.39               84.62   \n3               88.59               84.36                3.79   \n4                0.98               13.80               53.40   \n\n   subject_1_assess_4  attendance_1 learn_jcu_issues_1  lecturer_referral_1  \\\n0               50.09            20             Access  Concern for Welfare   \n1                1.96             9             Access       Non Submission   \n2               82.66            51          No Access           Attendance   \n3               26.05            34             Access  Concern for Welfare   \n4               39.69            45             Access           Attendance   \n\n   subject_2  subject_2_assess_1  subject_2_assess_2  subject_2_assess_3  \\\n0        NaN               69.33               44.44               11.39   \n1        NaN               95.23               48.61               14.68   \n2        NaN               86.20               98.80               71.57   \n3        NaN                7.69               25.96               49.83   \n4        NaN               60.51               57.47               15.80   \n\n   subject_2_assess_4  attendance_2 learn_jcu_issues_2  lecturer_referral_2  \\\n0               18.78            41             Access           Attendance   \n1               44.77            66          No Access  Concern for Welfare   \n2               96.08            64          No Access  Concern for Welfare   \n3               17.77            57             Access       Non Submission   \n4               33.59             3          No Access  Concern for Welfare   \n\n   subject_3  subject_3_assess_1  subject_3_assess_2  subject_3_assess_3  \\\n0        NaN               39.02               17.71               94.50   \n1        NaN                3.72               38.52               25.80   \n2        NaN               77.77               77.27               81.95   \n3        NaN               95.41                8.93                3.21   \n4        NaN               90.12               52.18               36.05   \n\n   subject_4_assess_4  attendance_3 learn_jcu_issues_3  lecturer_referral_3  \\\n0                9.83            89             Access       Non Submission   \n1               11.80           100          No Access       Non Submission   \n2               62.35            42             Access           Attendance   \n3               99.15            51             Access  Concern for Welfare   \n4               20.65            19             Access  Concern for Welfare   \n\n                                            comments     identified_issues  \n0  Week 8. Student re-engaged with tutorials. Sub...       Late Enrollment  \n1  booked to see a doctor. Week 5. Student contac...  Poor time management  \n2  Week 8. Student re-engaged with tutorials. Sub...  Poor time management  \n3  Week 6. Student submitted assessment late. Ext...       Death in family  \n4  Week 3 late enrolment. Student finding it diff...              Sickness  ",
            "text/html": "<div>\n<style scoped>\n    .dataframe tbody tr th:only-of-type {\n        vertical-align: middle;\n    }\n\n    .dataframe tbody tr th {\n        vertical-align: top;\n    }\n\n    .dataframe thead th {\n        text-align: right;\n    }\n</style>\n<table border=\"1\" class=\"dataframe\">\n  <thead>\n    <tr style=\"text-align: right;\">\n      <th></th>\n      <th>student_id</th>\n      <th>course</th>\n      <th>student_cohort</th>\n      <th>academic_status</th>\n      <th>failed_subjects</th>\n      <th>study_skills(attended)</th>\n      <th>referral</th>\n      <th>pp_meeting</th>\n      <th>self_assessment</th>\n      <th>readiness_assessment_results</th>\n      <th>follow_up</th>\n      <th>follow_up_type</th>\n      <th>subject_1</th>\n      <th>subject_1_assess_1</th>\n      <th>subject_1_assess_2</th>\n      <th>subject_1_assess_3</th>\n      <th>subject_1_assess_4</th>\n      <th>attendance_1</th>\n      <th>learn_jcu_issues_1</th>\n      <th>lecturer_referral_1</th>\n      <th>subject_2</th>\n      <th>subject_2_assess_1</th>\n      <th>subject_2_assess_2</th>\n      <th>subject_2_assess_3</th>\n      <th>subject_2_assess_4</th>\n      <th>attendance_2</th>\n      <th>learn_jcu_issues_2</th>\n      <th>lecturer_referral_2</th>\n      <th>subject_3</th>\n      <th>subject_3_assess_1</th>\n      <th>subject_3_assess_2</th>\n      <th>subject_3_assess_3</th>\n      <th>subject_4_assess_4</th>\n      <th>attendance_3</th>\n      <th>learn_jcu_issues_3</th>\n      <th>lecturer_referral_3</th>\n      <th>comments</th>\n      <th>identified_issues</th>\n    </tr>\n  </thead>\n  <tbody>\n    <tr>\n      <th>0</th>\n      <td>1</td>\n      <td>Master of Business Administration</td>\n      <td>SRI to JCUB</td>\n      <td>At Risk</td>\n      <td>NaN</td>\n      <td>Essential Skills</td>\n      <td>Student Counsellor</td>\n      <td>Booked</td>\n      <td>Yes</td>\n      <td>L/G:9/10 N:5/10 R:8/10</td>\n      <td>Yes</td>\n      <td>No Reply</td>\n      <td>NaN</td>\n      <td>7.70</td>\n      <td>27.22</td>\n      <td>26.51</td>\n      <td>50.09</td>\n      <td>20</td>\n      <td>Access</td>\n      <td>Concern for Welfare</td>\n      <td>NaN</td>\n      <td>69.33</td>\n      <td>44.44</td>\n      <td>11.39</td>\n      <td>18.78</td>\n      <td>41</td>\n      <td>Access</td>\n      <td>Attendance</td>\n      <td>NaN</td>\n      <td>39.02</td>\n      <td>17.71</td>\n      <td>94.50</td>\n      <td>9.83</td>\n      <td>89</td>\n      <td>Access</td>\n      <td>Non Submission</td>\n      <td>Week 8. Student re-engaged with tutorials. Sub...</td>\n      <td>Late Enrollment</td>\n    </tr>\n    <tr>\n      <th>1</th>\n      <td>2</td>\n      <td>Master of Business Administration</td>\n      <td>Continuing</td>\n      <td>Excluded</td>\n      <td>NaN</td>\n      <td>Referencing</td>\n      <td>Student Advocate</td>\n      <td>Not relevant</td>\n      <td>Yes</td>\n      <td>L/G:9/10 N:5/10 R:8/10</td>\n      <td>No</td>\n      <td>Phone</td>\n      <td>NaN</td>\n      <td>31.14</td>\n      <td>54.66</td>\n      <td>81.72</td>\n      <td>1.96</td>\n      <td>9</td>\n      <td>Access</td>\n      <td>Non Submission</td>\n      <td>NaN</td>\n      <td>95.23</td>\n      <td>48.61</td>\n      <td>14.68</td>\n      <td>44.77</td>\n      <td>66</td>\n      <td>No Access</td>\n      <td>Concern for Welfare</td>\n      <td>NaN</td>\n      <td>3.72</td>\n      <td>38.52</td>\n      <td>25.80</td>\n      <td>11.80</td>\n      <td>100</td>\n      <td>No Access</td>\n      <td>Non Submission</td>\n      <td>booked to see a doctor. Week 5. Student contac...</td>\n      <td>Poor time management</td>\n    </tr>\n    <tr>\n      <th>2</th>\n      <td>3</td>\n      <td>Master of Business Administration</td>\n      <td>First year</td>\n      <td>At Risk</td>\n      <td>NaN</td>\n      <td>Writing</td>\n      <td>Enrollment</td>\n      <td>Attended</td>\n      <td>Yes</td>\n      <td>L/G:9/10 N:5/10 R:8/10</td>\n      <td>Yes</td>\n      <td>Phone</td>\n      <td>NaN</td>\n      <td>39.09</td>\n      <td>75.39</td>\n      <td>84.62</td>\n      <td>82.66</td>\n      <td>51</td>\n      <td>No Access</td>\n      <td>Attendance</td>\n      <td>NaN</td>\n      <td>86.20</td>\n      <td>98.80</td>\n      <td>71.57</td>\n      <td>96.08</td>\n      <td>64</td>\n      <td>No Access</td>\n      <td>Concern for Welfare</td>\n      <td>NaN</td>\n      <td>77.77</td>\n      <td>77.27</td>\n      <td>81.95</td>\n      <td>62.35</td>\n      <td>42</td>\n      <td>Access</td>\n      <td>Attendance</td>\n      <td>Week 8. Student re-engaged with tutorials. Sub...</td>\n      <td>Poor time management</td>\n    </tr>\n    <tr>\n      <th>3</th>\n      <td>4</td>\n      <td>Master of Business Administration</td>\n      <td>New</td>\n      <td>Excluded</td>\n      <td>NaN</td>\n      <td>Essential Skills</td>\n      <td>Student Advocate</td>\n      <td>Attended</td>\n      <td>No</td>\n      <td>L/G:9/10 N:5/10 R:8/10</td>\n      <td>No</td>\n      <td>F2F</td>\n      <td>NaN</td>\n      <td>88.59</td>\n      <td>84.36</td>\n      <td>3.79</td>\n      <td>26.05</td>\n      <td>34</td>\n      <td>Access</td>\n      <td>Concern for Welfare</td>\n      <td>NaN</td>\n      <td>7.69</td>\n      <td>25.96</td>\n      <td>49.83</td>\n      <td>17.77</td>\n      <td>57</td>\n      <td>Access</td>\n      <td>Non Submission</td>\n      <td>NaN</td>\n      <td>95.41</td>\n      <td>8.93</td>\n      <td>3.21</td>\n      <td>99.15</td>\n      <td>51</td>\n      <td>Access</td>\n      <td>Concern for Welfare</td>\n      <td>Week 6. Student submitted assessment late. Ext...</td>\n      <td>Death in family</td>\n    </tr>\n    <tr>\n      <th>4</th>\n      <td>5</td>\n      <td>Master of Business Administration</td>\n      <td>Continuing</td>\n      <td>At Risk</td>\n      <td>NaN</td>\n      <td>Essential Skills and Reading</td>\n      <td>Student Counsellor</td>\n      <td>Not relevant</td>\n      <td>No</td>\n      <td>L/G:9/10 N:5/10 R:8/10</td>\n      <td>Yes</td>\n      <td>No Reply</td>\n      <td>NaN</td>\n      <td>0.98</td>\n      <td>13.80</td>\n      <td>53.40</td>\n      <td>39.69</td>\n      <td>45</td>\n      <td>Access</td>\n      <td>Attendance</td>\n      <td>NaN</td>\n      <td>60.51</td>\n      <td>57.47</td>\n      <td>15.80</td>\n      <td>33.59</td>\n      <td>3</td>\n      <td>No Access</td>\n      <td>Concern for Welfare</td>\n      <td>NaN</td>\n      <td>90.12</td>\n      <td>52.18</td>\n      <td>36.05</td>\n      <td>20.65</td>\n      <td>19</td>\n      <td>Access</td>\n      <td>Concern for Welfare</td>\n      <td>Week 3 late enrolment. Student finding it diff...</td>\n      <td>Sickness</td>\n    </tr>\n  </tbody>\n</table>\n</div>"
          },
          "metadata": {}
        }
      ],
      "execution_count": 2,
      "metadata": {
        "gather": {
          "logged": 1752554435286
        }
      }
    },
    {
      "cell_type": "markdown",
      "source": [
        "#### Data Cleaning and Exploration"
      ],
      "metadata": {
        "nteract": {
          "transient": {
            "deleting": false
          }
        }
      }
    },
    {
      "cell_type": "code",
      "source": [
        "# Print a concise summary of the DataFrame, including column names, data types, non-null counts, and memory usage.\n",
        "df.info()"
      ],
      "outputs": [
        {
          "output_type": "stream",
          "name": "stdout",
          "text": "<class 'pandas.core.frame.DataFrame'>\nRangeIndex: 698 entries, 0 to 697\nData columns (total 38 columns):\n #   Column                        Non-Null Count  Dtype  \n---  ------                        --------------  -----  \n 0   student_id                    698 non-null    int64  \n 1   course                        698 non-null    object \n 2   student_cohort                698 non-null    object \n 3   academic_status               698 non-null    object \n 4   failed_subjects               0 non-null      float64\n 5   study_skills(attended)        698 non-null    object \n 6   referral                      698 non-null    object \n 7   pp_meeting                    698 non-null    object \n 8   self_assessment               698 non-null    object \n 9   readiness_assessment_results  698 non-null    object \n 10  follow_up                     698 non-null    object \n 11  follow_up_type                698 non-null    object \n 12  subject_1                     0 non-null      float64\n 13  subject_1_assess_1            698 non-null    float64\n 14  subject_1_assess_2            698 non-null    float64\n 15  subject_1_assess_3            698 non-null    float64\n 16  subject_1_assess_4            698 non-null    float64\n 17  attendance_1                  698 non-null    int64  \n 18  learn_jcu_issues_1            698 non-null    object \n 19  lecturer_referral_1           698 non-null    object \n 20  subject_2                     0 non-null      float64\n 21  subject_2_assess_1            698 non-null    float64\n 22  subject_2_assess_2            698 non-null    float64\n 23  subject_2_assess_3            698 non-null    float64\n 24  subject_2_assess_4            698 non-null    float64\n 25  attendance_2                  698 non-null    int64  \n 26  learn_jcu_issues_2            698 non-null    object \n 27  lecturer_referral_2           698 non-null    object \n 28  subject_3                     0 non-null      float64\n 29  subject_3_assess_1            698 non-null    float64\n 30  subject_3_assess_2            698 non-null    float64\n 31  subject_3_assess_3            698 non-null    float64\n 32  subject_4_assess_4            698 non-null    float64\n 33  attendance_3                  698 non-null    int64  \n 34  learn_jcu_issues_3            698 non-null    object \n 35  lecturer_referral_3           698 non-null    object \n 36  comments                      698 non-null    object \n 37  identified_issues             698 non-null    object \ndtypes: float64(16), int64(4), object(18)\nmemory usage: 207.3+ KB\n"
        }
      ],
      "execution_count": 3,
      "metadata": {
        "gather": {
          "logged": 1752554435442
        }
      }
    },
    {
      "cell_type": "code",
      "source": [
        "df.rename(columns={'subject_4_assess_4':'subject_3_assess_4'}, inplace=True)\n",
        "df.info()"
      ],
      "outputs": [
        {
          "output_type": "stream",
          "name": "stdout",
          "text": "<class 'pandas.core.frame.DataFrame'>\nRangeIndex: 698 entries, 0 to 697\nData columns (total 38 columns):\n #   Column                        Non-Null Count  Dtype  \n---  ------                        --------------  -----  \n 0   student_id                    698 non-null    int64  \n 1   course                        698 non-null    object \n 2   student_cohort                698 non-null    object \n 3   academic_status               698 non-null    object \n 4   failed_subjects               0 non-null      float64\n 5   study_skills(attended)        698 non-null    object \n 6   referral                      698 non-null    object \n 7   pp_meeting                    698 non-null    object \n 8   self_assessment               698 non-null    object \n 9   readiness_assessment_results  698 non-null    object \n 10  follow_up                     698 non-null    object \n 11  follow_up_type                698 non-null    object \n 12  subject_1                     0 non-null      float64\n 13  subject_1_assess_1            698 non-null    float64\n 14  subject_1_assess_2            698 non-null    float64\n 15  subject_1_assess_3            698 non-null    float64\n 16  subject_1_assess_4            698 non-null    float64\n 17  attendance_1                  698 non-null    int64  \n 18  learn_jcu_issues_1            698 non-null    object \n 19  lecturer_referral_1           698 non-null    object \n 20  subject_2                     0 non-null      float64\n 21  subject_2_assess_1            698 non-null    float64\n 22  subject_2_assess_2            698 non-null    float64\n 23  subject_2_assess_3            698 non-null    float64\n 24  subject_2_assess_4            698 non-null    float64\n 25  attendance_2                  698 non-null    int64  \n 26  learn_jcu_issues_2            698 non-null    object \n 27  lecturer_referral_2           698 non-null    object \n 28  subject_3                     0 non-null      float64\n 29  subject_3_assess_1            698 non-null    float64\n 30  subject_3_assess_2            698 non-null    float64\n 31  subject_3_assess_3            698 non-null    float64\n 32  subject_3_assess_4            698 non-null    float64\n 33  attendance_3                  698 non-null    int64  \n 34  learn_jcu_issues_3            698 non-null    object \n 35  lecturer_referral_3           698 non-null    object \n 36  comments                      698 non-null    object \n 37  identified_issues             698 non-null    object \ndtypes: float64(16), int64(4), object(18)\nmemory usage: 207.3+ KB\n"
        }
      ],
      "execution_count": 4,
      "metadata": {
        "gather": {
          "logged": 1752554435768
        }
      }
    },
    {
      "cell_type": "code",
      "source": [
        "df['course'] = df['course'].str.strip().str.lower()\n",
        "df['course'].unique()"
      ],
      "outputs": [
        {
          "output_type": "execute_result",
          "execution_count": 5,
          "data": {
            "text/plain": "array(['master of business administration',\n       'master of education - master of business administration',\n       'master of information technology', 'bachelor of business',\n       'master of engineering management',\n       'bachelor of information technology',\n       'master of professional accounting',\n       'master of international tourism and hospitality management',\n       'bachelor of tourism, hospitality and events',\n       'master of professional account and master of business administration',\n       'bachelor of commerce',\n       'master of international tourism and hospitality management - master of business administration',\n       'master of data science (professional)',\n       'master of information technology - master of business administration',\n       'postgraduate qualifying program - business'], dtype=object)"
          },
          "metadata": {}
        }
      ],
      "execution_count": 5,
      "metadata": {
        "gather": {
          "logged": 1752554435928
        }
      }
    },
    {
      "cell_type": "code",
      "source": [
        "# Map subject code to subject names using Dictionary\n",
        "subject_dict = {\n",
        "    \"BU1002\": \"Accounting for Decision Making\",\n",
        "    \"BU1003\": \"Principles of Economics\",\n",
        "    \"BU1007\": \"Principles of Data Analysis for Business\",\n",
        "    \"BU1112\": \"Business Law\",\n",
        "    \"BX2011\": \"Foundation of Accounting Principles\",\n",
        "    \"BX2014\": \"Principles of Finance\",\n",
        "    \"CP1401\": \"Fundamentals of Problem Solving and Programming I\",\n",
        "    \"CP1402\": \"Internet Fundamentals\",\n",
        "    \"CP1404\": \"Programming II\",\n",
        "    \"TO1008\": \"Introduction to Tourism, Hospitality and Events Management\",\n",
        "    \"TO2117\": \"Food and Beverage Management\",\n",
        "    \"TO3052\": \"Experience Design for Tourism Hospitality and Events\",\n",
        "    \"LB5113\": \"Corporate Strategy\",\n",
        "    \"LB5202\": \"Marketing Essentials\",\n",
        "    \"LB5205\": \"People in Organisations\",\n",
        "    \"MA5831\": \"Advanced Data Management and Analysis using SAS\",\n",
        "    \"MA5840\": \"Data Science and Strategic Decision Making for Business\",\n",
        "    \"MA5851\": \"Data Science Master Class 1\",\n",
        "    \"ED5097\": \"Research Design and Proposal\",\n",
        "    \"ED5880\": \"Educational Leadership\",\n",
        "    \"EG5200\": \"Career Planning\",\n",
        "    \"EG5220\": \"Advanced Asset Management and Reliability\",\n",
        "    \"EG5310\": \"Professional Placement\",\n",
        "    \"CP5046\": \"ICT Project 1: Analysis and Design\",\n",
        "    \"CP5047\": \"ICT Project 2: Implementation and Commissioning\",\n",
        "    \"CP5503\": \"Enterprise Database Systems - Oracle\",\n",
        "    \"TO5101\": \"Tourism Systems Analysis\",\n",
        "    \"TO5103\": \"Global Destinations and Competitiveness\",\n",
        "    \"TO5104\": \"Tourist Management Strategies\",\n",
        "    \"CO5117\": \"Introduction to Accounting\",\n",
        "    \"CO5103\": \"Management Accounting\",\n",
        "    \"CO5109\": \"Corporate Finance\",\n",
        "    \"LB5203\": \"Sustainable Enterprise\",\n",
        "    \"LB5212\": \"Accounting and Finance for Managers\"\n",
        "}\n"
      ],
      "outputs": [],
      "execution_count": 6,
      "metadata": {
        "gather": {
          "logged": 1752554436101
        }
      }
    },
    {
      "cell_type": "code",
      "source": [
        "# Get the subject name from the subject code\n",
        "subject_dict['BU1007'] # Output: Principles of Data Analysis for Business "
      ],
      "outputs": [
        {
          "output_type": "execute_result",
          "execution_count": 7,
          "data": {
            "text/plain": "'Principles of Data Analysis for Business'"
          },
          "metadata": {}
        }
      ],
      "execution_count": 7,
      "metadata": {
        "gather": {
          "logged": 1752554436254
        }
      }
    },
    {
      "cell_type": "code",
      "source": [
        "# Map each course to a list of three subject codes\n",
        "course_subjects = {\n",
        "    'Bachelor of Business': ['BU1002', 'BU1003', 'BU1007'],\n",
        "    'Bachelor of Commerce': ['BU1112', 'BX2011', 'BX2014'],\n",
        "    'Bachelor of Information Technology': ['CP1401', 'CP1402', 'CP1404'],\n",
        "    'Bachelor of Tourism, Hospitality and Events': ['TO1008', 'TO2117', 'TO3052'],\n",
        "    'Master of Business Administration': ['LB5113', 'LB5202', 'LB5205'],\n",
        "    'Master of Data Science (Professional)': ['MA5831', 'MA5840', 'MA5851'],\n",
        "    'Master of Education - Master of Business Administration': ['ED5097', 'ED5880', 'LB5113'],\n",
        "    'Master of Engineering Management': ['EG5200', 'EG5220', 'EG5310'],\n",
        "    'Master of Information Technology': ['CP5046', 'CP5047', 'CP5503'],\n",
        "    'Master of Information Technology - Master of Business Administration': ['CP5046', 'LB5113', 'LB5202'],\n",
        "    'Master of International Tourism and Hospitality Management': ['TO5101', 'TO5103', 'TO5104'],\n",
        "    'Master of International Tourism and Hospitality Management - Master of Business Administration': ['TO5101', 'LB5113', 'LB5202'],\n",
        "    'Master of Professional Accounting': ['CO5117', 'CO5103', 'CO5109'],\n",
        "    'Master of Professional Accounting - Master of Business Administration': ['CO5117', 'CO5103', 'LB5113'],\n",
        "    'Postgraduate Qualifying Program - Business': ['LB5202', 'LB5203', 'LB5212']\n",
        "}\n"
      ],
      "outputs": [],
      "execution_count": 8,
      "metadata": {
        "gather": {
          "logged": 1752554436404
        }
      }
    },
    {
      "cell_type": "code",
      "source": [
        "# Get the course subjects from the course\n",
        "course_subjects['Bachelor of Information Technology'] # Output: 'CP1401', 'CP1402', 'CP1404']"
      ],
      "outputs": [
        {
          "output_type": "execute_result",
          "execution_count": 9,
          "data": {
            "text/plain": "['CP1401', 'CP1402', 'CP1404']"
          },
          "metadata": {}
        }
      ],
      "execution_count": 9,
      "metadata": {
        "gather": {
          "logged": 1752554436567
        }
      }
    },
    {
      "cell_type": "code",
      "source": [
        "# Create a new dictionary with cleaned course names as keys\n",
        "# For each key-value pair in the original course_subjects dictionary:\n",
        "#   Remove any leading/trailing spaces from the course name (key) using strip()\n",
        "#   Convert the course name to lowercase using lower()\n",
        "#   Keep the value (list of subjects) unchanged\n",
        "cleaned_course_subjects = {k.strip().lower(): v for k, v in course_subjects.items()}\n",
        "cleaned_course_subjects"
      ],
      "outputs": [
        {
          "output_type": "execute_result",
          "execution_count": 10,
          "data": {
            "text/plain": "{'bachelor of business': ['BU1002', 'BU1003', 'BU1007'],\n 'bachelor of commerce': ['BU1112', 'BX2011', 'BX2014'],\n 'bachelor of information technology': ['CP1401', 'CP1402', 'CP1404'],\n 'bachelor of tourism, hospitality and events': ['TO1008', 'TO2117', 'TO3052'],\n 'master of business administration': ['LB5113', 'LB5202', 'LB5205'],\n 'master of data science (professional)': ['MA5831', 'MA5840', 'MA5851'],\n 'master of education - master of business administration': ['ED5097',\n  'ED5880',\n  'LB5113'],\n 'master of engineering management': ['EG5200', 'EG5220', 'EG5310'],\n 'master of information technology': ['CP5046', 'CP5047', 'CP5503'],\n 'master of information technology - master of business administration': ['CP5046',\n  'LB5113',\n  'LB5202'],\n 'master of international tourism and hospitality management': ['TO5101',\n  'TO5103',\n  'TO5104'],\n 'master of international tourism and hospitality management - master of business administration': ['TO5101',\n  'LB5113',\n  'LB5202'],\n 'master of professional accounting': ['CO5117', 'CO5103', 'CO5109'],\n 'master of professional accounting - master of business administration': ['CO5117',\n  'CO5103',\n  'LB5113'],\n 'postgraduate qualifying program - business': ['LB5202', 'LB5203', 'LB5212']}"
          },
          "metadata": {}
        }
      ],
      "execution_count": 10,
      "metadata": {
        "gather": {
          "logged": 1752554436990
        }
      }
    },
    {
      "cell_type": "code",
      "source": [
        "# Get unique course names in DataFrame\n",
        "unique_courses = df['course'].unique()\n",
        "\n",
        "# Find which course names are not keys in cleaned_course_subjects dictionary\n",
        "courses_not_in_cleaned = [course for course in unique_courses if course not in cleaned_course_subjects]\n",
        "courses_not_in_cleaned"
      ],
      "outputs": [
        {
          "output_type": "execute_result",
          "execution_count": 11,
          "data": {
            "text/plain": "['master of professional account and master of business administration']"
          },
          "metadata": {}
        }
      ],
      "execution_count": 11,
      "metadata": {
        "gather": {
          "logged": 1752554437399
        }
      }
    },
    {
      "cell_type": "code",
      "source": [
        "df['course'].replace('master of professional account and master of business administration', 'master of professional accounting - master of business administration', inplace=True)"
      ],
      "outputs": [],
      "execution_count": 12,
      "metadata": {
        "gather": {
          "logged": 1752554437709
        }
      }
    },
    {
      "cell_type": "code",
      "source": [
        "# check if the course value has been updated\n",
        "df['course'].unique()"
      ],
      "outputs": [
        {
          "output_type": "execute_result",
          "execution_count": 13,
          "data": {
            "text/plain": "array(['master of business administration',\n       'master of education - master of business administration',\n       'master of information technology', 'bachelor of business',\n       'master of engineering management',\n       'bachelor of information technology',\n       'master of professional accounting',\n       'master of international tourism and hospitality management',\n       'bachelor of tourism, hospitality and events',\n       'master of professional accounting - master of business administration',\n       'bachelor of commerce',\n       'master of international tourism and hospitality management - master of business administration',\n       'master of data science (professional)',\n       'master of information technology - master of business administration',\n       'postgraduate qualifying program - business'], dtype=object)"
          },
          "metadata": {}
        }
      ],
      "execution_count": 13,
      "metadata": {
        "gather": {
          "logged": 1752554438027
        }
      }
    },
    {
      "cell_type": "code",
      "source": [
        "# Assigns subject codes to each student based on their course.\n",
        "# For each row, looks up the course in the cleaned_course_subjects dictionary.\n",
        "# If the course is found, fills subject_1, subject_2, and subject_3 with the corresponding subject codes.\n",
        "# If the course is not found, fills these columns with None.\n",
        "def assign_subjects(row):\n",
        "    subjects = cleaned_course_subjects.get(row['course'], [None, None, None])\n",
        "    row['subject_1'], row['subject_2'], row['subject_3'] = subjects\n",
        "    return row\n",
        "\n",
        "df = df.apply(assign_subjects, axis=1)"
      ],
      "outputs": [],
      "execution_count": 14,
      "metadata": {
        "gather": {
          "logged": 1752554438366
        }
      }
    },
    {
      "cell_type": "code",
      "source": [
        "# Check for null values in subject 1 to 3\n",
        "df[['subject_1', 'subject_2', 'subject_3']].isnull().sum()"
      ],
      "outputs": [
        {
          "output_type": "execute_result",
          "execution_count": 15,
          "data": {
            "text/plain": "subject_1    0\nsubject_2    0\nsubject_3    0\ndtype: int64"
          },
          "metadata": {}
        }
      ],
      "execution_count": 15,
      "metadata": {
        "gather": {
          "logged": 1752554438686
        }
      }
    },
    {
      "cell_type": "code",
      "source": [
        "df.info()"
      ],
      "outputs": [
        {
          "output_type": "stream",
          "name": "stdout",
          "text": "<class 'pandas.core.frame.DataFrame'>\nRangeIndex: 698 entries, 0 to 697\nData columns (total 38 columns):\n #   Column                        Non-Null Count  Dtype  \n---  ------                        --------------  -----  \n 0   student_id                    698 non-null    int64  \n 1   course                        698 non-null    object \n 2   student_cohort                698 non-null    object \n 3   academic_status               698 non-null    object \n 4   failed_subjects               0 non-null      float64\n 5   study_skills(attended)        698 non-null    object \n 6   referral                      698 non-null    object \n 7   pp_meeting                    698 non-null    object \n 8   self_assessment               698 non-null    object \n 9   readiness_assessment_results  698 non-null    object \n 10  follow_up                     698 non-null    object \n 11  follow_up_type                698 non-null    object \n 12  subject_1                     698 non-null    object \n 13  subject_1_assess_1            698 non-null    float64\n 14  subject_1_assess_2            698 non-null    float64\n 15  subject_1_assess_3            698 non-null    float64\n 16  subject_1_assess_4            698 non-null    float64\n 17  attendance_1                  698 non-null    int64  \n 18  learn_jcu_issues_1            698 non-null    object \n 19  lecturer_referral_1           698 non-null    object \n 20  subject_2                     698 non-null    object \n 21  subject_2_assess_1            698 non-null    float64\n 22  subject_2_assess_2            698 non-null    float64\n 23  subject_2_assess_3            698 non-null    float64\n 24  subject_2_assess_4            698 non-null    float64\n 25  attendance_2                  698 non-null    int64  \n 26  learn_jcu_issues_2            698 non-null    object \n 27  lecturer_referral_2           698 non-null    object \n 28  subject_3                     698 non-null    object \n 29  subject_3_assess_1            698 non-null    float64\n 30  subject_3_assess_2            698 non-null    float64\n 31  subject_3_assess_3            698 non-null    float64\n 32  subject_3_assess_4            698 non-null    float64\n 33  attendance_3                  698 non-null    int64  \n 34  learn_jcu_issues_3            698 non-null    object \n 35  lecturer_referral_3           698 non-null    object \n 36  comments                      698 non-null    object \n 37  identified_issues             698 non-null    object \ndtypes: float64(13), int64(4), object(21)\nmemory usage: 207.3+ KB\n"
        }
      ],
      "execution_count": 16,
      "metadata": {
        "gather": {
          "logged": 1752554439059
        }
      }
    },
    {
      "cell_type": "code",
      "source": [
        "df['course'].value_counts()"
      ],
      "outputs": [
        {
          "output_type": "execute_result",
          "execution_count": 17,
          "data": {
            "text/plain": "master of business administration                                                                 102\nmaster of education - master of business administration                                            90\nmaster of information technology                                                                   77\nbachelor of business                                                                               71\nmaster of engineering management                                                                   69\nbachelor of information technology                                                                 56\nmaster of professional accounting                                                                  55\nmaster of international tourism and hospitality management                                         50\nbachelor of tourism, hospitality and events                                                        30\nmaster of professional accounting - master of business administration                              24\nbachelor of commerce                                                                               22\nmaster of international tourism and hospitality management - master of business administration     21\nmaster of data science (professional)                                                              13\nmaster of information technology - master of business administration                               11\npostgraduate qualifying program - business                                                          7\nName: course, dtype: int64"
          },
          "metadata": {}
        }
      ],
      "execution_count": 17,
      "metadata": {
        "gather": {
          "logged": 1752554439383
        }
      }
    },
    {
      "cell_type": "code",
      "source": [
        "df.head()"
      ],
      "outputs": [
        {
          "output_type": "execute_result",
          "execution_count": 18,
          "data": {
            "text/plain": "   student_id                             course student_cohort  \\\n0           1  master of business administration    SRI to JCUB   \n1           2  master of business administration     Continuing   \n2           3  master of business administration     First year   \n3           4  master of business administration            New   \n4           5  master of business administration     Continuing   \n\n  academic_status  failed_subjects        study_skills(attended)  \\\n0         At Risk              NaN              Essential Skills   \n1        Excluded              NaN                   Referencing   \n2         At Risk              NaN                       Writing   \n3        Excluded              NaN              Essential Skills   \n4         At Risk              NaN  Essential Skills and Reading   \n\n             referral    pp_meeting self_assessment  \\\n0  Student Counsellor        Booked             Yes   \n1    Student Advocate  Not relevant             Yes   \n2          Enrollment      Attended             Yes   \n3    Student Advocate      Attended              No   \n4  Student Counsellor  Not relevant              No   \n\n  readiness_assessment_results follow_up follow_up_type subject_1  \\\n0       L/G:9/10 N:5/10 R:8/10       Yes       No Reply    LB5113   \n1       L/G:9/10 N:5/10 R:8/10        No          Phone    LB5113   \n2       L/G:9/10 N:5/10 R:8/10       Yes          Phone    LB5113   \n3       L/G:9/10 N:5/10 R:8/10        No            F2F    LB5113   \n4       L/G:9/10 N:5/10 R:8/10       Yes       No Reply    LB5113   \n\n   subject_1_assess_1  subject_1_assess_2  subject_1_assess_3  \\\n0                7.70               27.22               26.51   \n1               31.14               54.66               81.72   \n2               39.09               75.39               84.62   \n3               88.59               84.36                3.79   \n4                0.98               13.80               53.40   \n\n   subject_1_assess_4  attendance_1 learn_jcu_issues_1  lecturer_referral_1  \\\n0               50.09            20             Access  Concern for Welfare   \n1                1.96             9             Access       Non Submission   \n2               82.66            51          No Access           Attendance   \n3               26.05            34             Access  Concern for Welfare   \n4               39.69            45             Access           Attendance   \n\n  subject_2  subject_2_assess_1  subject_2_assess_2  subject_2_assess_3  \\\n0    LB5202               69.33               44.44               11.39   \n1    LB5202               95.23               48.61               14.68   \n2    LB5202               86.20               98.80               71.57   \n3    LB5202                7.69               25.96               49.83   \n4    LB5202               60.51               57.47               15.80   \n\n   subject_2_assess_4  attendance_2 learn_jcu_issues_2  lecturer_referral_2  \\\n0               18.78            41             Access           Attendance   \n1               44.77            66          No Access  Concern for Welfare   \n2               96.08            64          No Access  Concern for Welfare   \n3               17.77            57             Access       Non Submission   \n4               33.59             3          No Access  Concern for Welfare   \n\n  subject_3  subject_3_assess_1  subject_3_assess_2  subject_3_assess_3  \\\n0    LB5205               39.02               17.71               94.50   \n1    LB5205                3.72               38.52               25.80   \n2    LB5205               77.77               77.27               81.95   \n3    LB5205               95.41                8.93                3.21   \n4    LB5205               90.12               52.18               36.05   \n\n   subject_3_assess_4  attendance_3 learn_jcu_issues_3  lecturer_referral_3  \\\n0                9.83            89             Access       Non Submission   \n1               11.80           100          No Access       Non Submission   \n2               62.35            42             Access           Attendance   \n3               99.15            51             Access  Concern for Welfare   \n4               20.65            19             Access  Concern for Welfare   \n\n                                            comments     identified_issues  \n0  Week 8. Student re-engaged with tutorials. Sub...       Late Enrollment  \n1  booked to see a doctor. Week 5. Student contac...  Poor time management  \n2  Week 8. Student re-engaged with tutorials. Sub...  Poor time management  \n3  Week 6. Student submitted assessment late. Ext...       Death in family  \n4  Week 3 late enrolment. Student finding it diff...              Sickness  ",
            "text/html": "<div>\n<style scoped>\n    .dataframe tbody tr th:only-of-type {\n        vertical-align: middle;\n    }\n\n    .dataframe tbody tr th {\n        vertical-align: top;\n    }\n\n    .dataframe thead th {\n        text-align: right;\n    }\n</style>\n<table border=\"1\" class=\"dataframe\">\n  <thead>\n    <tr style=\"text-align: right;\">\n      <th></th>\n      <th>student_id</th>\n      <th>course</th>\n      <th>student_cohort</th>\n      <th>academic_status</th>\n      <th>failed_subjects</th>\n      <th>study_skills(attended)</th>\n      <th>referral</th>\n      <th>pp_meeting</th>\n      <th>self_assessment</th>\n      <th>readiness_assessment_results</th>\n      <th>follow_up</th>\n      <th>follow_up_type</th>\n      <th>subject_1</th>\n      <th>subject_1_assess_1</th>\n      <th>subject_1_assess_2</th>\n      <th>subject_1_assess_3</th>\n      <th>subject_1_assess_4</th>\n      <th>attendance_1</th>\n      <th>learn_jcu_issues_1</th>\n      <th>lecturer_referral_1</th>\n      <th>subject_2</th>\n      <th>subject_2_assess_1</th>\n      <th>subject_2_assess_2</th>\n      <th>subject_2_assess_3</th>\n      <th>subject_2_assess_4</th>\n      <th>attendance_2</th>\n      <th>learn_jcu_issues_2</th>\n      <th>lecturer_referral_2</th>\n      <th>subject_3</th>\n      <th>subject_3_assess_1</th>\n      <th>subject_3_assess_2</th>\n      <th>subject_3_assess_3</th>\n      <th>subject_3_assess_4</th>\n      <th>attendance_3</th>\n      <th>learn_jcu_issues_3</th>\n      <th>lecturer_referral_3</th>\n      <th>comments</th>\n      <th>identified_issues</th>\n    </tr>\n  </thead>\n  <tbody>\n    <tr>\n      <th>0</th>\n      <td>1</td>\n      <td>master of business administration</td>\n      <td>SRI to JCUB</td>\n      <td>At Risk</td>\n      <td>NaN</td>\n      <td>Essential Skills</td>\n      <td>Student Counsellor</td>\n      <td>Booked</td>\n      <td>Yes</td>\n      <td>L/G:9/10 N:5/10 R:8/10</td>\n      <td>Yes</td>\n      <td>No Reply</td>\n      <td>LB5113</td>\n      <td>7.70</td>\n      <td>27.22</td>\n      <td>26.51</td>\n      <td>50.09</td>\n      <td>20</td>\n      <td>Access</td>\n      <td>Concern for Welfare</td>\n      <td>LB5202</td>\n      <td>69.33</td>\n      <td>44.44</td>\n      <td>11.39</td>\n      <td>18.78</td>\n      <td>41</td>\n      <td>Access</td>\n      <td>Attendance</td>\n      <td>LB5205</td>\n      <td>39.02</td>\n      <td>17.71</td>\n      <td>94.50</td>\n      <td>9.83</td>\n      <td>89</td>\n      <td>Access</td>\n      <td>Non Submission</td>\n      <td>Week 8. Student re-engaged with tutorials. Sub...</td>\n      <td>Late Enrollment</td>\n    </tr>\n    <tr>\n      <th>1</th>\n      <td>2</td>\n      <td>master of business administration</td>\n      <td>Continuing</td>\n      <td>Excluded</td>\n      <td>NaN</td>\n      <td>Referencing</td>\n      <td>Student Advocate</td>\n      <td>Not relevant</td>\n      <td>Yes</td>\n      <td>L/G:9/10 N:5/10 R:8/10</td>\n      <td>No</td>\n      <td>Phone</td>\n      <td>LB5113</td>\n      <td>31.14</td>\n      <td>54.66</td>\n      <td>81.72</td>\n      <td>1.96</td>\n      <td>9</td>\n      <td>Access</td>\n      <td>Non Submission</td>\n      <td>LB5202</td>\n      <td>95.23</td>\n      <td>48.61</td>\n      <td>14.68</td>\n      <td>44.77</td>\n      <td>66</td>\n      <td>No Access</td>\n      <td>Concern for Welfare</td>\n      <td>LB5205</td>\n      <td>3.72</td>\n      <td>38.52</td>\n      <td>25.80</td>\n      <td>11.80</td>\n      <td>100</td>\n      <td>No Access</td>\n      <td>Non Submission</td>\n      <td>booked to see a doctor. Week 5. Student contac...</td>\n      <td>Poor time management</td>\n    </tr>\n    <tr>\n      <th>2</th>\n      <td>3</td>\n      <td>master of business administration</td>\n      <td>First year</td>\n      <td>At Risk</td>\n      <td>NaN</td>\n      <td>Writing</td>\n      <td>Enrollment</td>\n      <td>Attended</td>\n      <td>Yes</td>\n      <td>L/G:9/10 N:5/10 R:8/10</td>\n      <td>Yes</td>\n      <td>Phone</td>\n      <td>LB5113</td>\n      <td>39.09</td>\n      <td>75.39</td>\n      <td>84.62</td>\n      <td>82.66</td>\n      <td>51</td>\n      <td>No Access</td>\n      <td>Attendance</td>\n      <td>LB5202</td>\n      <td>86.20</td>\n      <td>98.80</td>\n      <td>71.57</td>\n      <td>96.08</td>\n      <td>64</td>\n      <td>No Access</td>\n      <td>Concern for Welfare</td>\n      <td>LB5205</td>\n      <td>77.77</td>\n      <td>77.27</td>\n      <td>81.95</td>\n      <td>62.35</td>\n      <td>42</td>\n      <td>Access</td>\n      <td>Attendance</td>\n      <td>Week 8. Student re-engaged with tutorials. Sub...</td>\n      <td>Poor time management</td>\n    </tr>\n    <tr>\n      <th>3</th>\n      <td>4</td>\n      <td>master of business administration</td>\n      <td>New</td>\n      <td>Excluded</td>\n      <td>NaN</td>\n      <td>Essential Skills</td>\n      <td>Student Advocate</td>\n      <td>Attended</td>\n      <td>No</td>\n      <td>L/G:9/10 N:5/10 R:8/10</td>\n      <td>No</td>\n      <td>F2F</td>\n      <td>LB5113</td>\n      <td>88.59</td>\n      <td>84.36</td>\n      <td>3.79</td>\n      <td>26.05</td>\n      <td>34</td>\n      <td>Access</td>\n      <td>Concern for Welfare</td>\n      <td>LB5202</td>\n      <td>7.69</td>\n      <td>25.96</td>\n      <td>49.83</td>\n      <td>17.77</td>\n      <td>57</td>\n      <td>Access</td>\n      <td>Non Submission</td>\n      <td>LB5205</td>\n      <td>95.41</td>\n      <td>8.93</td>\n      <td>3.21</td>\n      <td>99.15</td>\n      <td>51</td>\n      <td>Access</td>\n      <td>Concern for Welfare</td>\n      <td>Week 6. Student submitted assessment late. Ext...</td>\n      <td>Death in family</td>\n    </tr>\n    <tr>\n      <th>4</th>\n      <td>5</td>\n      <td>master of business administration</td>\n      <td>Continuing</td>\n      <td>At Risk</td>\n      <td>NaN</td>\n      <td>Essential Skills and Reading</td>\n      <td>Student Counsellor</td>\n      <td>Not relevant</td>\n      <td>No</td>\n      <td>L/G:9/10 N:5/10 R:8/10</td>\n      <td>Yes</td>\n      <td>No Reply</td>\n      <td>LB5113</td>\n      <td>0.98</td>\n      <td>13.80</td>\n      <td>53.40</td>\n      <td>39.69</td>\n      <td>45</td>\n      <td>Access</td>\n      <td>Attendance</td>\n      <td>LB5202</td>\n      <td>60.51</td>\n      <td>57.47</td>\n      <td>15.80</td>\n      <td>33.59</td>\n      <td>3</td>\n      <td>No Access</td>\n      <td>Concern for Welfare</td>\n      <td>LB5205</td>\n      <td>90.12</td>\n      <td>52.18</td>\n      <td>36.05</td>\n      <td>20.65</td>\n      <td>19</td>\n      <td>Access</td>\n      <td>Concern for Welfare</td>\n      <td>Week 3 late enrolment. Student finding it diff...</td>\n      <td>Sickness</td>\n    </tr>\n  </tbody>\n</table>\n</div>"
          },
          "metadata": {}
        }
      ],
      "execution_count": 18,
      "metadata": {
        "gather": {
          "logged": 1752554439694
        }
      }
    },
    {
      "cell_type": "code",
      "source": [
        "df['academic_status'].value_counts()"
      ],
      "outputs": [
        {
          "output_type": "execute_result",
          "execution_count": 19,
          "data": {
            "text/plain": "Academic Caution    156\nAt Risk             148\nExcluded            133\nConditional         131\nSatisfactory        130\nName: academic_status, dtype: int64"
          },
          "metadata": {}
        }
      ],
      "execution_count": 19,
      "metadata": {
        "gather": {
          "logged": 1752554440002
        }
      }
    },
    {
      "cell_type": "code",
      "source": [
        "# Clean the academic status column\n",
        "# Standardize the values (strip whitespace and title case) \n",
        "df['academic_status'] = df['academic_status'].str.strip().str.title()"
      ],
      "outputs": [],
      "execution_count": 20,
      "metadata": {
        "gather": {
          "logged": 1752554440300
        }
      }
    },
    {
      "cell_type": "code",
      "source": [
        "# Shuffle the DataFrame\n",
        "df = df.sample(frac=1, random_state=42).reset_index(drop=True)\n",
        "# Define the target distribution\n",
        "target_counts = {\n",
        "    'Satisfactory': 524,\n",
        "    'Academic Caution': 70,\n",
        "    'Conditional': 99,\n",
        "    'Excluded': 5\n",
        "}"
      ],
      "outputs": [],
      "execution_count": 21,
      "metadata": {
        "gather": {
          "logged": 1752554440587
        }
      }
    },
    {
      "cell_type": "code",
      "source": [
        "# Create a new column with the desired academic status\n",
        "new_statuses = (\n",
        "    ['Satisfactory'] * target_counts['Satisfactory'] +\n",
        "    ['Academic Caution'] * target_counts['Academic Caution'] +\n",
        "    ['Conditional'] * target_counts['Conditional'] +\n",
        "    ['Excluded'] * target_counts['Excluded']\n",
        ")"
      ],
      "outputs": [],
      "execution_count": 22,
      "metadata": {
        "gather": {
          "logged": 1752554440881
        }
      }
    },
    {
      "cell_type": "code",
      "source": [
        "# Assign to the DataFrame\n",
        "df['academic_status'] = new_statuses\n",
        "\n",
        "# Confirm the new distribution\n",
        "df['academic_status'].value_counts()"
      ],
      "outputs": [
        {
          "output_type": "execute_result",
          "execution_count": 23,
          "data": {
            "text/plain": "Satisfactory        524\nConditional          99\nAcademic Caution     70\nExcluded              5\nName: academic_status, dtype: int64"
          },
          "metadata": {}
        }
      ],
      "execution_count": 23,
      "metadata": {
        "gather": {
          "logged": 1752554441212
        }
      }
    },
    {
      "cell_type": "code",
      "source": [
        "df['academic_status'].unique()"
      ],
      "outputs": [
        {
          "output_type": "execute_result",
          "execution_count": 24,
          "data": {
            "text/plain": "array(['Satisfactory', 'Academic Caution', 'Conditional', 'Excluded'],\n      dtype=object)"
          },
          "metadata": {}
        }
      ],
      "execution_count": 24,
      "metadata": {
        "gather": {
          "logged": 1752554441581
        }
      }
    },
    {
      "cell_type": "code",
      "source": [
        "df['student_cohort'].value_counts()"
      ],
      "outputs": [
        {
          "output_type": "execute_result",
          "execution_count": 25,
          "data": {
            "text/plain": "Return to Study    101\nFirst year          93\nTransferred         92\nContinuing          89\nExcluded            86\nLOA                 85\nNew                 78\nSRI to JCUB         74\nName: student_cohort, dtype: int64"
          },
          "metadata": {}
        }
      ],
      "execution_count": 25,
      "metadata": {
        "gather": {
          "logged": 1752554441897
        }
      }
    },
    {
      "cell_type": "code",
      "source": [
        "# List of cohort values for which academic status is 'satisfactory\n",
        "satisfactory_cohorts = ['SRI to JCUB', 'Transferred', 'New']\n",
        "\n",
        "# Update the academic_status column for those cohorts\n",
        "df.loc[df['student_cohort'].isin(satisfactory_cohorts), 'academic_status'] = 'Satisfactory'"
      ],
      "outputs": [],
      "execution_count": 26,
      "metadata": {
        "gather": {
          "logged": 1752554442193
        }
      }
    },
    {
      "cell_type": "code",
      "source": [
        "# List of courses that falls under course group 'IT'\n",
        "it_courses = [ 'master of information technology',\n",
        "    'bachelor of information technology',\n",
        "    'master of data science (professional)',\n",
        "    'master of information technology - master of business administration',\n",
        "] "
      ],
      "outputs": [],
      "execution_count": 27,
      "metadata": {
        "gather": {
          "logged": 1752554442475
        }
      }
    },
    {
      "cell_type": "code",
      "source": [
        "# Create a new column 'course_group' based on whether the course is in the IT list\n",
        "df['course_group'] = df['course'].apply(\n",
        "    lambda x: 'IT' if x in it_courses else 'Non-IT'\n",
        ")\n"
      ],
      "outputs": [],
      "execution_count": 28,
      "metadata": {
        "gather": {
          "logged": 1752554442758
        }
      }
    },
    {
      "cell_type": "markdown",
      "source": [
        "##### Generate records of failed subjects for each program based on statistical estimates\n"
      ],
      "metadata": {
        "nteract": {
          "transient": {
            "deleting": false
          }
        }
      }
    },
    {
      "cell_type": "code",
      "source": [
        "# Fill all nulls with 0\n",
        "df['failed_subjects'] = df['failed_subjects'].fillna(0)"
      ],
      "outputs": [],
      "execution_count": 29,
      "metadata": {
        "gather": {
          "logged": 1752554443050
        }
      }
    },
    {
      "cell_type": "code",
      "source": [
        "n_total_stds = 698\n",
        "n_failed_stds = 77\n",
        "n_failed_3plus = 17"
      ],
      "outputs": [],
      "execution_count": 30,
      "metadata": {
        "gather": {
          "logged": 1752554443416
        }
      }
    },
    {
      "cell_type": "markdown",
      "source": [
        "n_total_stds: Total number of students (698).\n",
        "\n",
        "n_failed_stds: Number of students who failed at least one subject (77).\n",
        "\n",
        "n_failed_3plus: Number of students who failed 3 or more subjects (17).\n"
      ],
      "metadata": {
        "nteract": {
          "transient": {
            "deleting": false
          }
        }
      }
    },
    {
      "cell_type": "code",
      "source": [
        "# IT and Non IT\n",
        "n_it= 157\n",
        "n_nonit= n_total_stds - n_it\n",
        "n_it_failed = 31\n",
        "n_nonit_failed = n_failed_stds - n_it_failed # 46"
      ],
      "outputs": [],
      "execution_count": 31,
      "metadata": {
        "gather": {
          "logged": 1752554443709
        }
      }
    },
    {
      "cell_type": "markdown",
      "source": [
        "n_it = Number of IT students (157).\n",
        "\n",
        "n_nonit = Number of Non IT students (698 - 157).\n",
        "\n",
        "n_it_failed = Number of IT students who failed at least one subject (31).\n",
        "\n",
        "n_nonit_failed = Number of non-IT students who failed at least on subject (77-31 = 46)."
      ],
      "metadata": {
        "nteract": {
          "transient": {
            "deleting": false
          }
        }
      }
    },
    {
      "cell_type": "code",
      "source": [
        "# Get the row numbers (indices) for each group\n",
        "it_indices = df[df['course_group']== 'IT'].index\n",
        "nonit_indices = df[df['course_group']== 'Non-IT'].index"
      ],
      "outputs": [],
      "execution_count": 32,
      "metadata": {
        "gather": {
          "logged": 1752554444007
        }
      }
    },
    {
      "cell_type": "code",
      "source": [
        "# Randomly pick students who Failed at least One Subject\n",
        "it_failed_indices = np.random.choice(it_indices, n_it_failed, replace = False)\n",
        "\n",
        "# Filter the DataFrame to only those indices\n",
        "it_subset = df.loc[it_failed_indices]\n",
        "it_subset['academic_status'].value_counts()\n"
      ],
      "outputs": [
        {
          "output_type": "execute_result",
          "execution_count": 37,
          "data": {
            "text/plain": "Satisfactory        25\nConditional          3\nAcademic Caution     3\nName: academic_status, dtype: int64"
          },
          "metadata": {}
        }
      ],
      "execution_count": 37,
      "metadata": {
        "gather": {
          "logged": 1752554493864
        }
      }
    },
    {
      "cell_type": "code",
      "source": [
        "# Step 3: Keep only rows where academic_status is not \"Satisfactory\"\n",
        "filtered_it_failed_subset = it_subset[it_subset['academic_status'] != \"Satisfactory\"]\n",
        "filtered_it_failed_subset[\"academic_status\"].unique()"
      ],
      "outputs": [
        {
          "output_type": "execute_result",
          "execution_count": 34,
          "data": {
            "text/plain": "array(['Conditional', 'Academic Caution'], dtype=object)"
          },
          "metadata": {}
        }
      ],
      "execution_count": 34,
      "metadata": {
        "gather": {
          "logged": 1752554444656
        }
      }
    },
    {
      "cell_type": "code",
      "source": [
        "# Filter for IT students\n",
        "it_students = df[df['course_group'] == 'IT']\n",
        "\n",
        "# Get unique combinations of IT students and their academic status\n",
        "unique_it_status = it_students[['course_group', 'academic_status']].drop_duplicates()\n",
        "\n",
        "unique_it_status.value_counts()"
      ],
      "outputs": [
        {
          "output_type": "execute_result",
          "execution_count": 35,
          "data": {
            "text/plain": "course_group  academic_status \nIT            Academic Caution    1\n              Conditional         1\n              Excluded            1\n              Satisfactory        1\ndtype: int64"
          },
          "metadata": {}
        }
      ],
      "execution_count": 35,
      "metadata": {
        "gather": {
          "logged": 1752554444993
        }
      }
    },
    {
      "cell_type": "code",
      "source": [
        "\n",
        "filtered_it_failed_indices = it_failed_indices[df['academic_status']!=\"Satisfactory\"]\n",
        "filtered_it_failed_indices\n",
        "nonit_failed_indices = np.random.choice(nonit_indices, n_nonit_failed, replace = False)\n",
        "failed_indices = np.concatenate([it_failed_indices, nonit_failed_indices])"
      ],
      "outputs": [
        {
          "output_type": "error",
          "ename": "IndexError",
          "evalue": "boolean index did not match indexed array along dimension 0; dimension is 31 but corresponding boolean dimension is 698",
          "traceback": [
            "\u001b[0;31m---------------------------------------------------------------------------\u001b[0m",
            "\u001b[0;31mIndexError\u001b[0m                                Traceback (most recent call last)",
            "Cell \u001b[0;32mIn[36], line 1\u001b[0m\n\u001b[0;32m----> 1\u001b[0m filtered_it_failed_indices \u001b[38;5;241m=\u001b[39m \u001b[43mit_failed_indices\u001b[49m\u001b[43m[\u001b[49m\u001b[43mdf\u001b[49m\u001b[43m[\u001b[49m\u001b[38;5;124;43m'\u001b[39;49m\u001b[38;5;124;43macademic_status\u001b[39;49m\u001b[38;5;124;43m'\u001b[39;49m\u001b[43m]\u001b[49m\u001b[38;5;241;43m!=\u001b[39;49m\u001b[38;5;124;43m\"\u001b[39;49m\u001b[38;5;124;43mSatisfactory\u001b[39;49m\u001b[38;5;124;43m\"\u001b[39;49m\u001b[43m]\u001b[49m\n\u001b[1;32m      2\u001b[0m filtered_it_failed_indices\n\u001b[1;32m      3\u001b[0m nonit_failed_indices \u001b[38;5;241m=\u001b[39m np\u001b[38;5;241m.\u001b[39mrandom\u001b[38;5;241m.\u001b[39mchoice(nonit_indices, n_nonit_failed, replace \u001b[38;5;241m=\u001b[39m \u001b[38;5;28;01mFalse\u001b[39;00m)\n",
            "\u001b[0;31mIndexError\u001b[0m: boolean index did not match indexed array along dimension 0; dimension is 31 but corresponding boolean dimension is 698"
          ]
        }
      ],
      "execution_count": 36,
      "metadata": {
        "gather": {
          "logged": 1752554445252
        }
      }
    },
    {
      "cell_type": "code",
      "source": [],
      "outputs": [],
      "execution_count": null,
      "metadata": {
        "gather": {
          "logged": 1752552856487
        }
      }
    },
    {
      "cell_type": "code",
      "source": [
        "# Among the failed students, pick who failed 3 or more subjects\n",
        "failed_3plus_indices = np.random.choice(failed_indices, n_failed_3plus, replace=False)\n",
        "failed_1or2_indices = np.setdiff1d(failed_indices, failed_3plus_indices) # Return the elements in failed_indices that are NOT in failed_3plus_indices"
      ],
      "outputs": [],
      "execution_count": 35,
      "metadata": {
        "gather": {
          "logged": 1752552856790
        }
      }
    },
    {
      "cell_type": "code",
      "source": [
        "# Assign the number of failed subjects\n",
        "# df.loc[failed_3plus_indices, 'failed_subjects'] = np.random.randint(3,5, size=n_failed_3plus)\n",
        "# df.loc[failed_1or2_indices, 'failed_subjects'] = np.random.randint(1,3, size=len(failed_1or2_indices))"
      ],
      "outputs": [],
      "execution_count": 36,
      "metadata": {
        "gather": {
          "logged": 1752552857153
        }
      }
    },
    {
      "cell_type": "code",
      "source": [
        "# Set everyone to Satisfactory and 0 failed_subjects by default\n",
        "df['academic_status'] = 'Satisfactory'\n",
        "df['failed_subjects'] = 0\n",
        "\n",
        "# Assign Excluded: failed 6–8 subjects\n",
        "n_excluded = 5  \n",
        "excluded_indices = np.random.choice(failed_3plus_indices, n_excluded, replace=False)\n",
        "df.loc[excluded_indices, 'academic_status'] = 'Excluded'\n",
        "df.loc[excluded_indices, 'failed_subjects'] = np.random.randint(6, 9, size=n_excluded)\n",
        "\n",
        "# Remove Excluded from failed_3plus_indices\n",
        "remaining_3plus_indices = np.setdiff1d(failed_3plus_indices, excluded_indices)\n",
        "\n",
        "# Assign Conditional: failed 2–4 subjects\n",
        "n_conditional = 42  # Adjust as needed for your count\n",
        "conditional_indices = np.random.choice(\n",
        "    np.concatenate([remaining_3plus_indices, failed_1or2_indices]),\n",
        "    n_conditional,\n",
        "    replace=False\n",
        ")\n",
        "df.loc[conditional_indices, 'academic_status'] = 'Conditional'\n",
        "df.loc[conditional_indices, 'failed_subjects'] = np.random.randint(2, 5, size=n_conditional)\n",
        "\n",
        "# Remove Conditional from pool\n",
        "remaining_indices = np.setdiff1d(\n",
        "    np.concatenate([remaining_3plus_indices, failed_1or2_indices]),\n",
        "    conditional_indices\n",
        ")\n",
        "\n",
        "# Assign Academic Caution: failed 1–2 subjects\n",
        "n_caution = 70  # Adjust as needed for your count\n",
        "caution_indices = np.random.choice(remaining_indices, n_caution, replace=False)\n",
        "df.loc[caution_indices, 'academic_status'] = 'Academic Caution'\n",
        "df.loc[caution_indices, 'failed_subjects'] = np.random.randint(1, 3, size=n_caution)\n"
      ],
      "outputs": [
        {
          "output_type": "error",
          "ename": "ValueError",
          "evalue": "Cannot take a larger sample than population when 'replace=False'",
          "traceback": [
            "\u001b[0;31m---------------------------------------------------------------------------\u001b[0m",
            "\u001b[0;31mValueError\u001b[0m                                Traceback (most recent call last)",
            "Cell \u001b[0;32mIn[37], line 32\u001b[0m\n\u001b[1;32m     30\u001b[0m \u001b[38;5;66;03m# Assign Academic Caution: failed 1–2 subjects\u001b[39;00m\n\u001b[1;32m     31\u001b[0m n_caution \u001b[38;5;241m=\u001b[39m \u001b[38;5;241m70\u001b[39m  \u001b[38;5;66;03m# Adjust as needed for your count\u001b[39;00m\n\u001b[0;32m---> 32\u001b[0m caution_indices \u001b[38;5;241m=\u001b[39m \u001b[43mnp\u001b[49m\u001b[38;5;241;43m.\u001b[39;49m\u001b[43mrandom\u001b[49m\u001b[38;5;241;43m.\u001b[39;49m\u001b[43mchoice\u001b[49m\u001b[43m(\u001b[49m\u001b[43mremaining_indices\u001b[49m\u001b[43m,\u001b[49m\u001b[43m \u001b[49m\u001b[43mn_caution\u001b[49m\u001b[43m,\u001b[49m\u001b[43m \u001b[49m\u001b[43mreplace\u001b[49m\u001b[38;5;241;43m=\u001b[39;49m\u001b[38;5;28;43;01mFalse\u001b[39;49;00m\u001b[43m)\u001b[49m\n\u001b[1;32m     33\u001b[0m df\u001b[38;5;241m.\u001b[39mloc[caution_indices, \u001b[38;5;124m'\u001b[39m\u001b[38;5;124macademic_status\u001b[39m\u001b[38;5;124m'\u001b[39m] \u001b[38;5;241m=\u001b[39m \u001b[38;5;124m'\u001b[39m\u001b[38;5;124mAcademic Caution\u001b[39m\u001b[38;5;124m'\u001b[39m\n\u001b[1;32m     34\u001b[0m df\u001b[38;5;241m.\u001b[39mloc[caution_indices, \u001b[38;5;124m'\u001b[39m\u001b[38;5;124mfailed_subjects\u001b[39m\u001b[38;5;124m'\u001b[39m] \u001b[38;5;241m=\u001b[39m np\u001b[38;5;241m.\u001b[39mrandom\u001b[38;5;241m.\u001b[39mrandint(\u001b[38;5;241m1\u001b[39m, \u001b[38;5;241m3\u001b[39m, size\u001b[38;5;241m=\u001b[39mn_caution)\n",
            "File \u001b[0;32mmtrand.pyx:965\u001b[0m, in \u001b[0;36mnumpy.random.mtrand.RandomState.choice\u001b[0;34m()\u001b[0m\n",
            "\u001b[0;31mValueError\u001b[0m: Cannot take a larger sample than population when 'replace=False'"
          ]
        }
      ],
      "execution_count": 37,
      "metadata": {
        "gather": {
          "logged": 1752552857412
        }
      }
    },
    {
      "cell_type": "code",
      "source": [
        "print(\"Total students:\", len(df))\n",
        "print(\"Students with at least 1 failed subject:\", (df['failed_subjects'] > 0).sum())\n",
        "print(\"Students with 3+ failed subjects:\", (df['failed_subjects'] >= 3).sum())\n",
        "print(\"IT students with at least 1 failed subject:\", df[(df['course_group'] == 'IT') & (df['failed_subjects'] > 0)].shape[0])\n",
        "print(\"Non-IT students with at least 1 failed subject:\", df[(df['course_group'] == 'Non-IT') & (df['failed_subjects'] > 0)].shape[0])\n"
      ],
      "outputs": [],
      "execution_count": null,
      "metadata": {
        "gather": {
          "logged": 1752552857498
        }
      }
    },
    {
      "cell_type": "code",
      "source": [
        "df['failed_subjects'].isnull().sum()"
      ],
      "outputs": [
        {
          "output_type": "execute_result",
          "execution_count": 38,
          "data": {
            "text/plain": "0"
          },
          "metadata": {}
        }
      ],
      "execution_count": 38,
      "metadata": {
        "gather": {
          "logged": 1752551112021
        }
      }
    },
    {
      "cell_type": "code",
      "source": [],
      "outputs": [],
      "execution_count": null,
      "metadata": {
        "gather": {
          "logged": 1752541118118
        }
      }
    },
    {
      "cell_type": "code",
      "source": [],
      "outputs": [],
      "execution_count": null,
      "metadata": {
        "gather": {
          "logged": 1752541118401
        }
      }
    },
    {
      "cell_type": "code",
      "source": [
        "# Filter rows where student_cohort is 'new' and failed_subjects > 0\n",
        "filtered_df = df[(df['student_cohort'] == 'New') & (df['failed_subjects'] > 0)]\n",
        "\n",
        "# Display the filtered rows\n",
        "print(filtered_df)\n",
        "len(filtered_df)"
      ],
      "outputs": [
        {
          "output_type": "stream",
          "name": "stdout",
          "text": "     student_id                                             course  \\\n10          672              master of data science (professional)   \n101         165  master of education - master of business admin...   \n108         193                   master of information technology   \n134         515                  master of professional accounting   \n416          68                  master of business administration   \n425         384                   master of engineering management   \n451         538  master of international tourism and hospitalit...   \n493         621  master of professional accounting - master of ...   \n530         387                   master of engineering management   \n\n    student_cohort academic_status  failed_subjects  \\\n10             New    Satisfactory              2.0   \n101            New    Satisfactory              3.0   \n108            New    Satisfactory              2.0   \n134            New    Satisfactory              4.0   \n416            New    Satisfactory              3.0   \n425            New    Satisfactory              4.0   \n451            New    Satisfactory              2.0   \n493            New    Satisfactory              4.0   \n530            New    Satisfactory              4.0   \n\n           study_skills(attended)          referral    pp_meeting  \\\n10   Essential Skills and Reading             Other  Not relevant   \n101                    Studiocity        Enrollment        Booked   \n108                       Writing        Enrollment   Rescheduled   \n134                       Writing  Student Advocate   Rescheduled   \n416                       Writing             Other   Rescheduled   \n425                       Writing  Student Advocate      Attended   \n451  Essential Skills and Reading  Student Advocate  Not relevant   \n493                       Writing  Student Advocate  Not relevant   \n530           4R Essential Skills             Other  Not relevant   \n\n    self_assessment readiness_assessment_results follow_up follow_up_type  \\\n10              Yes       L/G:9/10 N:5/10 R:8/10        No            F2F   \n101              No       L/G:9/10 N:5/10 R:8/10       Yes          Email   \n108             Yes       L/G:9/10 N:5/10 R:8/10        No            F2F   \n134              No       L/G:9/10 N:5/10 R:8/10       Yes          Phone   \n416             Yes       L/G:9/10 N:5/10 R:8/10        No          Email   \n425             Yes       L/G:9/10 N:5/10 R:8/10       Yes          Email   \n451             Yes       L/G:9/10 N:5/10 R:8/10        No          Phone   \n493             Yes       L/G:9/10 N:5/10 R:8/10       Yes          Phone   \n530              No       L/G:9/10 N:5/10 R:8/10       Yes            F2F   \n\n    subject_1  subject_1_assess_1  subject_1_assess_2  subject_1_assess_3  \\\n10     MA5831                2.09               90.53               89.91   \n101    ED5097               88.92               21.11               16.46   \n108    CP5046               41.65               44.19               23.35   \n134    CO5117               72.09               61.65                7.32   \n416    LB5113               11.34                5.86               81.13   \n425    EG5200               21.44               99.84                8.90   \n451    TO5101               67.50               89.29               58.98   \n493    CO5117               52.15               92.22               76.73   \n530    EG5200                5.77               73.18                6.39   \n\n     subject_1_assess_4  attendance_1 learn_jcu_issues_1  lecturer_referral_1  \\\n10                88.33            97             Access       Non Submission   \n101               67.45            50             Access  Concern for Welfare   \n108               51.85            68             Access  Concern for Welfare   \n134               85.54            88             Access           Attendance   \n416               84.06             7             Access           Attendance   \n425               26.03            64             Access           Attendance   \n451               43.40             1             Access       Non Submission   \n493               19.15            96             Access           Attendance   \n530               97.49             6             Access  Concern for Welfare   \n\n    subject_2  subject_2_assess_1  subject_2_assess_2  subject_2_assess_3  \\\n10     MA5840               90.98               90.52               52.03   \n101    ED5880               25.19               50.18               48.81   \n108    CP5047               17.65               65.46               52.07   \n134    CO5103               24.90               47.01               18.16   \n416    LB5202               12.81               36.35               39.35   \n425    EG5220               29.98               63.16               52.90   \n451    TO5103               95.87               91.09               87.17   \n493    CO5103               91.37                4.75                0.04   \n530    EG5220                7.28               59.43               10.25   \n\n     subject_2_assess_4  attendance_2 learn_jcu_issues_2  lecturer_referral_2  \\\n10                84.66            17             Access           Attendance   \n101               38.48            14             Access  Concern for Welfare   \n108               95.73            99             Access  Concern for Welfare   \n134               50.16            97             Access           Attendance   \n416               80.44            27             Access  Concern for Welfare   \n425               91.78            45          No Access  Concern for Welfare   \n451               51.01            47             Access           Attendance   \n493                1.93            90             Access       Non Submission   \n530               51.34            90             Access  Concern for Welfare   \n\n    subject_3  subject_3_assess_1  subject_3_assess_2  subject_3_assess_3  \\\n10     MA5851               66.82               88.60               29.88   \n101    LB5113               81.72               26.71               73.56   \n108    CP5503               67.12               55.95               51.87   \n134    CO5109               72.95               71.11               45.74   \n416    LB5205               35.75               61.98               69.22   \n425    EG5310               80.50               77.92               44.47   \n451    TO5104               90.08               69.05               34.11   \n493    LB5113                3.28               16.39               34.55   \n530    EG5310               16.10               40.88               90.10   \n\n     subject_3_assess_4  attendance_3 learn_jcu_issues_3  lecturer_referral_3  \\\n10                97.46            75          No Access           Attendance   \n101               76.05            32          No Access  Concern for Welfare   \n108               91.76            10             Access  Concern for Welfare   \n134               99.65            80             Access       Non Submission   \n416               32.99            43             Access           Attendance   \n425               72.11            89             Access       Non Submission   \n451               57.73            94             Access           Attendance   \n493               82.24            18             Access  Concern for Welfare   \n530               46.56            34             Access           Attendance   \n\n                                              comments     identified_issues  \\\n10   Week 5. Low engagement in tutorials. Follow-up...       Death in family   \n101  Week 2. Student did not attend orientation. Co...       Late Enrollment   \n108  Week 7. Missed second assessment. Student cont...  Poor time management   \n134  booked to see a doctor. Week 5. Student contac...  Poor time management   \n416  Week 5. Student absent from multiple classes. ...  Poor time management   \n425  booked to see a doctor. Week 5. Student contac...       Death in family   \n451  Week 3. Student enrolled late. Missing foundat...       Late Enrollment   \n493  Week 3. Student enrolled late. Missing foundat...         Mental health   \n530  Week 7. Missed second assessment. Student cont...       Late Enrollment   \n\n    course_group  \n10            IT  \n101       Non-IT  \n108           IT  \n134       Non-IT  \n416       Non-IT  \n425       Non-IT  \n451       Non-IT  \n493       Non-IT  \n530       Non-IT  \n"
        },
        {
          "output_type": "execute_result",
          "execution_count": 39,
          "data": {
            "text/plain": "9"
          },
          "metadata": {}
        }
      ],
      "execution_count": 39,
      "metadata": {
        "gather": {
          "logged": 1752551112417
        }
      }
    },
    {
      "cell_type": "code",
      "source": [],
      "outputs": [],
      "execution_count": null,
      "metadata": {
        "gather": {
          "logged": 1752538387978
        }
      }
    },
    {
      "cell_type": "code",
      "source": [],
      "outputs": [],
      "execution_count": null,
      "metadata": {
        "gather": {
          "logged": 1752540561015
        }
      }
    },
    {
      "cell_type": "code",
      "source": [],
      "outputs": [],
      "execution_count": null,
      "metadata": {
        "gather": {
          "logged": 1752540681740
        }
      }
    },
    {
      "cell_type": "code",
      "source": [],
      "outputs": [],
      "execution_count": null,
      "metadata": {
        "gather": {
          "logged": 1752540689964
        }
      }
    },
    {
      "cell_type": "code",
      "source": [],
      "outputs": [],
      "execution_count": null,
      "metadata": {
        "gather": {
          "logged": 1752540700444
        }
      }
    }
  ],
  "metadata": {
    "kernelspec": {
      "name": "python310-sdkv2",
      "language": "python",
      "display_name": "Python 3.10 - SDK v2"
    },
    "language_info": {
      "name": "python",
      "version": "3.10.18",
      "mimetype": "text/x-python",
      "codemirror_mode": {
        "name": "ipython",
        "version": 3
      },
      "pygments_lexer": "ipython3",
      "nbconvert_exporter": "python",
      "file_extension": ".py"
    },
    "microsoft": {
      "ms_spell_check": {
        "ms_spell_check_language": "en"
      },
      "host": {
        "AzureML": {
          "notebookHasBeenCompleted": true
        }
      }
    },
    "kernel_info": {
      "name": "python310-sdkv2"
    },
    "nteract": {
      "version": "nteract-front-end@1.0.0"
    }
  },
  "nbformat": 4,
  "nbformat_minor": 2
}