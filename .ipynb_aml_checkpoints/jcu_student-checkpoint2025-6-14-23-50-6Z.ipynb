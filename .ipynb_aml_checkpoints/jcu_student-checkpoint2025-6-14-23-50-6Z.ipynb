{
  "cells": [
    {
      "cell_type": "code",
      "source": [
        "# Import required libraries\n",
        "import pandas as pd\n",
        "import numpy as np"
      ],
      "outputs": [],
      "execution_count": 1,
      "metadata": {
        "gather": {
          "logged": 1752493461420
        }
      }
    },
    {
      "cell_type": "code",
      "source": [
        "# Load dataset\n",
        "df = pd.read_excel('student_data.xlsx')\n",
        "df.head()"
      ],
      "outputs": [
        {
          "output_type": "execute_result",
          "execution_count": 2,
          "data": {
            "text/plain": "   student_id                             course student_cohort  \\\n0           1  Master of Business Administration    SRI to JCUB   \n1           2  Master of Business Administration     Continuing   \n2           3  Master of Business Administration     First year   \n3           4  Master of Business Administration            New   \n4           5  Master of Business Administration     Continuing   \n\n  academic_status  failed_subjects        study_skills(attended)  \\\n0         At Risk              NaN              Essential Skills   \n1        Excluded              NaN                   Referencing   \n2         At Risk              NaN                       Writing   \n3        Excluded              NaN              Essential Skills   \n4         At Risk              NaN  Essential Skills and Reading   \n\n             referral    pp_meeting self_assessment  \\\n0  Student Counsellor        Booked             Yes   \n1    Student Advocate  Not relevant             Yes   \n2          Enrollment      Attended             Yes   \n3    Student Advocate      Attended              No   \n4  Student Counsellor  Not relevant              No   \n\n  readiness_assessment_results  ... subject_3 subject_3_assess_1  \\\n0       L/G:9/10 N:5/10 R:8/10  ...       NaN              39.02   \n1       L/G:9/10 N:5/10 R:8/10  ...       NaN               3.72   \n2       L/G:9/10 N:5/10 R:8/10  ...       NaN              77.77   \n3       L/G:9/10 N:5/10 R:8/10  ...       NaN              95.41   \n4       L/G:9/10 N:5/10 R:8/10  ...       NaN              90.12   \n\n   subject_3_assess_2  subject_3_assess_3  subject_4_assess_4  attendance_3  \\\n0               17.71               94.50                9.83            89   \n1               38.52               25.80               11.80           100   \n2               77.27               81.95               62.35            42   \n3                8.93                3.21               99.15            51   \n4               52.18               36.05               20.65            19   \n\n   learn_jcu_issues_3  lecturer_referral_3  \\\n0              Access       Non Submission   \n1           No Access       Non Submission   \n2              Access           Attendance   \n3              Access  Concern for Welfare   \n4              Access  Concern for Welfare   \n\n                                            comments     identified_issues  \n0  Week 8. Student re-engaged with tutorials. Sub...       Late Enrollment  \n1  booked to see a doctor. Week 5. Student contac...  Poor time management  \n2  Week 8. Student re-engaged with tutorials. Sub...  Poor time management  \n3  Week 6. Student submitted assessment late. Ext...       Death in family  \n4  Week 3 late enrolment. Student finding it diff...              Sickness  \n\n[5 rows x 38 columns]",
            "text/html": "<div>\n<style scoped>\n    .dataframe tbody tr th:only-of-type {\n        vertical-align: middle;\n    }\n\n    .dataframe tbody tr th {\n        vertical-align: top;\n    }\n\n    .dataframe thead th {\n        text-align: right;\n    }\n</style>\n<table border=\"1\" class=\"dataframe\">\n  <thead>\n    <tr style=\"text-align: right;\">\n      <th></th>\n      <th>student_id</th>\n      <th>course</th>\n      <th>student_cohort</th>\n      <th>academic_status</th>\n      <th>failed_subjects</th>\n      <th>study_skills(attended)</th>\n      <th>referral</th>\n      <th>pp_meeting</th>\n      <th>self_assessment</th>\n      <th>readiness_assessment_results</th>\n      <th>...</th>\n      <th>subject_3</th>\n      <th>subject_3_assess_1</th>\n      <th>subject_3_assess_2</th>\n      <th>subject_3_assess_3</th>\n      <th>subject_4_assess_4</th>\n      <th>attendance_3</th>\n      <th>learn_jcu_issues_3</th>\n      <th>lecturer_referral_3</th>\n      <th>comments</th>\n      <th>identified_issues</th>\n    </tr>\n  </thead>\n  <tbody>\n    <tr>\n      <th>0</th>\n      <td>1</td>\n      <td>Master of Business Administration</td>\n      <td>SRI to JCUB</td>\n      <td>At Risk</td>\n      <td>NaN</td>\n      <td>Essential Skills</td>\n      <td>Student Counsellor</td>\n      <td>Booked</td>\n      <td>Yes</td>\n      <td>L/G:9/10 N:5/10 R:8/10</td>\n      <td>...</td>\n      <td>NaN</td>\n      <td>39.02</td>\n      <td>17.71</td>\n      <td>94.50</td>\n      <td>9.83</td>\n      <td>89</td>\n      <td>Access</td>\n      <td>Non Submission</td>\n      <td>Week 8. Student re-engaged with tutorials. Sub...</td>\n      <td>Late Enrollment</td>\n    </tr>\n    <tr>\n      <th>1</th>\n      <td>2</td>\n      <td>Master of Business Administration</td>\n      <td>Continuing</td>\n      <td>Excluded</td>\n      <td>NaN</td>\n      <td>Referencing</td>\n      <td>Student Advocate</td>\n      <td>Not relevant</td>\n      <td>Yes</td>\n      <td>L/G:9/10 N:5/10 R:8/10</td>\n      <td>...</td>\n      <td>NaN</td>\n      <td>3.72</td>\n      <td>38.52</td>\n      <td>25.80</td>\n      <td>11.80</td>\n      <td>100</td>\n      <td>No Access</td>\n      <td>Non Submission</td>\n      <td>booked to see a doctor. Week 5. Student contac...</td>\n      <td>Poor time management</td>\n    </tr>\n    <tr>\n      <th>2</th>\n      <td>3</td>\n      <td>Master of Business Administration</td>\n      <td>First year</td>\n      <td>At Risk</td>\n      <td>NaN</td>\n      <td>Writing</td>\n      <td>Enrollment</td>\n      <td>Attended</td>\n      <td>Yes</td>\n      <td>L/G:9/10 N:5/10 R:8/10</td>\n      <td>...</td>\n      <td>NaN</td>\n      <td>77.77</td>\n      <td>77.27</td>\n      <td>81.95</td>\n      <td>62.35</td>\n      <td>42</td>\n      <td>Access</td>\n      <td>Attendance</td>\n      <td>Week 8. Student re-engaged with tutorials. Sub...</td>\n      <td>Poor time management</td>\n    </tr>\n    <tr>\n      <th>3</th>\n      <td>4</td>\n      <td>Master of Business Administration</td>\n      <td>New</td>\n      <td>Excluded</td>\n      <td>NaN</td>\n      <td>Essential Skills</td>\n      <td>Student Advocate</td>\n      <td>Attended</td>\n      <td>No</td>\n      <td>L/G:9/10 N:5/10 R:8/10</td>\n      <td>...</td>\n      <td>NaN</td>\n      <td>95.41</td>\n      <td>8.93</td>\n      <td>3.21</td>\n      <td>99.15</td>\n      <td>51</td>\n      <td>Access</td>\n      <td>Concern for Welfare</td>\n      <td>Week 6. Student submitted assessment late. Ext...</td>\n      <td>Death in family</td>\n    </tr>\n    <tr>\n      <th>4</th>\n      <td>5</td>\n      <td>Master of Business Administration</td>\n      <td>Continuing</td>\n      <td>At Risk</td>\n      <td>NaN</td>\n      <td>Essential Skills and Reading</td>\n      <td>Student Counsellor</td>\n      <td>Not relevant</td>\n      <td>No</td>\n      <td>L/G:9/10 N:5/10 R:8/10</td>\n      <td>...</td>\n      <td>NaN</td>\n      <td>90.12</td>\n      <td>52.18</td>\n      <td>36.05</td>\n      <td>20.65</td>\n      <td>19</td>\n      <td>Access</td>\n      <td>Concern for Welfare</td>\n      <td>Week 3 late enrolment. Student finding it diff...</td>\n      <td>Sickness</td>\n    </tr>\n  </tbody>\n</table>\n<p>5 rows × 38 columns</p>\n</div>"
          },
          "metadata": {}
        }
      ],
      "execution_count": 2,
      "metadata": {
        "gather": {
          "logged": 1752493462152
        }
      }
    },
    {
      "cell_type": "markdown",
      "source": [
        "#### Data Cleaning and Exploration"
      ],
      "metadata": {
        "nteract": {
          "transient": {
            "deleting": false
          }
        }
      }
    },
    {
      "cell_type": "code",
      "source": [
        "# Print a concise summary of the DataFrame, including column names, data types, non-null counts, and memory usage.\n",
        "df.info()"
      ],
      "outputs": [
        {
          "output_type": "stream",
          "name": "stdout",
          "text": "<class 'pandas.core.frame.DataFrame'>\nRangeIndex: 698 entries, 0 to 697\nData columns (total 38 columns):\n #   Column                        Non-Null Count  Dtype  \n---  ------                        --------------  -----  \n 0   student_id                    698 non-null    int64  \n 1   course                        698 non-null    object \n 2   student_cohort                698 non-null    object \n 3   academic_status               698 non-null    object \n 4   failed_subjects               0 non-null      float64\n 5   study_skills(attended)        698 non-null    object \n 6   referral                      698 non-null    object \n 7   pp_meeting                    698 non-null    object \n 8   self_assessment               698 non-null    object \n 9   readiness_assessment_results  698 non-null    object \n 10  follow_up                     698 non-null    object \n 11  follow_up_type                698 non-null    object \n 12  subject_1                     0 non-null      float64\n 13  subject_1_assess_1            698 non-null    float64\n 14  subject_1_assess_2            698 non-null    float64\n 15  subject_1_assess_3            698 non-null    float64\n 16  subject_1_assess_4            698 non-null    float64\n 17  attendance_1                  698 non-null    int64  \n 18  learn_jcu_issues_1            698 non-null    object \n 19  lecturer_referral_1           698 non-null    object \n 20  subject_2                     0 non-null      float64\n 21  subject_2_assess_1            698 non-null    float64\n 22  subject_2_assess_2            698 non-null    float64\n 23  subject_2_assess_3            698 non-null    float64\n 24  subject_2_assess_4            698 non-null    float64\n 25  attendance_2                  698 non-null    int64  \n 26  learn_jcu_issues_2            698 non-null    object \n 27  lecturer_referral_2           698 non-null    object \n 28  subject_3                     0 non-null      float64\n 29  subject_3_assess_1            698 non-null    float64\n 30  subject_3_assess_2            698 non-null    float64\n 31  subject_3_assess_3            698 non-null    float64\n 32  subject_4_assess_4            698 non-null    float64\n 33  attendance_3                  698 non-null    int64  \n 34  learn_jcu_issues_3            698 non-null    object \n 35  lecturer_referral_3           698 non-null    object \n 36  comments                      698 non-null    object \n 37  identified_issues             698 non-null    object \ndtypes: float64(16), int64(4), object(18)\nmemory usage: 207.3+ KB\n"
        }
      ],
      "execution_count": 3,
      "metadata": {
        "gather": {
          "logged": 1752493462336
        }
      }
    },
    {
      "cell_type": "code",
      "source": [
        "df.rename(columns={'subject_4_assess_4':'subject_3_assess_4'}, inplace=True)\n",
        "df.info()"
      ],
      "outputs": [
        {
          "output_type": "stream",
          "name": "stdout",
          "text": "<class 'pandas.core.frame.DataFrame'>\nRangeIndex: 698 entries, 0 to 697\nData columns (total 38 columns):\n #   Column                        Non-Null Count  Dtype  \n---  ------                        --------------  -----  \n 0   student_id                    698 non-null    int64  \n 1   course                        698 non-null    object \n 2   student_cohort                698 non-null    object \n 3   academic_status               698 non-null    object \n 4   failed_subjects               0 non-null      float64\n 5   study_skills(attended)        698 non-null    object \n 6   referral                      698 non-null    object \n 7   pp_meeting                    698 non-null    object \n 8   self_assessment               698 non-null    object \n 9   readiness_assessment_results  698 non-null    object \n 10  follow_up                     698 non-null    object \n 11  follow_up_type                698 non-null    object \n 12  subject_1                     0 non-null      float64\n 13  subject_1_assess_1            698 non-null    float64\n 14  subject_1_assess_2            698 non-null    float64\n 15  subject_1_assess_3            698 non-null    float64\n 16  subject_1_assess_4            698 non-null    float64\n 17  attendance_1                  698 non-null    int64  \n 18  learn_jcu_issues_1            698 non-null    object \n 19  lecturer_referral_1           698 non-null    object \n 20  subject_2                     0 non-null      float64\n 21  subject_2_assess_1            698 non-null    float64\n 22  subject_2_assess_2            698 non-null    float64\n 23  subject_2_assess_3            698 non-null    float64\n 24  subject_2_assess_4            698 non-null    float64\n 25  attendance_2                  698 non-null    int64  \n 26  learn_jcu_issues_2            698 non-null    object \n 27  lecturer_referral_2           698 non-null    object \n 28  subject_3                     0 non-null      float64\n 29  subject_3_assess_1            698 non-null    float64\n 30  subject_3_assess_2            698 non-null    float64\n 31  subject_3_assess_3            698 non-null    float64\n 32  subject_3_assess_4            698 non-null    float64\n 33  attendance_3                  698 non-null    int64  \n 34  learn_jcu_issues_3            698 non-null    object \n 35  lecturer_referral_3           698 non-null    object \n 36  comments                      698 non-null    object \n 37  identified_issues             698 non-null    object \ndtypes: float64(16), int64(4), object(18)\nmemory usage: 207.3+ KB\n"
        }
      ],
      "execution_count": 4,
      "metadata": {
        "gather": {
          "logged": 1752493462508
        }
      }
    },
    {
      "cell_type": "code",
      "source": [
        "df['course'] = df['course'].str.strip().str.lower()\n",
        "df['course'].unique()"
      ],
      "outputs": [
        {
          "output_type": "execute_result",
          "execution_count": 5,
          "data": {
            "text/plain": "array(['master of business administration',\n       'master of education - master of business administration',\n       'master of information technology', 'bachelor of business',\n       'master of engineering management',\n       'bachelor of information technology',\n       'master of professional accounting',\n       'master of international tourism and hospitality management',\n       'bachelor of tourism, hospitality and events',\n       'master of professional account and master of business administration',\n       'bachelor of commerce',\n       'master of international tourism and hospitality management - master of business administration',\n       'master of data science (professional)',\n       'master of information technology - master of business administration',\n       'postgraduate qualifying program - business'], dtype=object)"
          },
          "metadata": {}
        }
      ],
      "execution_count": 5,
      "metadata": {
        "gather": {
          "logged": 1752493462719
        }
      }
    },
    {
      "cell_type": "code",
      "source": [
        "# Map subject code to subject names using Dictionary\n",
        "subject_dict = {\n",
        "    \"BU1002\": \"Accounting for Decision Making\",\n",
        "    \"BU1003\": \"Principles of Economics\",\n",
        "    \"BU1007\": \"Principles of Data Analysis for Business\",\n",
        "    \"BU1112\": \"Business Law\",\n",
        "    \"BX2011\": \"Foundation of Accounting Principles\",\n",
        "    \"BX2014\": \"Principles of Finance\",\n",
        "    \"CP1401\": \"Fundamentals of Problem Solving and Programming I\",\n",
        "    \"CP1402\": \"Internet Fundamentals\",\n",
        "    \"CP1404\": \"Programming II\",\n",
        "    \"TO1008\": \"Introduction to Tourism, Hospitality and Events Management\",\n",
        "    \"TO2117\": \"Food and Beverage Management\",\n",
        "    \"TO3052\": \"Experience Design for Tourism Hospitality and Events\",\n",
        "    \"LB5113\": \"Corporate Strategy\",\n",
        "    \"LB5202\": \"Marketing Essentials\",\n",
        "    \"LB5205\": \"People in Organisations\",\n",
        "    \"MA5831\": \"Advanced Data Management and Analysis using SAS\",\n",
        "    \"MA5840\": \"Data Science and Strategic Decision Making for Business\",\n",
        "    \"MA5851\": \"Data Science Master Class 1\",\n",
        "    \"ED5097\": \"Research Design and Proposal\",\n",
        "    \"ED5880\": \"Educational Leadership\",\n",
        "    \"EG5200\": \"Career Planning\",\n",
        "    \"EG5220\": \"Advanced Asset Management and Reliability\",\n",
        "    \"EG5310\": \"Professional Placement\",\n",
        "    \"CP5046\": \"ICT Project 1: Analysis and Design\",\n",
        "    \"CP5047\": \"ICT Project 2: Implementation and Commissioning\",\n",
        "    \"CP5503\": \"Enterprise Database Systems - Oracle\",\n",
        "    \"TO5101\": \"Tourism Systems Analysis\",\n",
        "    \"TO5103\": \"Global Destinations and Competitiveness\",\n",
        "    \"TO5104\": \"Tourist Management Strategies\",\n",
        "    \"CO5117\": \"Introduction to Accounting\",\n",
        "    \"CO5103\": \"Management Accounting\",\n",
        "    \"CO5109\": \"Corporate Finance\",\n",
        "    \"LB5203\": \"Sustainable Enterprise\",\n",
        "    \"LB5212\": \"Accounting and Finance for Managers\"\n",
        "}\n"
      ],
      "outputs": [],
      "execution_count": 6,
      "metadata": {
        "gather": {
          "logged": 1752493462908
        }
      }
    },
    {
      "cell_type": "code",
      "source": [
        "# Get the subject name from the subject code\n",
        "subject_dict['BU1007'] # Output: Principles of Data Analysis for Business "
      ],
      "outputs": [
        {
          "output_type": "execute_result",
          "execution_count": 7,
          "data": {
            "text/plain": "'Principles of Data Analysis for Business'"
          },
          "metadata": {}
        }
      ],
      "execution_count": 7,
      "metadata": {
        "gather": {
          "logged": 1752493463106
        }
      }
    },
    {
      "cell_type": "code",
      "source": [
        "# Map each course to a list of three subject codes\n",
        "course_subjects = {\n",
        "    'Bachelor of Business': ['BU1002', 'BU1003', 'BU1007'],\n",
        "    'Bachelor of Commerce': ['BU1112', 'BX2011', 'BX2014'],\n",
        "    'Bachelor of Information Technology': ['CP1401', 'CP1402', 'CP1404'],\n",
        "    'Bachelor of Tourism, Hospitality and Events': ['TO1008', 'TO2117', 'TO3052'],\n",
        "    'Master of Business Administration': ['LB5113', 'LB5202', 'LB5205'],\n",
        "    'Master of Data Science (Professional)': ['MA5831', 'MA5840', 'MA5851'],\n",
        "    'Master of Education - Master of Business Administration': ['ED5097', 'ED5880', 'LB5113'],\n",
        "    'Master of Engineering Management': ['EG5200', 'EG5220', 'EG5310'],\n",
        "    'Master of Information Technology': ['CP5046', 'CP5047', 'CP5503'],\n",
        "    'Master of Information Technology - Master of Business Administration': ['CP5046', 'LB5113', 'LB5202'],\n",
        "    'Master of International Tourism and Hospitality Management': ['TO5101', 'TO5103', 'TO5104'],\n",
        "    'Master of International Tourism and Hospitality Management - Master of Business Administration': ['TO5101', 'LB5113', 'LB5202'],\n",
        "    'Master of Professional Accounting': ['CO5117', 'CO5103', 'CO5109'],\n",
        "    'Master of Professional Accounting - Master of Business Administration': ['CO5117', 'CO5103', 'LB5113'],\n",
        "    'Postgraduate Qualifying Program - Business': ['LB5202', 'LB5203', 'LB5212']\n",
        "}\n"
      ],
      "outputs": [],
      "execution_count": 8,
      "metadata": {
        "gather": {
          "logged": 1752493463336
        }
      }
    },
    {
      "cell_type": "code",
      "source": [
        "# Get the course subjects from the course\n",
        "course_subjects['Bachelor of Information Technology'] # Output: 'CP1401', 'CP1402', 'CP1404']"
      ],
      "outputs": [
        {
          "output_type": "execute_result",
          "execution_count": 9,
          "data": {
            "text/plain": "['CP1401', 'CP1402', 'CP1404']"
          },
          "metadata": {}
        }
      ],
      "execution_count": 9,
      "metadata": {
        "gather": {
          "logged": 1752493463583
        }
      }
    },
    {
      "cell_type": "code",
      "source": [
        "# Create a new dictionary with cleaned course names as keys\n",
        "# For each key-value pair in the original course_subjects dictionary:\n",
        "#   Remove any leading/trailing spaces from the course name (key) using strip()\n",
        "#   Convert the course name to lowercase using lower()\n",
        "#   Keep the value (list of subjects) unchanged\n",
        "cleaned_course_subjects = {k.strip().lower(): v for k, v in course_subjects.items()}\n",
        "cleaned_course_subjects"
      ],
      "outputs": [
        {
          "output_type": "execute_result",
          "execution_count": 10,
          "data": {
            "text/plain": "{'bachelor of business': ['BU1002', 'BU1003', 'BU1007'],\n 'bachelor of commerce': ['BU1112', 'BX2011', 'BX2014'],\n 'bachelor of information technology': ['CP1401', 'CP1402', 'CP1404'],\n 'bachelor of tourism, hospitality and events': ['TO1008', 'TO2117', 'TO3052'],\n 'master of business administration': ['LB5113', 'LB5202', 'LB5205'],\n 'master of data science (professional)': ['MA5831', 'MA5840', 'MA5851'],\n 'master of education - master of business administration': ['ED5097',\n  'ED5880',\n  'LB5113'],\n 'master of engineering management': ['EG5200', 'EG5220', 'EG5310'],\n 'master of information technology': ['CP5046', 'CP5047', 'CP5503'],\n 'master of information technology - master of business administration': ['CP5046',\n  'LB5113',\n  'LB5202'],\n 'master of international tourism and hospitality management': ['TO5101',\n  'TO5103',\n  'TO5104'],\n 'master of international tourism and hospitality management - master of business administration': ['TO5101',\n  'LB5113',\n  'LB5202'],\n 'master of professional accounting': ['CO5117', 'CO5103', 'CO5109'],\n 'master of professional accounting - master of business administration': ['CO5117',\n  'CO5103',\n  'LB5113'],\n 'postgraduate qualifying program - business': ['LB5202', 'LB5203', 'LB5212']}"
          },
          "metadata": {}
        }
      ],
      "execution_count": 10,
      "metadata": {
        "gather": {
          "logged": 1752493463820
        }
      }
    },
    {
      "cell_type": "code",
      "source": [
        "# Get unique course names in DataFrame\n",
        "unique_courses = df['course'].unique()\n",
        "\n",
        "# Find which course names are not keys in cleaned_course_subjects dictionary\n",
        "courses_not_in_cleaned = [course for course in unique_courses if course not in cleaned_course_subjects]\n",
        "courses_not_in_cleaned"
      ],
      "outputs": [
        {
          "output_type": "execute_result",
          "execution_count": 11,
          "data": {
            "text/plain": "['master of professional account and master of business administration']"
          },
          "metadata": {}
        }
      ],
      "execution_count": 11,
      "metadata": {
        "gather": {
          "logged": 1752493464021
        }
      }
    },
    {
      "cell_type": "code",
      "source": [
        "df['course'].replace('master of professional account and master of business administration', 'master of professional accounting - master of business administration', inplace=True)"
      ],
      "outputs": [],
      "execution_count": 12,
      "metadata": {
        "gather": {
          "logged": 1752493464279
        }
      }
    },
    {
      "cell_type": "code",
      "source": [
        "# check if the course value has been updated\n",
        "df['course'].unique()"
      ],
      "outputs": [
        {
          "output_type": "execute_result",
          "execution_count": 13,
          "data": {
            "text/plain": "array(['master of business administration',\n       'master of education - master of business administration',\n       'master of information technology', 'bachelor of business',\n       'master of engineering management',\n       'bachelor of information technology',\n       'master of professional accounting',\n       'master of international tourism and hospitality management',\n       'bachelor of tourism, hospitality and events',\n       'master of professional accounting - master of business administration',\n       'bachelor of commerce',\n       'master of international tourism and hospitality management - master of business administration',\n       'master of data science (professional)',\n       'master of information technology - master of business administration',\n       'postgraduate qualifying program - business'], dtype=object)"
          },
          "metadata": {}
        }
      ],
      "execution_count": 13,
      "metadata": {
        "gather": {
          "logged": 1752493464469
        }
      }
    },
    {
      "cell_type": "code",
      "source": [
        "# Assigns subject codes to each student based on their course.\n",
        "# For each row, looks up the course in the cleaned_course_subjects dictionary.\n",
        "# If the course is found, fills subject_1, subject_2, and subject_3 with the corresponding subject codes.\n",
        "# If the course is not found, fills these columns with None.\n",
        "def assign_subjects(row):\n",
        "    subjects = cleaned_course_subjects.get(row['course'], [None, None, None])\n",
        "    row['subject_1'], row['subject_2'], row['subject_3'] = subjects\n",
        "    return row\n",
        "\n",
        "df = df.apply(assign_subjects, axis=1)"
      ],
      "outputs": [],
      "execution_count": 14,
      "metadata": {
        "gather": {
          "logged": 1752493464646
        }
      }
    },
    {
      "cell_type": "code",
      "source": [
        "# Check for null values in subject 1 to 3\n",
        "df[['subject_1', 'subject_2', 'subject_3']].isnull().sum()"
      ],
      "outputs": [
        {
          "output_type": "execute_result",
          "execution_count": 15,
          "data": {
            "text/plain": "subject_1    0\nsubject_2    0\nsubject_3    0\ndtype: int64"
          },
          "metadata": {}
        }
      ],
      "execution_count": 15,
      "metadata": {
        "gather": {
          "logged": 1752493465154
        }
      }
    },
    {
      "cell_type": "code",
      "source": [
        "df.info()"
      ],
      "outputs": [
        {
          "output_type": "stream",
          "name": "stdout",
          "text": "<class 'pandas.core.frame.DataFrame'>\nRangeIndex: 698 entries, 0 to 697\nData columns (total 38 columns):\n #   Column                        Non-Null Count  Dtype  \n---  ------                        --------------  -----  \n 0   student_id                    698 non-null    int64  \n 1   course                        698 non-null    object \n 2   student_cohort                698 non-null    object \n 3   academic_status               698 non-null    object \n 4   failed_subjects               0 non-null      float64\n 5   study_skills(attended)        698 non-null    object \n 6   referral                      698 non-null    object \n 7   pp_meeting                    698 non-null    object \n 8   self_assessment               698 non-null    object \n 9   readiness_assessment_results  698 non-null    object \n 10  follow_up                     698 non-null    object \n 11  follow_up_type                698 non-null    object \n 12  subject_1                     698 non-null    object \n 13  subject_1_assess_1            698 non-null    float64\n 14  subject_1_assess_2            698 non-null    float64\n 15  subject_1_assess_3            698 non-null    float64\n 16  subject_1_assess_4            698 non-null    float64\n 17  attendance_1                  698 non-null    int64  \n 18  learn_jcu_issues_1            698 non-null    object \n 19  lecturer_referral_1           698 non-null    object \n 20  subject_2                     698 non-null    object \n 21  subject_2_assess_1            698 non-null    float64\n 22  subject_2_assess_2            698 non-null    float64\n 23  subject_2_assess_3            698 non-null    float64\n 24  subject_2_assess_4            698 non-null    float64\n 25  attendance_2                  698 non-null    int64  \n 26  learn_jcu_issues_2            698 non-null    object \n 27  lecturer_referral_2           698 non-null    object \n 28  subject_3                     698 non-null    object \n 29  subject_3_assess_1            698 non-null    float64\n 30  subject_3_assess_2            698 non-null    float64\n 31  subject_3_assess_3            698 non-null    float64\n 32  subject_3_assess_4            698 non-null    float64\n 33  attendance_3                  698 non-null    int64  \n 34  learn_jcu_issues_3            698 non-null    object \n 35  lecturer_referral_3           698 non-null    object \n 36  comments                      698 non-null    object \n 37  identified_issues             698 non-null    object \ndtypes: float64(13), int64(4), object(21)\nmemory usage: 207.3+ KB\n"
        }
      ],
      "execution_count": 16,
      "metadata": {
        "gather": {
          "logged": 1752493465577
        }
      }
    },
    {
      "cell_type": "code",
      "source": [
        "df['course'].value_counts()"
      ],
      "outputs": [
        {
          "output_type": "execute_result",
          "execution_count": 17,
          "data": {
            "text/plain": "master of business administration                                                                 102\nmaster of education - master of business administration                                            90\nmaster of information technology                                                                   77\nbachelor of business                                                                               71\nmaster of engineering management                                                                   69\nbachelor of information technology                                                                 56\nmaster of professional accounting                                                                  55\nmaster of international tourism and hospitality management                                         50\nbachelor of tourism, hospitality and events                                                        30\nmaster of professional accounting - master of business administration                              24\nbachelor of commerce                                                                               22\nmaster of international tourism and hospitality management - master of business administration     21\nmaster of data science (professional)                                                              13\nmaster of information technology - master of business administration                               11\npostgraduate qualifying program - business                                                          7\nName: course, dtype: int64"
          },
          "metadata": {}
        }
      ],
      "execution_count": 17,
      "metadata": {
        "gather": {
          "logged": 1752493465996
        }
      }
    },
    {
      "cell_type": "code",
      "source": [
        "# List of courses that falls under course group 'IT'\n",
        "it_courses = [ 'master of information technology',\n",
        "    'bachelor of information technology',\n",
        "    'master of data science (professional)',\n",
        "    'master of information technology - master of business administration',\n",
        "   \n",
        "] "
      ],
      "outputs": [],
      "execution_count": 18,
      "metadata": {
        "gather": {
          "logged": 1752493466344
        }
      }
    },
    {
      "cell_type": "code",
      "source": [
        "# Create a new column 'course_group' based on whether the course is in the IT list\n",
        "df['course_group'] = df['course'].apply(\n",
        "    lambda x: 'IT' if x in it_courses else 'Non-IT'\n",
        ")\n"
      ],
      "outputs": [],
      "execution_count": 19,
      "metadata": {
        "gather": {
          "logged": 1752493466681
        }
      }
    },
    {
      "cell_type": "markdown",
      "source": [
        "MInfTech\n",
        "BInfTech\n",
        "MDataSc(Prof)\n",
        "MInfTech-MBA\n",
        "\n"
      ],
      "metadata": {
        "nteract": {
          "transient": {
            "deleting": false
          }
        }
      }
    },
    {
      "cell_type": "markdown",
      "source": [
        "##### Generate records of failed subjects for each program based on statistical estimates\n"
      ],
      "metadata": {
        "nteract": {
          "transient": {
            "deleting": false
          }
        }
      }
    },
    {
      "cell_type": "code",
      "source": [
        "# Fill all nulls with 0\n",
        "df['failed_subjects'] = df['failed_subjects'].fillna(0)"
      ],
      "outputs": [],
      "execution_count": 20,
      "metadata": {
        "gather": {
          "logged": 1752493467033
        }
      }
    },
    {
      "cell_type": "code",
      "source": [
        "n_total_stds = 698\n",
        "n_failed_stds = 77\n",
        "n_failed_3plus = 17"
      ],
      "outputs": [],
      "execution_count": 21,
      "metadata": {
        "gather": {
          "logged": 1752493467376
        }
      }
    },
    {
      "cell_type": "markdown",
      "source": [
        "n_total_stds: Total number of students (698).\n",
        "\n",
        "n_failed_stds: Number of students who failed at least one subject (77).\n",
        "\n",
        "n_failed_3plus: Number of students who failed 3 or more subjects (17).\n"
      ],
      "metadata": {
        "nteract": {
          "transient": {
            "deleting": false
          }
        }
      }
    },
    {
      "cell_type": "markdown",
      "source": [],
      "metadata": {
        "nteract": {
          "transient": {
            "deleting": false
          }
        }
      }
    },
    {
      "cell_type": "code",
      "source": [
        "# IT and Non IT\n",
        "n_it= 157\n",
        "n_nonit= n_total_stds - n_it\n",
        "n_it_failed = 31\n",
        "n_nonit_failed = n_failed_stds - n_it_failed # 46"
      ],
      "outputs": [],
      "execution_count": 22,
      "metadata": {
        "gather": {
          "logged": 1752493467769
        }
      }
    },
    {
      "cell_type": "markdown",
      "source": [
        "n_it = Number of IT students (157).\n",
        "\n",
        "n_nonit = Number of Non IT students (698 - 157).\n",
        "\n",
        "n_it_failed = Number of IT students who failed at least one subject (31).\n",
        "\n",
        "n_nonit_failed = Number of non-IT students who failed at least on subject (77-31 = 46)."
      ],
      "metadata": {
        "nteract": {
          "transient": {
            "deleting": false
          }
        }
      }
    },
    {
      "cell_type": "code",
      "source": [
        "# Get the row numbers (indices) for each group\n",
        "it_indices = df[df['course_group']== 'IT'].index\n",
        "nonit_indices = df[df['course_group']== 'Non-IT'].index"
      ],
      "outputs": [],
      "execution_count": 23,
      "metadata": {
        "gather": {
          "logged": 1752493468192
        }
      }
    },
    {
      "cell_type": "code",
      "source": [
        "# Randomly pick students who Failed at least One Subject\n",
        "it_failed_indices = np.random.choice(it_indices, n_it_failed, replace = False)\n",
        "nonit_failed_indices = np.random.choice(nonit_indices, n_nonit_failed, replace = False)\n",
        "failed_indices = np.concatenate([it_failed_indices, nonit_failed_indices])\n",
        "failed_indices"
      ],
      "outputs": [
        {
          "output_type": "execute_result",
          "execution_count": 24,
          "data": {
            "text/plain": "array([249, 439, 197, 679, 451, 440, 675, 259, 417, 260, 200, 456, 210,\n       441, 418, 428, 237, 204, 444, 447, 225, 241, 414, 442, 257, 453,\n       205, 226, 207, 420, 425, 368, 126, 505,  63, 275, 311, 534, 364,\n         7,  17, 494, 127, 380, 662, 349, 297, 188, 624,   9, 316, 146,\n        55, 660, 128, 313, 589, 539, 270, 557, 511, 324, 390,  64, 168,\n       114, 649,   3, 520,  21, 387, 626, 329,  88, 382, 517, 304])"
          },
          "metadata": {}
        }
      ],
      "execution_count": 24,
      "metadata": {
        "gather": {
          "logged": 1752493468541
        }
      }
    },
    {
      "cell_type": "code",
      "source": [
        "# Among the failed students, pick who failed 3 or more subjects\n",
        "failed_3plus_indices = np.random.choice(failed_indices, n_failed_3plus, replace=False)\n",
        "failed_1or2_indices = np.setdiff1d(failed_indices, failed_3plus_indices) # Return the elements in failed_indices that are NOT in failed_3plus_indices"
      ],
      "outputs": [],
      "execution_count": 25,
      "metadata": {
        "gather": {
          "logged": 1752493468920
        }
      }
    },
    {
      "cell_type": "code",
      "source": [
        "# Assign the number of failed subjects\n",
        "df.loc[failed_3plus_indices, 'failed_subjects'] = np.random.randint(3,5, size=n_failed_3plus)\n",
        "df.loc[failed_1or2_indices, 'failed_subjects'] = np.random.randint(1,3, size=len(failed_1or2_indices))"
      ],
      "outputs": [],
      "execution_count": 26,
      "metadata": {
        "gather": {
          "logged": 1752493469283
        }
      }
    },
    {
      "cell_type": "code",
      "source": [
        "print(\"Total students:\", len(df))\n",
        "print(\"Students with at least 1 failed subject:\", (df['failed_subjects'] > 0).sum())\n",
        "print(\"Students with 3+ failed subjects:\", (df['failed_subjects'] >= 3).sum())\n",
        "print(\"IT students with at least 1 failed subject:\", df[(df['course_group'] == 'IT') & (df['failed_subjects'] > 0)].shape[0])\n",
        "print(\"Non-IT students with at least 1 failed subject:\", df[(df['course_group'] == 'Non-IT') & (df['failed_subjects'] > 0)].shape[0])\n"
      ],
      "outputs": [
        {
          "output_type": "stream",
          "name": "stdout",
          "text": "Total students: 698\nStudents with at least 1 failed subject: 77\nStudents with 3+ failed subjects: 17\nIT students with at least 1 failed subject: 31\nNon-IT students with at least 1 failed subject: 46\n"
        }
      ],
      "execution_count": 27,
      "metadata": {
        "gather": {
          "logged": 1752493469588
        }
      }
    },
    {
      "cell_type": "code",
      "source": [
        "df['failed_subjects'].isnull().sum()"
      ],
      "outputs": [
        {
          "output_type": "execute_result",
          "execution_count": 28,
          "data": {
            "text/plain": "0"
          },
          "metadata": {}
        }
      ],
      "execution_count": 28,
      "metadata": {
        "gather": {
          "logged": 1752493469968
        }
      }
    },
    {
      "cell_type": "code",
      "source": [
        "df['student_cohort'].value_counts()"
      ],
      "outputs": [
        {
          "output_type": "execute_result",
          "execution_count": 39,
          "data": {
            "text/plain": "Return to Study    101\nFirst year          93\nTransferred         92\nContinuing          89\nExcluded            86\nLOA                 85\nNew                 78\nSRI to JCUB         74\nName: student_cohort, dtype: int64"
          },
          "metadata": {}
        }
      ],
      "execution_count": 39,
      "metadata": {
        "gather": {
          "logged": 1752495199023
        }
      }
    },
    {
      "cell_type": "code",
      "source": [
        "# List of cohort values for which academic status is 'satisfactory\n",
        "target_cohorts = ['SRI to JCUB', 'Transferred', 'New']\n",
        "\n",
        "# Update the academic_status column for those cohorts\n",
        "df.loc[df['student_cohort'].isin(target_cohorts), 'academic_status'] = 'satisfactory'"
      ],
      "outputs": [],
      "execution_count": null,
      "metadata": {
        "gather": {
          "logged": 1752493470682
        }
      }
    },
    {
      "cell_type": "code",
      "source": [],
      "outputs": [],
      "execution_count": null,
      "metadata": {}
    }
  ],
  "metadata": {
    "kernelspec": {
      "name": "python310-sdkv2",
      "language": "python",
      "display_name": "Python 3.10 - SDK v2"
    },
    "language_info": {
      "name": "python",
      "version": "3.10.18",
      "mimetype": "text/x-python",
      "codemirror_mode": {
        "name": "ipython",
        "version": 3
      },
      "pygments_lexer": "ipython3",
      "nbconvert_exporter": "python",
      "file_extension": ".py"
    },
    "microsoft": {
      "ms_spell_check": {
        "ms_spell_check_language": "en"
      },
      "host": {
        "AzureML": {
          "notebookHasBeenCompleted": true
        }
      }
    },
    "kernel_info": {
      "name": "python310-sdkv2"
    },
    "nteract": {
      "version": "nteract-front-end@1.0.0"
    }
  },
  "nbformat": 4,
  "nbformat_minor": 2
}