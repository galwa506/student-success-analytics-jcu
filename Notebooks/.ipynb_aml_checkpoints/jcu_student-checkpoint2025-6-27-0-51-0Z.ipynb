{
  "cells": [
    {
      "cell_type": "code",
      "source": [
        "# Import required libraries\n",
        "import pandas as pd\n",
        "import numpy as np"
      ],
      "outputs": [],
      "execution_count": 1,
      "metadata": {
        "gather": {
          "logged": 1753155123238
        }
      }
    },
    {
      "cell_type": "code",
      "source": [
        "np.random.seed(42)       # For numpy"
      ],
      "outputs": [],
      "execution_count": 110,
      "metadata": {
        "gather": {
          "logged": 1753156161570
        }
      }
    },
    {
      "cell_type": "code",
      "source": [
        "# Load dataset\n",
        "df = pd.read_excel('student_data.xlsx')\n",
        "\n",
        "# Show all columns when displaying DataFrames\n",
        "pd.set_option('display.max_columns', None)\n",
        "df.head()"
      ],
      "outputs": [
        {
          "output_type": "execute_result",
          "execution_count": 2,
          "data": {
            "text/plain": "   student_id                             course student_cohort  \\\n0           1  Master of Business Administration    SRI to JCUB   \n1           2  Master of Business Administration     Continuing   \n2           3  Master of Business Administration     First year   \n3           4  Master of Business Administration            New   \n4           5  Master of Business Administration     Continuing   \n\n  academic_status  failed_subjects        study_skills(attended)  \\\n0         At Risk              NaN              Essential Skills   \n1        Excluded              NaN                   Referencing   \n2         At Risk              NaN                       Writing   \n3        Excluded              NaN              Essential Skills   \n4         At Risk              NaN  Essential Skills and Reading   \n\n             referral    pp_meeting self_assessment  \\\n0  Student Counsellor        Booked             Yes   \n1    Student Advocate  Not relevant             Yes   \n2          Enrollment      Attended             Yes   \n3    Student Advocate      Attended              No   \n4  Student Counsellor  Not relevant              No   \n\n  readiness_assessment_results follow_up follow_up_type  subject_1  \\\n0       L/G:9/10 N:5/10 R:8/10       Yes       No Reply        NaN   \n1       L/G:9/10 N:5/10 R:8/10        No          Phone        NaN   \n2       L/G:9/10 N:5/10 R:8/10       Yes          Phone        NaN   \n3       L/G:9/10 N:5/10 R:8/10        No            F2F        NaN   \n4       L/G:9/10 N:5/10 R:8/10       Yes       No Reply        NaN   \n\n   subject_1_assess_1  subject_1_assess_2  subject_1_assess_3  \\\n0                7.70               27.22               26.51   \n1               31.14               54.66               81.72   \n2               39.09               75.39               84.62   \n3               88.59               84.36                3.79   \n4                0.98               13.80               53.40   \n\n   subject_1_assess_4  attendance_1 learn_jcu_issues_1  lecturer_referral_1  \\\n0               50.09            20             Access  Concern for Welfare   \n1                1.96             9             Access       Non Submission   \n2               82.66            51          No Access           Attendance   \n3               26.05            34             Access  Concern for Welfare   \n4               39.69            45             Access           Attendance   \n\n   subject_2  subject_2_assess_1  subject_2_assess_2  subject_2_assess_3  \\\n0        NaN               69.33               44.44               11.39   \n1        NaN               95.23               48.61               14.68   \n2        NaN               86.20               98.80               71.57   \n3        NaN                7.69               25.96               49.83   \n4        NaN               60.51               57.47               15.80   \n\n   subject_2_assess_4  attendance_2 learn_jcu_issues_2  lecturer_referral_2  \\\n0               18.78            41             Access           Attendance   \n1               44.77            66          No Access  Concern for Welfare   \n2               96.08            64          No Access  Concern for Welfare   \n3               17.77            57             Access       Non Submission   \n4               33.59             3          No Access  Concern for Welfare   \n\n   subject_3  subject_3_assess_1  subject_3_assess_2  subject_3_assess_3  \\\n0        NaN               39.02               17.71               94.50   \n1        NaN                3.72               38.52               25.80   \n2        NaN               77.77               77.27               81.95   \n3        NaN               95.41                8.93                3.21   \n4        NaN               90.12               52.18               36.05   \n\n   subject_4_assess_4  attendance_3 learn_jcu_issues_3  lecturer_referral_3  \\\n0                9.83            89             Access       Non Submission   \n1               11.80           100          No Access       Non Submission   \n2               62.35            42             Access           Attendance   \n3               99.15            51             Access  Concern for Welfare   \n4               20.65            19             Access  Concern for Welfare   \n\n                                            comments     identified_issues  \n0  Week 8. Student re-engaged with tutorials. Sub...       Late Enrollment  \n1  booked to see a doctor. Week 5. Student contac...  Poor time management  \n2  Week 8. Student re-engaged with tutorials. Sub...  Poor time management  \n3  Week 6. Student submitted assessment late. Ext...       Death in family  \n4  Week 3 late enrolment. Student finding it diff...              Sickness  ",
            "text/html": "<div>\n<style scoped>\n    .dataframe tbody tr th:only-of-type {\n        vertical-align: middle;\n    }\n\n    .dataframe tbody tr th {\n        vertical-align: top;\n    }\n\n    .dataframe thead th {\n        text-align: right;\n    }\n</style>\n<table border=\"1\" class=\"dataframe\">\n  <thead>\n    <tr style=\"text-align: right;\">\n      <th></th>\n      <th>student_id</th>\n      <th>course</th>\n      <th>student_cohort</th>\n      <th>academic_status</th>\n      <th>failed_subjects</th>\n      <th>study_skills(attended)</th>\n      <th>referral</th>\n      <th>pp_meeting</th>\n      <th>self_assessment</th>\n      <th>readiness_assessment_results</th>\n      <th>follow_up</th>\n      <th>follow_up_type</th>\n      <th>subject_1</th>\n      <th>subject_1_assess_1</th>\n      <th>subject_1_assess_2</th>\n      <th>subject_1_assess_3</th>\n      <th>subject_1_assess_4</th>\n      <th>attendance_1</th>\n      <th>learn_jcu_issues_1</th>\n      <th>lecturer_referral_1</th>\n      <th>subject_2</th>\n      <th>subject_2_assess_1</th>\n      <th>subject_2_assess_2</th>\n      <th>subject_2_assess_3</th>\n      <th>subject_2_assess_4</th>\n      <th>attendance_2</th>\n      <th>learn_jcu_issues_2</th>\n      <th>lecturer_referral_2</th>\n      <th>subject_3</th>\n      <th>subject_3_assess_1</th>\n      <th>subject_3_assess_2</th>\n      <th>subject_3_assess_3</th>\n      <th>subject_4_assess_4</th>\n      <th>attendance_3</th>\n      <th>learn_jcu_issues_3</th>\n      <th>lecturer_referral_3</th>\n      <th>comments</th>\n      <th>identified_issues</th>\n    </tr>\n  </thead>\n  <tbody>\n    <tr>\n      <th>0</th>\n      <td>1</td>\n      <td>Master of Business Administration</td>\n      <td>SRI to JCUB</td>\n      <td>At Risk</td>\n      <td>NaN</td>\n      <td>Essential Skills</td>\n      <td>Student Counsellor</td>\n      <td>Booked</td>\n      <td>Yes</td>\n      <td>L/G:9/10 N:5/10 R:8/10</td>\n      <td>Yes</td>\n      <td>No Reply</td>\n      <td>NaN</td>\n      <td>7.70</td>\n      <td>27.22</td>\n      <td>26.51</td>\n      <td>50.09</td>\n      <td>20</td>\n      <td>Access</td>\n      <td>Concern for Welfare</td>\n      <td>NaN</td>\n      <td>69.33</td>\n      <td>44.44</td>\n      <td>11.39</td>\n      <td>18.78</td>\n      <td>41</td>\n      <td>Access</td>\n      <td>Attendance</td>\n      <td>NaN</td>\n      <td>39.02</td>\n      <td>17.71</td>\n      <td>94.50</td>\n      <td>9.83</td>\n      <td>89</td>\n      <td>Access</td>\n      <td>Non Submission</td>\n      <td>Week 8. Student re-engaged with tutorials. Sub...</td>\n      <td>Late Enrollment</td>\n    </tr>\n    <tr>\n      <th>1</th>\n      <td>2</td>\n      <td>Master of Business Administration</td>\n      <td>Continuing</td>\n      <td>Excluded</td>\n      <td>NaN</td>\n      <td>Referencing</td>\n      <td>Student Advocate</td>\n      <td>Not relevant</td>\n      <td>Yes</td>\n      <td>L/G:9/10 N:5/10 R:8/10</td>\n      <td>No</td>\n      <td>Phone</td>\n      <td>NaN</td>\n      <td>31.14</td>\n      <td>54.66</td>\n      <td>81.72</td>\n      <td>1.96</td>\n      <td>9</td>\n      <td>Access</td>\n      <td>Non Submission</td>\n      <td>NaN</td>\n      <td>95.23</td>\n      <td>48.61</td>\n      <td>14.68</td>\n      <td>44.77</td>\n      <td>66</td>\n      <td>No Access</td>\n      <td>Concern for Welfare</td>\n      <td>NaN</td>\n      <td>3.72</td>\n      <td>38.52</td>\n      <td>25.80</td>\n      <td>11.80</td>\n      <td>100</td>\n      <td>No Access</td>\n      <td>Non Submission</td>\n      <td>booked to see a doctor. Week 5. Student contac...</td>\n      <td>Poor time management</td>\n    </tr>\n    <tr>\n      <th>2</th>\n      <td>3</td>\n      <td>Master of Business Administration</td>\n      <td>First year</td>\n      <td>At Risk</td>\n      <td>NaN</td>\n      <td>Writing</td>\n      <td>Enrollment</td>\n      <td>Attended</td>\n      <td>Yes</td>\n      <td>L/G:9/10 N:5/10 R:8/10</td>\n      <td>Yes</td>\n      <td>Phone</td>\n      <td>NaN</td>\n      <td>39.09</td>\n      <td>75.39</td>\n      <td>84.62</td>\n      <td>82.66</td>\n      <td>51</td>\n      <td>No Access</td>\n      <td>Attendance</td>\n      <td>NaN</td>\n      <td>86.20</td>\n      <td>98.80</td>\n      <td>71.57</td>\n      <td>96.08</td>\n      <td>64</td>\n      <td>No Access</td>\n      <td>Concern for Welfare</td>\n      <td>NaN</td>\n      <td>77.77</td>\n      <td>77.27</td>\n      <td>81.95</td>\n      <td>62.35</td>\n      <td>42</td>\n      <td>Access</td>\n      <td>Attendance</td>\n      <td>Week 8. Student re-engaged with tutorials. Sub...</td>\n      <td>Poor time management</td>\n    </tr>\n    <tr>\n      <th>3</th>\n      <td>4</td>\n      <td>Master of Business Administration</td>\n      <td>New</td>\n      <td>Excluded</td>\n      <td>NaN</td>\n      <td>Essential Skills</td>\n      <td>Student Advocate</td>\n      <td>Attended</td>\n      <td>No</td>\n      <td>L/G:9/10 N:5/10 R:8/10</td>\n      <td>No</td>\n      <td>F2F</td>\n      <td>NaN</td>\n      <td>88.59</td>\n      <td>84.36</td>\n      <td>3.79</td>\n      <td>26.05</td>\n      <td>34</td>\n      <td>Access</td>\n      <td>Concern for Welfare</td>\n      <td>NaN</td>\n      <td>7.69</td>\n      <td>25.96</td>\n      <td>49.83</td>\n      <td>17.77</td>\n      <td>57</td>\n      <td>Access</td>\n      <td>Non Submission</td>\n      <td>NaN</td>\n      <td>95.41</td>\n      <td>8.93</td>\n      <td>3.21</td>\n      <td>99.15</td>\n      <td>51</td>\n      <td>Access</td>\n      <td>Concern for Welfare</td>\n      <td>Week 6. Student submitted assessment late. Ext...</td>\n      <td>Death in family</td>\n    </tr>\n    <tr>\n      <th>4</th>\n      <td>5</td>\n      <td>Master of Business Administration</td>\n      <td>Continuing</td>\n      <td>At Risk</td>\n      <td>NaN</td>\n      <td>Essential Skills and Reading</td>\n      <td>Student Counsellor</td>\n      <td>Not relevant</td>\n      <td>No</td>\n      <td>L/G:9/10 N:5/10 R:8/10</td>\n      <td>Yes</td>\n      <td>No Reply</td>\n      <td>NaN</td>\n      <td>0.98</td>\n      <td>13.80</td>\n      <td>53.40</td>\n      <td>39.69</td>\n      <td>45</td>\n      <td>Access</td>\n      <td>Attendance</td>\n      <td>NaN</td>\n      <td>60.51</td>\n      <td>57.47</td>\n      <td>15.80</td>\n      <td>33.59</td>\n      <td>3</td>\n      <td>No Access</td>\n      <td>Concern for Welfare</td>\n      <td>NaN</td>\n      <td>90.12</td>\n      <td>52.18</td>\n      <td>36.05</td>\n      <td>20.65</td>\n      <td>19</td>\n      <td>Access</td>\n      <td>Concern for Welfare</td>\n      <td>Week 3 late enrolment. Student finding it diff...</td>\n      <td>Sickness</td>\n    </tr>\n  </tbody>\n</table>\n</div>"
          },
          "metadata": {}
        }
      ],
      "execution_count": 2,
      "metadata": {
        "gather": {
          "logged": 1753155123834
        }
      }
    },
    {
      "cell_type": "markdown",
      "source": [
        "#### Data Cleaning and Exploration"
      ],
      "metadata": {
        "nteract": {
          "transient": {
            "deleting": false
          }
        }
      }
    },
    {
      "cell_type": "code",
      "source": [
        "# Print a concise summary of the DataFrame, including column names, data types, non-null counts, and memory usage.\n",
        "df.info()"
      ],
      "outputs": [
        {
          "output_type": "stream",
          "name": "stdout",
          "text": "<class 'pandas.core.frame.DataFrame'>\nRangeIndex: 698 entries, 0 to 697\nData columns (total 38 columns):\n #   Column                        Non-Null Count  Dtype  \n---  ------                        --------------  -----  \n 0   student_id                    698 non-null    int64  \n 1   course                        698 non-null    object \n 2   student_cohort                698 non-null    object \n 3   academic_status               698 non-null    object \n 4   failed_subjects               0 non-null      float64\n 5   study_skills(attended)        698 non-null    object \n 6   referral                      698 non-null    object \n 7   pp_meeting                    698 non-null    object \n 8   self_assessment               698 non-null    object \n 9   readiness_assessment_results  698 non-null    object \n 10  follow_up                     698 non-null    object \n 11  follow_up_type                698 non-null    object \n 12  subject_1                     0 non-null      float64\n 13  subject_1_assess_1            698 non-null    float64\n 14  subject_1_assess_2            698 non-null    float64\n 15  subject_1_assess_3            698 non-null    float64\n 16  subject_1_assess_4            698 non-null    float64\n 17  attendance_1                  698 non-null    int64  \n 18  learn_jcu_issues_1            698 non-null    object \n 19  lecturer_referral_1           698 non-null    object \n 20  subject_2                     0 non-null      float64\n 21  subject_2_assess_1            698 non-null    float64\n 22  subject_2_assess_2            698 non-null    float64\n 23  subject_2_assess_3            698 non-null    float64\n 24  subject_2_assess_4            698 non-null    float64\n 25  attendance_2                  698 non-null    int64  \n 26  learn_jcu_issues_2            698 non-null    object \n 27  lecturer_referral_2           698 non-null    object \n 28  subject_3                     0 non-null      float64\n 29  subject_3_assess_1            698 non-null    float64\n 30  subject_3_assess_2            698 non-null    float64\n 31  subject_3_assess_3            698 non-null    float64\n 32  subject_4_assess_4            698 non-null    float64\n 33  attendance_3                  698 non-null    int64  \n 34  learn_jcu_issues_3            698 non-null    object \n 35  lecturer_referral_3           698 non-null    object \n 36  comments                      698 non-null    object \n 37  identified_issues             698 non-null    object \ndtypes: float64(16), int64(4), object(18)\nmemory usage: 207.3+ KB\n"
        }
      ],
      "execution_count": 3,
      "metadata": {
        "gather": {
          "logged": 1753155124293
        }
      }
    },
    {
      "cell_type": "code",
      "source": [
        "df.rename(columns={'subject_4_assess_4':'subject_3_assess_4'}, inplace=True)\n",
        "df.columns"
      ],
      "outputs": [
        {
          "output_type": "execute_result",
          "execution_count": 4,
          "data": {
            "text/plain": "Index(['student_id', 'course', 'student_cohort', 'academic_status',\n       'failed_subjects', 'study_skills(attended)', 'referral', 'pp_meeting',\n       'self_assessment', 'readiness_assessment_results', 'follow_up',\n       'follow_up_type', 'subject_1', 'subject_1_assess_1',\n       'subject_1_assess_2', 'subject_1_assess_3', 'subject_1_assess_4',\n       'attendance_1', 'learn_jcu_issues_1', 'lecturer_referral_1',\n       'subject_2', 'subject_2_assess_1', 'subject_2_assess_2',\n       'subject_2_assess_3', 'subject_2_assess_4', 'attendance_2',\n       'learn_jcu_issues_2', 'lecturer_referral_2', 'subject_3',\n       'subject_3_assess_1', 'subject_3_assess_2', 'subject_3_assess_3',\n       'subject_3_assess_4', 'attendance_3', 'learn_jcu_issues_3',\n       'lecturer_referral_3', 'comments', 'identified_issues'],\n      dtype='object')"
          },
          "metadata": {}
        }
      ],
      "execution_count": 4,
      "metadata": {
        "gather": {
          "logged": 1753155124902
        }
      }
    },
    {
      "cell_type": "code",
      "source": [
        "df['course'] = df['course'].str.strip().str.lower()\n",
        "df['course'].unique()"
      ],
      "outputs": [
        {
          "output_type": "execute_result",
          "execution_count": 5,
          "data": {
            "text/plain": "array(['master of business administration',\n       'master of education - master of business administration',\n       'master of information technology', 'bachelor of business',\n       'master of engineering management',\n       'bachelor of information technology',\n       'master of professional accounting',\n       'master of international tourism and hospitality management',\n       'bachelor of tourism, hospitality and events',\n       'master of professional account and master of business administration',\n       'bachelor of commerce',\n       'master of international tourism and hospitality management - master of business administration',\n       'master of data science (professional)',\n       'master of information technology - master of business administration',\n       'postgraduate qualifying program - business'], dtype=object)"
          },
          "metadata": {}
        }
      ],
      "execution_count": 5,
      "metadata": {
        "gather": {
          "logged": 1753155125558
        }
      }
    },
    {
      "cell_type": "code",
      "source": [
        "# Map subject code to subject names using Dictionary\n",
        "subject_dict = {\n",
        "    \"BU1002\": \"Accounting for Decision Making\",\n",
        "    \"BU1003\": \"Principles of Economics\",\n",
        "    \"BU1007\": \"Principles of Data Analysis for Business\",\n",
        "    \"BU1112\": \"Business Law\",\n",
        "    \"BX2011\": \"Foundation of Accounting Principles\",\n",
        "    \"BX2014\": \"Principles of Finance\",\n",
        "    \"CP1401\": \"Fundamentals of Problem Solving and Programming I\",\n",
        "    \"CP1402\": \"Internet Fundamentals\",\n",
        "    \"CP1404\": \"Programming II\",\n",
        "    \"TO1008\": \"Introduction to Tourism, Hospitality and Events Management\",\n",
        "    \"TO2117\": \"Food and Beverage Management\",\n",
        "    \"TO3052\": \"Experience Design for Tourism Hospitality and Events\",\n",
        "    \"LB5113\": \"Corporate Strategy\",\n",
        "    \"LB5202\": \"Marketing Essentials\",\n",
        "    \"LB5205\": \"People in Organisations\",\n",
        "    \"MA5831\": \"Advanced Data Management and Analysis using SAS\",\n",
        "    \"MA5840\": \"Data Science and Strategic Decision Making for Business\",\n",
        "    \"MA5851\": \"Data Science Master Class 1\",\n",
        "    \"ED5097\": \"Research Design and Proposal\",\n",
        "    \"ED5880\": \"Educational Leadership\",\n",
        "    \"EG5200\": \"Career Planning\",\n",
        "    \"EG5220\": \"Advanced Asset Management and Reliability\",\n",
        "    \"EG5310\": \"Professional Placement\",\n",
        "    \"CP5046\": \"ICT Project 1: Analysis and Design\",\n",
        "    \"CP5047\": \"ICT Project 2: Implementation and Commissioning\",\n",
        "    \"CP5503\": \"Enterprise Database Systems - Oracle\",\n",
        "    \"TO5101\": \"Tourism Systems Analysis\",\n",
        "    \"TO5103\": \"Global Destinations and Competitiveness\",\n",
        "    \"TO5104\": \"Tourist Management Strategies\",\n",
        "    \"CO5117\": \"Introduction to Accounting\",\n",
        "    \"CO5103\": \"Management Accounting\",\n",
        "    \"CO5109\": \"Corporate Finance\",\n",
        "    \"LB5203\": \"Sustainable Enterprise\",\n",
        "    \"LB5212\": \"Accounting and Finance for Managers\"\n",
        "}\n"
      ],
      "outputs": [],
      "execution_count": 6,
      "metadata": {
        "gather": {
          "logged": 1753155126510
        }
      }
    },
    {
      "cell_type": "code",
      "source": [
        "# Get the subject name from the subject code\n",
        "subject_dict['BU1007'] # Output: Principles of Data Analysis for Business "
      ],
      "outputs": [
        {
          "output_type": "execute_result",
          "execution_count": 7,
          "data": {
            "text/plain": "'Principles of Data Analysis for Business'"
          },
          "metadata": {}
        }
      ],
      "execution_count": 7,
      "metadata": {
        "gather": {
          "logged": 1753155127155
        }
      }
    },
    {
      "cell_type": "code",
      "source": [
        "# Map each course to a list of three subject codes\n",
        "course_subjects = {\n",
        "    'Bachelor of Business': ['BU1002', 'BU1003', 'BU1007'],\n",
        "    'Bachelor of Commerce': ['BU1112', 'BX2011', 'BX2014'],\n",
        "    'Bachelor of Information Technology': ['CP1401', 'CP1402', 'CP1404'],\n",
        "    'Bachelor of Tourism, Hospitality and Events': ['TO1008', 'TO2117', 'TO3052'],\n",
        "    'Master of Business Administration': ['LB5113', 'LB5202', 'LB5205'],\n",
        "    'Master of Data Science (Professional)': ['MA5831', 'MA5840', 'MA5851'],\n",
        "    'Master of Education - Master of Business Administration': ['ED5097', 'ED5880', 'LB5113'],\n",
        "    'Master of Engineering Management': ['EG5200', 'EG5220', 'EG5310'],\n",
        "    'Master of Information Technology': ['CP5046', 'CP5047', 'CP5503'],\n",
        "    'Master of Information Technology - Master of Business Administration': ['CP5046', 'LB5113', 'LB5202'],\n",
        "    'Master of International Tourism and Hospitality Management': ['TO5101', 'TO5103', 'TO5104'],\n",
        "    'Master of International Tourism and Hospitality Management - Master of Business Administration': ['TO5101', 'LB5113', 'LB5202'],\n",
        "    'Master of Professional Accounting': ['CO5117', 'CO5103', 'CO5109'],\n",
        "    'Master of Professional Accounting - Master of Business Administration': ['CO5117', 'CO5103', 'LB5113'],\n",
        "    'Postgraduate Qualifying Program - Business': ['LB5202', 'LB5203', 'LB5212']\n",
        "}\n"
      ],
      "outputs": [],
      "execution_count": 8,
      "metadata": {
        "gather": {
          "logged": 1753155127825
        }
      }
    },
    {
      "cell_type": "code",
      "source": [
        "# Get the course subjects from the course\n",
        "course_subjects['Bachelor of Information Technology'] # Output: 'CP1401', 'CP1402', 'CP1404']"
      ],
      "outputs": [
        {
          "output_type": "execute_result",
          "execution_count": 9,
          "data": {
            "text/plain": "['CP1401', 'CP1402', 'CP1404']"
          },
          "metadata": {}
        }
      ],
      "execution_count": 9,
      "metadata": {
        "gather": {
          "logged": 1753155128472
        }
      }
    },
    {
      "cell_type": "code",
      "source": [
        "# Create a new dictionary with cleaned course names as keys\n",
        "# For each key-value pair in the original course_subjects dictionary:\n",
        "#   Remove any leading/trailing spaces from the course name (key) using strip()\n",
        "#   Convert the course name to lowercase using lower()\n",
        "#   Keep the value (list of subjects) unchanged\n",
        "cleaned_course_subjects = {k.strip().lower(): v for k, v in course_subjects.items()}\n",
        "cleaned_course_subjects"
      ],
      "outputs": [
        {
          "output_type": "execute_result",
          "execution_count": 10,
          "data": {
            "text/plain": "{'bachelor of business': ['BU1002', 'BU1003', 'BU1007'],\n 'bachelor of commerce': ['BU1112', 'BX2011', 'BX2014'],\n 'bachelor of information technology': ['CP1401', 'CP1402', 'CP1404'],\n 'bachelor of tourism, hospitality and events': ['TO1008', 'TO2117', 'TO3052'],\n 'master of business administration': ['LB5113', 'LB5202', 'LB5205'],\n 'master of data science (professional)': ['MA5831', 'MA5840', 'MA5851'],\n 'master of education - master of business administration': ['ED5097',\n  'ED5880',\n  'LB5113'],\n 'master of engineering management': ['EG5200', 'EG5220', 'EG5310'],\n 'master of information technology': ['CP5046', 'CP5047', 'CP5503'],\n 'master of information technology - master of business administration': ['CP5046',\n  'LB5113',\n  'LB5202'],\n 'master of international tourism and hospitality management': ['TO5101',\n  'TO5103',\n  'TO5104'],\n 'master of international tourism and hospitality management - master of business administration': ['TO5101',\n  'LB5113',\n  'LB5202'],\n 'master of professional accounting': ['CO5117', 'CO5103', 'CO5109'],\n 'master of professional accounting - master of business administration': ['CO5117',\n  'CO5103',\n  'LB5113'],\n 'postgraduate qualifying program - business': ['LB5202', 'LB5203', 'LB5212']}"
          },
          "metadata": {}
        }
      ],
      "execution_count": 10,
      "metadata": {
        "gather": {
          "logged": 1753155129190
        }
      }
    },
    {
      "cell_type": "code",
      "source": [
        "# Get unique course names in DataFrame\n",
        "unique_courses = df['course'].unique()\n",
        "\n",
        "# Find which course names are not keys in cleaned_course_subjects dictionary\n",
        "courses_not_in_cleaned = [course for course in unique_courses if course not in cleaned_course_subjects]\n",
        "courses_not_in_cleaned"
      ],
      "outputs": [
        {
          "output_type": "execute_result",
          "execution_count": 11,
          "data": {
            "text/plain": "['master of professional account and master of business administration']"
          },
          "metadata": {}
        }
      ],
      "execution_count": 11,
      "metadata": {
        "gather": {
          "logged": 1753155129812
        }
      }
    },
    {
      "cell_type": "code",
      "source": [
        "df['course'].replace('master of professional account and master of business administration', 'master of professional accounting - master of business administration', inplace=True)"
      ],
      "outputs": [],
      "execution_count": 12,
      "metadata": {
        "gather": {
          "logged": 1753155130438
        }
      }
    },
    {
      "cell_type": "code",
      "source": [
        "# check if the course value has been updated\n",
        "df['course'].unique()"
      ],
      "outputs": [
        {
          "output_type": "execute_result",
          "execution_count": 13,
          "data": {
            "text/plain": "array(['master of business administration',\n       'master of education - master of business administration',\n       'master of information technology', 'bachelor of business',\n       'master of engineering management',\n       'bachelor of information technology',\n       'master of professional accounting',\n       'master of international tourism and hospitality management',\n       'bachelor of tourism, hospitality and events',\n       'master of professional accounting - master of business administration',\n       'bachelor of commerce',\n       'master of international tourism and hospitality management - master of business administration',\n       'master of data science (professional)',\n       'master of information technology - master of business administration',\n       'postgraduate qualifying program - business'], dtype=object)"
          },
          "metadata": {}
        }
      ],
      "execution_count": 13,
      "metadata": {
        "gather": {
          "logged": 1753155131052
        }
      }
    },
    {
      "cell_type": "code",
      "source": [
        "# Assigns subject codes to each student based on their course.\n",
        "# For each row, looks up the course in the cleaned_course_subjects dictionary.\n",
        "# If the course is found, fills subject_1, subject_2, and subject_3 with the corresponding subject codes.\n",
        "# If the course is not found, fills these columns with None.\n",
        "def assign_subjects(row):\n",
        "    subjects = cleaned_course_subjects.get(row['course'], [None, None, None])\n",
        "    row['subject_1'], row['subject_2'], row['subject_3'] = subjects\n",
        "    return row\n",
        "\n",
        "df = df.apply(assign_subjects, axis=1)"
      ],
      "outputs": [],
      "execution_count": 14,
      "metadata": {
        "gather": {
          "logged": 1753155131558
        }
      }
    },
    {
      "cell_type": "code",
      "source": [
        "# Check for null values in subject 1 to 3\n",
        "df[['subject_1', 'subject_2', 'subject_3']].isnull().sum()"
      ],
      "outputs": [
        {
          "output_type": "execute_result",
          "execution_count": 15,
          "data": {
            "text/plain": "subject_1    0\nsubject_2    0\nsubject_3    0\ndtype: int64"
          },
          "metadata": {}
        }
      ],
      "execution_count": 15,
      "metadata": {
        "gather": {
          "logged": 1753155132200
        }
      }
    },
    {
      "cell_type": "code",
      "source": [
        "df.info()"
      ],
      "outputs": [
        {
          "output_type": "stream",
          "name": "stdout",
          "text": "<class 'pandas.core.frame.DataFrame'>\nRangeIndex: 698 entries, 0 to 697\nData columns (total 38 columns):\n #   Column                        Non-Null Count  Dtype  \n---  ------                        --------------  -----  \n 0   student_id                    698 non-null    int64  \n 1   course                        698 non-null    object \n 2   student_cohort                698 non-null    object \n 3   academic_status               698 non-null    object \n 4   failed_subjects               0 non-null      float64\n 5   study_skills(attended)        698 non-null    object \n 6   referral                      698 non-null    object \n 7   pp_meeting                    698 non-null    object \n 8   self_assessment               698 non-null    object \n 9   readiness_assessment_results  698 non-null    object \n 10  follow_up                     698 non-null    object \n 11  follow_up_type                698 non-null    object \n 12  subject_1                     698 non-null    object \n 13  subject_1_assess_1            698 non-null    float64\n 14  subject_1_assess_2            698 non-null    float64\n 15  subject_1_assess_3            698 non-null    float64\n 16  subject_1_assess_4            698 non-null    float64\n 17  attendance_1                  698 non-null    int64  \n 18  learn_jcu_issues_1            698 non-null    object \n 19  lecturer_referral_1           698 non-null    object \n 20  subject_2                     698 non-null    object \n 21  subject_2_assess_1            698 non-null    float64\n 22  subject_2_assess_2            698 non-null    float64\n 23  subject_2_assess_3            698 non-null    float64\n 24  subject_2_assess_4            698 non-null    float64\n 25  attendance_2                  698 non-null    int64  \n 26  learn_jcu_issues_2            698 non-null    object \n 27  lecturer_referral_2           698 non-null    object \n 28  subject_3                     698 non-null    object \n 29  subject_3_assess_1            698 non-null    float64\n 30  subject_3_assess_2            698 non-null    float64\n 31  subject_3_assess_3            698 non-null    float64\n 32  subject_3_assess_4            698 non-null    float64\n 33  attendance_3                  698 non-null    int64  \n 34  learn_jcu_issues_3            698 non-null    object \n 35  lecturer_referral_3           698 non-null    object \n 36  comments                      698 non-null    object \n 37  identified_issues             698 non-null    object \ndtypes: float64(13), int64(4), object(21)\nmemory usage: 207.3+ KB\n"
        }
      ],
      "execution_count": 16,
      "metadata": {
        "gather": {
          "logged": 1753155132774
        }
      }
    },
    {
      "cell_type": "code",
      "source": [
        "df['course'].value_counts()"
      ],
      "outputs": [
        {
          "output_type": "execute_result",
          "execution_count": 17,
          "data": {
            "text/plain": "master of business administration                                                                 102\nmaster of education - master of business administration                                            90\nmaster of information technology                                                                   77\nbachelor of business                                                                               71\nmaster of engineering management                                                                   69\nbachelor of information technology                                                                 56\nmaster of professional accounting                                                                  55\nmaster of international tourism and hospitality management                                         50\nbachelor of tourism, hospitality and events                                                        30\nmaster of professional accounting - master of business administration                              24\nbachelor of commerce                                                                               22\nmaster of international tourism and hospitality management - master of business administration     21\nmaster of data science (professional)                                                              13\nmaster of information technology - master of business administration                               11\npostgraduate qualifying program - business                                                          7\nName: course, dtype: int64"
          },
          "metadata": {}
        }
      ],
      "execution_count": 17,
      "metadata": {
        "gather": {
          "logged": 1753155133350
        }
      }
    },
    {
      "cell_type": "code",
      "source": [
        "df.head()"
      ],
      "outputs": [
        {
          "output_type": "execute_result",
          "execution_count": 18,
          "data": {
            "text/plain": "   student_id                             course student_cohort  \\\n0           1  master of business administration    SRI to JCUB   \n1           2  master of business administration     Continuing   \n2           3  master of business administration     First year   \n3           4  master of business administration            New   \n4           5  master of business administration     Continuing   \n\n  academic_status  failed_subjects        study_skills(attended)  \\\n0         At Risk              NaN              Essential Skills   \n1        Excluded              NaN                   Referencing   \n2         At Risk              NaN                       Writing   \n3        Excluded              NaN              Essential Skills   \n4         At Risk              NaN  Essential Skills and Reading   \n\n             referral    pp_meeting self_assessment  \\\n0  Student Counsellor        Booked             Yes   \n1    Student Advocate  Not relevant             Yes   \n2          Enrollment      Attended             Yes   \n3    Student Advocate      Attended              No   \n4  Student Counsellor  Not relevant              No   \n\n  readiness_assessment_results follow_up follow_up_type subject_1  \\\n0       L/G:9/10 N:5/10 R:8/10       Yes       No Reply    LB5113   \n1       L/G:9/10 N:5/10 R:8/10        No          Phone    LB5113   \n2       L/G:9/10 N:5/10 R:8/10       Yes          Phone    LB5113   \n3       L/G:9/10 N:5/10 R:8/10        No            F2F    LB5113   \n4       L/G:9/10 N:5/10 R:8/10       Yes       No Reply    LB5113   \n\n   subject_1_assess_1  subject_1_assess_2  subject_1_assess_3  \\\n0                7.70               27.22               26.51   \n1               31.14               54.66               81.72   \n2               39.09               75.39               84.62   \n3               88.59               84.36                3.79   \n4                0.98               13.80               53.40   \n\n   subject_1_assess_4  attendance_1 learn_jcu_issues_1  lecturer_referral_1  \\\n0               50.09            20             Access  Concern for Welfare   \n1                1.96             9             Access       Non Submission   \n2               82.66            51          No Access           Attendance   \n3               26.05            34             Access  Concern for Welfare   \n4               39.69            45             Access           Attendance   \n\n  subject_2  subject_2_assess_1  subject_2_assess_2  subject_2_assess_3  \\\n0    LB5202               69.33               44.44               11.39   \n1    LB5202               95.23               48.61               14.68   \n2    LB5202               86.20               98.80               71.57   \n3    LB5202                7.69               25.96               49.83   \n4    LB5202               60.51               57.47               15.80   \n\n   subject_2_assess_4  attendance_2 learn_jcu_issues_2  lecturer_referral_2  \\\n0               18.78            41             Access           Attendance   \n1               44.77            66          No Access  Concern for Welfare   \n2               96.08            64          No Access  Concern for Welfare   \n3               17.77            57             Access       Non Submission   \n4               33.59             3          No Access  Concern for Welfare   \n\n  subject_3  subject_3_assess_1  subject_3_assess_2  subject_3_assess_3  \\\n0    LB5205               39.02               17.71               94.50   \n1    LB5205                3.72               38.52               25.80   \n2    LB5205               77.77               77.27               81.95   \n3    LB5205               95.41                8.93                3.21   \n4    LB5205               90.12               52.18               36.05   \n\n   subject_3_assess_4  attendance_3 learn_jcu_issues_3  lecturer_referral_3  \\\n0                9.83            89             Access       Non Submission   \n1               11.80           100          No Access       Non Submission   \n2               62.35            42             Access           Attendance   \n3               99.15            51             Access  Concern for Welfare   \n4               20.65            19             Access  Concern for Welfare   \n\n                                            comments     identified_issues  \n0  Week 8. Student re-engaged with tutorials. Sub...       Late Enrollment  \n1  booked to see a doctor. Week 5. Student contac...  Poor time management  \n2  Week 8. Student re-engaged with tutorials. Sub...  Poor time management  \n3  Week 6. Student submitted assessment late. Ext...       Death in family  \n4  Week 3 late enrolment. Student finding it diff...              Sickness  ",
            "text/html": "<div>\n<style scoped>\n    .dataframe tbody tr th:only-of-type {\n        vertical-align: middle;\n    }\n\n    .dataframe tbody tr th {\n        vertical-align: top;\n    }\n\n    .dataframe thead th {\n        text-align: right;\n    }\n</style>\n<table border=\"1\" class=\"dataframe\">\n  <thead>\n    <tr style=\"text-align: right;\">\n      <th></th>\n      <th>student_id</th>\n      <th>course</th>\n      <th>student_cohort</th>\n      <th>academic_status</th>\n      <th>failed_subjects</th>\n      <th>study_skills(attended)</th>\n      <th>referral</th>\n      <th>pp_meeting</th>\n      <th>self_assessment</th>\n      <th>readiness_assessment_results</th>\n      <th>follow_up</th>\n      <th>follow_up_type</th>\n      <th>subject_1</th>\n      <th>subject_1_assess_1</th>\n      <th>subject_1_assess_2</th>\n      <th>subject_1_assess_3</th>\n      <th>subject_1_assess_4</th>\n      <th>attendance_1</th>\n      <th>learn_jcu_issues_1</th>\n      <th>lecturer_referral_1</th>\n      <th>subject_2</th>\n      <th>subject_2_assess_1</th>\n      <th>subject_2_assess_2</th>\n      <th>subject_2_assess_3</th>\n      <th>subject_2_assess_4</th>\n      <th>attendance_2</th>\n      <th>learn_jcu_issues_2</th>\n      <th>lecturer_referral_2</th>\n      <th>subject_3</th>\n      <th>subject_3_assess_1</th>\n      <th>subject_3_assess_2</th>\n      <th>subject_3_assess_3</th>\n      <th>subject_3_assess_4</th>\n      <th>attendance_3</th>\n      <th>learn_jcu_issues_3</th>\n      <th>lecturer_referral_3</th>\n      <th>comments</th>\n      <th>identified_issues</th>\n    </tr>\n  </thead>\n  <tbody>\n    <tr>\n      <th>0</th>\n      <td>1</td>\n      <td>master of business administration</td>\n      <td>SRI to JCUB</td>\n      <td>At Risk</td>\n      <td>NaN</td>\n      <td>Essential Skills</td>\n      <td>Student Counsellor</td>\n      <td>Booked</td>\n      <td>Yes</td>\n      <td>L/G:9/10 N:5/10 R:8/10</td>\n      <td>Yes</td>\n      <td>No Reply</td>\n      <td>LB5113</td>\n      <td>7.70</td>\n      <td>27.22</td>\n      <td>26.51</td>\n      <td>50.09</td>\n      <td>20</td>\n      <td>Access</td>\n      <td>Concern for Welfare</td>\n      <td>LB5202</td>\n      <td>69.33</td>\n      <td>44.44</td>\n      <td>11.39</td>\n      <td>18.78</td>\n      <td>41</td>\n      <td>Access</td>\n      <td>Attendance</td>\n      <td>LB5205</td>\n      <td>39.02</td>\n      <td>17.71</td>\n      <td>94.50</td>\n      <td>9.83</td>\n      <td>89</td>\n      <td>Access</td>\n      <td>Non Submission</td>\n      <td>Week 8. Student re-engaged with tutorials. Sub...</td>\n      <td>Late Enrollment</td>\n    </tr>\n    <tr>\n      <th>1</th>\n      <td>2</td>\n      <td>master of business administration</td>\n      <td>Continuing</td>\n      <td>Excluded</td>\n      <td>NaN</td>\n      <td>Referencing</td>\n      <td>Student Advocate</td>\n      <td>Not relevant</td>\n      <td>Yes</td>\n      <td>L/G:9/10 N:5/10 R:8/10</td>\n      <td>No</td>\n      <td>Phone</td>\n      <td>LB5113</td>\n      <td>31.14</td>\n      <td>54.66</td>\n      <td>81.72</td>\n      <td>1.96</td>\n      <td>9</td>\n      <td>Access</td>\n      <td>Non Submission</td>\n      <td>LB5202</td>\n      <td>95.23</td>\n      <td>48.61</td>\n      <td>14.68</td>\n      <td>44.77</td>\n      <td>66</td>\n      <td>No Access</td>\n      <td>Concern for Welfare</td>\n      <td>LB5205</td>\n      <td>3.72</td>\n      <td>38.52</td>\n      <td>25.80</td>\n      <td>11.80</td>\n      <td>100</td>\n      <td>No Access</td>\n      <td>Non Submission</td>\n      <td>booked to see a doctor. Week 5. Student contac...</td>\n      <td>Poor time management</td>\n    </tr>\n    <tr>\n      <th>2</th>\n      <td>3</td>\n      <td>master of business administration</td>\n      <td>First year</td>\n      <td>At Risk</td>\n      <td>NaN</td>\n      <td>Writing</td>\n      <td>Enrollment</td>\n      <td>Attended</td>\n      <td>Yes</td>\n      <td>L/G:9/10 N:5/10 R:8/10</td>\n      <td>Yes</td>\n      <td>Phone</td>\n      <td>LB5113</td>\n      <td>39.09</td>\n      <td>75.39</td>\n      <td>84.62</td>\n      <td>82.66</td>\n      <td>51</td>\n      <td>No Access</td>\n      <td>Attendance</td>\n      <td>LB5202</td>\n      <td>86.20</td>\n      <td>98.80</td>\n      <td>71.57</td>\n      <td>96.08</td>\n      <td>64</td>\n      <td>No Access</td>\n      <td>Concern for Welfare</td>\n      <td>LB5205</td>\n      <td>77.77</td>\n      <td>77.27</td>\n      <td>81.95</td>\n      <td>62.35</td>\n      <td>42</td>\n      <td>Access</td>\n      <td>Attendance</td>\n      <td>Week 8. Student re-engaged with tutorials. Sub...</td>\n      <td>Poor time management</td>\n    </tr>\n    <tr>\n      <th>3</th>\n      <td>4</td>\n      <td>master of business administration</td>\n      <td>New</td>\n      <td>Excluded</td>\n      <td>NaN</td>\n      <td>Essential Skills</td>\n      <td>Student Advocate</td>\n      <td>Attended</td>\n      <td>No</td>\n      <td>L/G:9/10 N:5/10 R:8/10</td>\n      <td>No</td>\n      <td>F2F</td>\n      <td>LB5113</td>\n      <td>88.59</td>\n      <td>84.36</td>\n      <td>3.79</td>\n      <td>26.05</td>\n      <td>34</td>\n      <td>Access</td>\n      <td>Concern for Welfare</td>\n      <td>LB5202</td>\n      <td>7.69</td>\n      <td>25.96</td>\n      <td>49.83</td>\n      <td>17.77</td>\n      <td>57</td>\n      <td>Access</td>\n      <td>Non Submission</td>\n      <td>LB5205</td>\n      <td>95.41</td>\n      <td>8.93</td>\n      <td>3.21</td>\n      <td>99.15</td>\n      <td>51</td>\n      <td>Access</td>\n      <td>Concern for Welfare</td>\n      <td>Week 6. Student submitted assessment late. Ext...</td>\n      <td>Death in family</td>\n    </tr>\n    <tr>\n      <th>4</th>\n      <td>5</td>\n      <td>master of business administration</td>\n      <td>Continuing</td>\n      <td>At Risk</td>\n      <td>NaN</td>\n      <td>Essential Skills and Reading</td>\n      <td>Student Counsellor</td>\n      <td>Not relevant</td>\n      <td>No</td>\n      <td>L/G:9/10 N:5/10 R:8/10</td>\n      <td>Yes</td>\n      <td>No Reply</td>\n      <td>LB5113</td>\n      <td>0.98</td>\n      <td>13.80</td>\n      <td>53.40</td>\n      <td>39.69</td>\n      <td>45</td>\n      <td>Access</td>\n      <td>Attendance</td>\n      <td>LB5202</td>\n      <td>60.51</td>\n      <td>57.47</td>\n      <td>15.80</td>\n      <td>33.59</td>\n      <td>3</td>\n      <td>No Access</td>\n      <td>Concern for Welfare</td>\n      <td>LB5205</td>\n      <td>90.12</td>\n      <td>52.18</td>\n      <td>36.05</td>\n      <td>20.65</td>\n      <td>19</td>\n      <td>Access</td>\n      <td>Concern for Welfare</td>\n      <td>Week 3 late enrolment. Student finding it diff...</td>\n      <td>Sickness</td>\n    </tr>\n  </tbody>\n</table>\n</div>"
          },
          "metadata": {}
        }
      ],
      "execution_count": 18,
      "metadata": {
        "gather": {
          "logged": 1753155134101
        }
      }
    },
    {
      "cell_type": "code",
      "source": [
        "df['academic_status'].value_counts()"
      ],
      "outputs": [
        {
          "output_type": "execute_result",
          "execution_count": 19,
          "data": {
            "text/plain": "Academic Caution    156\nAt Risk             148\nExcluded            133\nConditional         131\nSatisfactory        130\nName: academic_status, dtype: int64"
          },
          "metadata": {}
        }
      ],
      "execution_count": 19,
      "metadata": {
        "gather": {
          "logged": 1753155134731
        }
      }
    },
    {
      "cell_type": "markdown",
      "source": [
        "###### Clean the academic status column\n"
      ],
      "metadata": {
        "nteract": {
          "transient": {
            "deleting": false
          }
        }
      }
    },
    {
      "cell_type": "code",
      "source": [
        "# Standardize the values (strip whitespace and title case) \n",
        "df['academic_status'] = df['academic_status'].str.strip().str.title()"
      ],
      "outputs": [],
      "execution_count": 20,
      "metadata": {
        "gather": {
          "logged": 1753155135322
        }
      }
    },
    {
      "cell_type": "markdown",
      "source": [],
      "metadata": {
        "nteract": {
          "transient": {
            "deleting": false
          }
        }
      }
    },
    {
      "cell_type": "code",
      "source": [
        "# Shuffle the DataFrame\n",
        "df = df.sample(frac=1, random_state=42).reset_index(drop=True)\n",
        "# Define the target distribution\n",
        "target_counts = {\n",
        "    'Satisfactory': 524,\n",
        "    'Academic Caution': 70,\n",
        "    'Conditional': 99,\n",
        "    'Excluded': 5\n",
        "}"
      ],
      "outputs": [],
      "execution_count": 21,
      "metadata": {
        "gather": {
          "logged": 1753155135866
        }
      }
    },
    {
      "cell_type": "code",
      "source": [
        "# Create a new column with the desired academic status\n",
        "new_statuses = (\n",
        "    ['Satisfactory'] * target_counts['Satisfactory'] +\n",
        "    ['Academic Caution'] * target_counts['Academic Caution'] +\n",
        "    ['Conditional'] * target_counts['Conditional'] +\n",
        "    ['Excluded'] * target_counts['Excluded']\n",
        ")"
      ],
      "outputs": [],
      "execution_count": 22,
      "metadata": {
        "gather": {
          "logged": 1753155136408
        }
      }
    },
    {
      "cell_type": "code",
      "source": [
        "# Assign to the DataFrame\n",
        "df['academic_status'] = new_statuses\n",
        "\n",
        "# Confirm the new distribution\n",
        "df['academic_status'].value_counts()"
      ],
      "outputs": [
        {
          "output_type": "execute_result",
          "execution_count": 23,
          "data": {
            "text/plain": "Satisfactory        524\nConditional          99\nAcademic Caution     70\nExcluded              5\nName: academic_status, dtype: int64"
          },
          "metadata": {}
        }
      ],
      "execution_count": 23,
      "metadata": {
        "gather": {
          "logged": 1753155137054
        }
      }
    },
    {
      "cell_type": "markdown",
      "source": [
        "###### Clean the student cohort column"
      ],
      "metadata": {
        "nteract": {
          "transient": {
            "deleting": false
          }
        }
      }
    },
    {
      "cell_type": "code",
      "source": [
        "df['student_cohort'].value_counts()"
      ],
      "outputs": [
        {
          "output_type": "execute_result",
          "execution_count": 24,
          "data": {
            "text/plain": "Return to Study    101\nFirst year          93\nTransferred         92\nContinuing          89\nExcluded            86\nLOA                 85\nNew                 78\nSRI to JCUB         74\nName: student_cohort, dtype: int64"
          },
          "metadata": {}
        }
      ],
      "execution_count": 24,
      "metadata": {
        "gather": {
          "logged": 1753155137676
        }
      }
    },
    {
      "cell_type": "code",
      "source": [
        "# Distribute 86 excluded students\n",
        "excluded_stds = 6\n",
        "excluded_student_cohort_index = df[df['student_cohort']=='Excluded'].index\n",
        "random_assign = np.random.choice(excluded_student_cohort_index, size = len(excluded_student_cohort_index)-excluded_stds, replace=False)"
      ],
      "outputs": [],
      "execution_count": null,
      "metadata": {}
    },
    {
      "cell_type": "code",
      "source": [],
      "outputs": [],
      "execution_count": null,
      "metadata": {}
    },
    {
      "cell_type": "code",
      "source": [
        "# List of cohort values for which academic status is 'satisfactory\n",
        "satisfactory_cohorts = ['SRI to JCUB', 'Transferred', 'New']\n",
        "\n",
        "# Update the academic_status column for those cohorts\n",
        "df.loc[df['student_cohort'].isin(satisfactory_cohorts), 'academic_status'] = 'Satisfactory'"
      ],
      "outputs": [],
      "execution_count": 25,
      "metadata": {
        "gather": {
          "logged": 1753155138256
        }
      }
    },
    {
      "cell_type": "markdown",
      "source": [
        "###### Group Courses into IT and Non IT"
      ],
      "metadata": {
        "nteract": {
          "transient": {
            "deleting": false
          }
        }
      }
    },
    {
      "cell_type": "code",
      "source": [
        "# List of courses that falls under course group 'IT'\n",
        "it_courses = [ 'master of information technology',\n",
        "    'bachelor of information technology',\n",
        "    'master of data science (professional)',\n",
        "    'master of information technology - master of business administration',\n",
        "] "
      ],
      "outputs": [],
      "execution_count": 26,
      "metadata": {
        "gather": {
          "logged": 1753155138792
        }
      }
    },
    {
      "cell_type": "code",
      "source": [
        "# Create a new column 'course_group' based on whether the course is in the IT list\n",
        "df['course_group'] = df['course'].apply(\n",
        "    lambda x: 'IT' if x in it_courses else 'Non-IT'\n",
        ")\n"
      ],
      "outputs": [],
      "execution_count": 27,
      "metadata": {
        "gather": {
          "logged": 1753155139416
        }
      }
    },
    {
      "cell_type": "markdown",
      "source": [
        "###### Generate records of failed subjects for the course IT\n"
      ],
      "metadata": {
        "nteract": {
          "transient": {
            "deleting": false
          }
        }
      }
    },
    {
      "cell_type": "code",
      "source": [
        "# Get the row numbers (indices) for each group\n",
        "it_indices = df[df['course_group']== 'IT'].index\n",
        "\n",
        "# Subset of IT course\n",
        "# Check the distribution number of academic status (Course IT) \n",
        "it_df = df.loc[it_indices].copy()\n",
        "it_df['academic_status'].value_counts()"
      ],
      "outputs": [
        {
          "output_type": "execute_result",
          "execution_count": 28,
          "data": {
            "text/plain": "Satisfactory        132\nConditional          14\nAcademic Caution     10\nExcluded              1\nName: academic_status, dtype: int64"
          },
          "metadata": {}
        }
      ],
      "execution_count": 28,
      "metadata": {
        "gather": {
          "logged": 1753155139999
        }
      }
    },
    {
      "cell_type": "code",
      "source": [
        "# Select 6 students from IT students with the academic status 'Satisfactory'\n",
        "satisfactory_it = it_df[it_df['academic_status'] == 'Satisfactory'].index\n",
        "# Randomly choose indices to replace\n",
        "reassign_academic_status = np.random.choice(satisfactory_it, size = 6, replace = False)"
      ],
      "outputs": [],
      "execution_count": 29,
      "metadata": {
        "gather": {
          "logged": 1753155140593
        }
      }
    },
    {
      "cell_type": "code",
      "source": [
        "# Reassign 6 Students from Satisfactory to Other Academic Statuses\n",
        "statuses_to_assign = ['Conditional', 'Academic Caution', 'Excluded']\n",
        "for i, status in enumerate(statuses_to_assign):\n",
        "    df.loc[reassign_academic_status[i*3:(i+1)*3], 'academic_status'] = status"
      ],
      "outputs": [],
      "execution_count": 30,
      "metadata": {
        "gather": {
          "logged": 1753155141188
        }
      }
    },
    {
      "cell_type": "code",
      "source": [
        "# Check updated value counts for IT academic status\n",
        "it_df = df.loc[it_indices].copy()\n",
        "it_df['academic_status'].value_counts()"
      ],
      "outputs": [
        {
          "output_type": "execute_result",
          "execution_count": 31,
          "data": {
            "text/plain": "Satisfactory        126\nConditional          17\nAcademic Caution     13\nExcluded              1\nName: academic_status, dtype: int64"
          },
          "metadata": {}
        }
      ],
      "execution_count": 31,
      "metadata": {
        "gather": {
          "logged": 1753155141775
        }
      }
    },
    {
      "cell_type": "code",
      "source": [
        "# Assign 0 failed subjects to Satisfactory IT students\n",
        "satisfactory_mask = it_df['academic_status'] == 'Satisfactory'\n",
        "it_df.loc[satisfactory_mask, 'failed_subjects'] = 0\n",
        "\n",
        "# Identify non-Satisfactory (i.e., failed) students\n",
        "failed_mask = ~satisfactory_mask\n",
        "failed_it_indices = it_df[failed_mask].index\n",
        "\n",
        "# Assign >3 failed subjects to 10 students (1 of them should be Excluded)\n",
        "\n",
        "# First, get the Excluded student\n",
        "excluded_mask = it_df['academic_status'] == 'Excluded'\n",
        "excluded_index = it_df[excluded_mask].index\n",
        "\n",
        "# Assign random failed_subjects = 6–8 to the Excluded student\n",
        "it_df.loc[excluded_index, 'failed_subjects'] = np.random.randint(6, 9, size=len(excluded_index))\n",
        "\n",
        "# Now select 9 more students (excluding Excluded) to get 4–5 failed subjects\n",
        "eligible_for_high_fail = failed_it_indices.difference(excluded_index)\n",
        "\n",
        "# Now select 9 more students (excluding Excluded) to get 4–5 failed subjects\n",
        "eligible_for_high_fail = failed_it_indices.difference(excluded_index)\n",
        "\n",
        "# Select 9 more randomly to total 10 students failing >3 subjects\n",
        "more_than_3_indices = np.random.choice(eligible_for_high_fail, size=9, replace=False)\n",
        "it_df.loc[more_than_3_indices, 'failed_subjects'] = np.random.randint(4, 6, size=9)\n",
        "\n",
        "# STEP 5: Remaining IT failed students — distribute 1–2 failed subjects\n",
        "remaining_failed = eligible_for_high_fail.difference(more_than_3_indices)\n",
        "\n",
        "# 21 failed students remaining\n",
        "# Randomly split into two groups for 1 and 2 failed subjects\n",
        "n_remain = len(remaining_failed)  # 21\n",
        "half = n_remain // 2  # 10 or 11\n",
        "\n",
        "remaining_failed = list(remaining_failed)\n",
        "np.random.shuffle(remaining_failed)\n",
        "\n",
        "low_1_fail = remaining_failed[:half]\n",
        "low_2_fail = remaining_failed[half:]\n",
        "\n",
        "# Assign 1s and 2s\n",
        "it_df.loc[low_1_fail, 'failed_subjects'] = 1\n",
        "it_df.loc[low_2_fail, 'failed_subjects'] = 2"
      ],
      "outputs": [],
      "execution_count": 32,
      "metadata": {
        "gather": {
          "logged": 1753155142369
        }
      }
    },
    {
      "cell_type": "code",
      "source": [
        "# Update the failed_subjects column in the main data frame df\n",
        "df.loc[it_df.index, 'failed_subjects'] = it_df['failed_subjects']"
      ],
      "outputs": [],
      "execution_count": 33,
      "metadata": {
        "gather": {
          "logged": 1753155142950
        }
      }
    },
    {
      "cell_type": "code",
      "source": [
        "# Check only the IT students\n",
        "it_students = df.loc[it_indices]\n",
        "\n",
        "# 1. Total IT students who failed (not Satisfactory)\n",
        "it_failed = it_students[it_students['academic_status'] != 'Satisfactory']\n",
        "\n",
        "# 2. Total with non-zero failed_subjects\n",
        "non_zero_fails = it_failed[it_failed['failed_subjects'] > 0]\n",
        "print(\"Total assigned failed_subjects to IT failed students:\", len(non_zero_fails))  # 31\n",
        "\n",
        "# 3. Number of students with >3 failed subjects\n",
        "gt3 = non_zero_fails[non_zero_fails['failed_subjects'] > 3]\n",
        "print(\"Number with >3 failed subjects:\", len(gt3))  # 10\n",
        "\n",
        "# 4. Number with <=3 failed subjects\n",
        "lte3 = non_zero_fails[non_zero_fails['failed_subjects'] <= 3]\n",
        "print(\"Number with <=3 failed subjects:\", len(lte3))  # 21\n",
        "\n",
        "# 5. Print failed_subjects distribution (should show a variety like 1, 2, 4, etc.)\n",
        "print(\"\\nFailed Subjects Distribution:\")\n",
        "print(non_zero_fails['failed_subjects'].value_counts().sort_index())\n",
        "\n",
        "# 6. Confirm no failed_subjects assigned to Satisfactory students\n",
        "sat_students = it_students[it_students['academic_status'] == 'Satisfactory']\n",
        "sats_with_fails = sat_students[sat_students['failed_subjects'] != 0]\n",
        "print(\"\\nSatisfactory students incorrectly assigned fails:\", len(sats_with_fails))  # 0\n"
      ],
      "outputs": [
        {
          "output_type": "stream",
          "name": "stdout",
          "text": "Total assigned failed_subjects to IT failed students: 31\nNumber with >3 failed subjects: 10\nNumber with <=3 failed subjects: 21\n\nFailed Subjects Distribution:\n1.0    10\n2.0    11\n4.0     8\n5.0     1\n7.0     1\nName: failed_subjects, dtype: int64\n\nSatisfactory students incorrectly assigned fails: 0\n"
        }
      ],
      "execution_count": 34,
      "metadata": {
        "gather": {
          "logged": 1753155143589
        }
      }
    },
    {
      "cell_type": "markdown",
      "source": [
        "###### Generate records of failed subjects for the course Non-IT\n"
      ],
      "metadata": {
        "nteract": {
          "transient": {
            "deleting": false
          }
        }
      }
    },
    {
      "cell_type": "code",
      "source": [
        "# Get non-IT indices\n",
        "nonit_indices = df[df['course_group']== 'Non-IT'].index\n",
        "\n",
        "# Subset of Non-IT course\n",
        "# Check the distribution number of academic status (Course Non-IT) \n",
        "nonit_df = df.loc[nonit_indices].copy()\n",
        "nonit_df['academic_status'].value_counts()"
      ],
      "outputs": [
        {
          "output_type": "execute_result",
          "execution_count": 35,
          "data": {
            "text/plain": "Satisfactory        458\nConditional          48\nAcademic Caution     32\nExcluded              3\nName: academic_status, dtype: int64"
          },
          "metadata": {}
        }
      ],
      "execution_count": 35,
      "metadata": {
        "gather": {
          "logged": 1753155144189
        }
      }
    },
    {
      "cell_type": "code",
      "source": [
        "# CONTROL 'Excluded' COUNT TO 5\n",
        "current_excluded = (nonit_df['academic_status'] == 'Excluded').sum()\n",
        "desired = 5\n",
        "\n",
        "if current_excluded > desired:\n",
        "    # Too many: set some to 'Conditional' or similar\n",
        "    excluded = nonit_df[nonit_df['academic_status'] == 'Excluded'].index\n",
        "    to_remove = np.random.choice(excluded, current_excluded - desired, replace=False)\n",
        "    df.loc[to_remove, 'academic_status'] = 'Conditional'  # or 'Academic Caution'\n",
        "elif current_excluded < desired:\n",
        "    # Too few: set some from non-Excluded, non-Satisfactory\n",
        "    not_excluded = nonit_df[nonit_df['academic_status'] != 'Excluded'].index\n",
        "    candidates = not_excluded.intersection(nonit_df[nonit_df['academic_status'] != 'Satisfactory'].index)\n",
        "    to_add = np.random.choice(candidates, desired - current_excluded, replace=False)\n",
        "    df.loc[to_add, 'academic_status'] = 'Excluded'\n"
      ],
      "outputs": [],
      "execution_count": 36,
      "metadata": {
        "gather": {
          "logged": 1753155144969
        }
      }
    },
    {
      "cell_type": "code",
      "source": [
        "# Refresh\n",
        "nonit_df = df.loc[nonit_indices].copy()\n",
        "print(\"After setting exactly 5 'Excluded':\")\n",
        "print(nonit_df['academic_status'].value_counts())"
      ],
      "outputs": [
        {
          "output_type": "stream",
          "name": "stdout",
          "text": "After setting exactly 5 'Excluded':\nSatisfactory        458\nConditional          47\nAcademic Caution     31\nExcluded              5\nName: academic_status, dtype: int64\n"
        }
      ],
      "execution_count": 37,
      "metadata": {
        "gather": {
          "logged": 1753155145603
        }
      }
    },
    {
      "cell_type": "code",
      "source": [
        "# 3. NOW ASSIGN 'Satisfactory' TO NON-EXCLUDED, NON-SATISFACTORY STUDENTS\n",
        "non_satisfactory = nonit_df['academic_status'] != 'Satisfactory'\n",
        "non_excluded = nonit_df['academic_status'] != 'Excluded'\n",
        "eligible = nonit_df[non_satisfactory & non_excluded].index\n",
        "\n",
        "reassign_academic_status = np.random.choice(eligible, min(37, len(eligible)), replace=False)\n",
        "df.loc[reassign_academic_status, 'academic_status'] = 'Satisfactory'\n",
        "\n",
        "# Final counts\n",
        "nonit_df = df.loc[nonit_indices].copy()\n",
        "print(\"Final:\")\n",
        "print(nonit_df['academic_status'].value_counts())"
      ],
      "outputs": [
        {
          "output_type": "stream",
          "name": "stdout",
          "text": "Final:\nSatisfactory        495\nConditional          28\nAcademic Caution     13\nExcluded              5\nName: academic_status, dtype: int64\n"
        }
      ],
      "execution_count": 38,
      "metadata": {
        "gather": {
          "logged": 1753155146456
        }
      }
    },
    {
      "cell_type": "code",
      "source": [
        "# Assign 0 failed subjects to Satisfactory Non IT students\n",
        "satisfactory_mask = nonit_df['academic_status'] == 'Satisfactory'\n",
        "nonit_df.loc[satisfactory_mask, 'failed_subjects'] = 0\n",
        "\n",
        "# Identify non-Satisfactory (i.e., failed) students\n",
        "failed_mask = ~satisfactory_mask\n",
        "failed_nonit_indices = nonit_df[failed_mask].index\n",
        "\n",
        "# Assign >3 failed subjects to 7 students (5 of them should be Excluded)\n",
        "\n",
        "# First, get the Excluded student\n",
        "excluded_mask = nonit_df['academic_status'] == 'Excluded'\n",
        "excluded_index = nonit_df[excluded_mask].index\n",
        "\n",
        "# Assign random failed_subjects = 6–8 to the Excluded student\n",
        "nonit_df.loc[excluded_index, 'failed_subjects'] = np.random.randint(6, 9, size=len(excluded_index))\n",
        "\n",
        "# Now select 2 more students (excluding Excluded) to get 4–5 failed subjects\n",
        "eligible_for_high_fail = failed_nonit_indices.difference(excluded_index)\n",
        "\n",
        "# Select 2 more randomly to total 7 students failing >3 subjects\n",
        "more_than_3_indices = np.random.choice(eligible_for_high_fail, size=2, replace=False)\n",
        "nonit_df.loc[more_than_3_indices, 'failed_subjects'] = np.random.randint(4, 6, size=2)\n",
        "\n",
        "# STEP 5: Remaining Non IT failed students — distribute 1–2 failed subjects\n",
        "remaining_failed = eligible_for_high_fail.difference(more_than_3_indices)\n",
        "\n",
        "# 39 failed students remaining\n",
        "# Randomly split into two groups for 1 and 2 failed subjects\n",
        "n_remain = len(remaining_failed)  # 31\n",
        "half = n_remain // 2 # 15 or 16\n",
        "\n",
        "remaining_failed = list(remaining_failed)\n",
        "np.random.shuffle(remaining_failed)\n",
        "\n",
        "low_1_fail = remaining_failed[:half]\n",
        "low_2_fail = remaining_failed[half:]\n",
        "\n",
        "# Assign 1s and 2s\n",
        "nonit_df.loc[low_1_fail, 'failed_subjects'] = 1\n",
        "nonit_df.loc[low_2_fail, 'failed_subjects'] = 2"
      ],
      "outputs": [],
      "execution_count": 39,
      "metadata": {
        "gather": {
          "logged": 1753155147021
        }
      }
    },
    {
      "cell_type": "code",
      "source": [
        "# Update the failed_subjects column in the main data frame df\n",
        "df.loc[nonit_df.index, 'failed_subjects'] = nonit_df['failed_subjects']"
      ],
      "outputs": [],
      "execution_count": 40,
      "metadata": {
        "gather": {
          "logged": 1753155147662
        }
      }
    },
    {
      "cell_type": "code",
      "source": [
        "# Check only the Non IT students\n",
        "nonit_students = df.loc[nonit_indices]\n",
        "\n",
        "# 1. Total Non IT students who failed (not Satisfactory)\n",
        "nonit_failed = nonit_students[nonit_students['academic_status'] != 'Satisfactory']\n",
        "\n",
        "# 2. Total with non-zero failed_subjects\n",
        "non_zero_fails = nonit_failed[nonit_failed['failed_subjects'] > 0]\n",
        "print(\"Total assigned failed_subjects to Non IT failed students:\", len(non_zero_fails))  # 46\n",
        "\n",
        "# 3. Number of students with >3 failed subjects\n",
        "gt3 = non_zero_fails[non_zero_fails['failed_subjects'] > 3]\n",
        "print(\"Number with >3 failed subjects:\", len(gt3))  # 10\n",
        "\n",
        "# 4. Number with <=3 failed subjects\n",
        "lte3 = non_zero_fails[non_zero_fails['failed_subjects'] <= 3]\n",
        "print(\"Number with <=3 failed subjects:\", len(lte3))  # 21\n",
        "\n",
        "# 5. Print failed_subjects distribution (should show a variety like 1, 2, 4, etc.)\n",
        "print(\"\\nFailed Subjects Distribution:\")\n",
        "print(non_zero_fails['failed_subjects'].value_counts().sort_index())\n",
        "\n",
        "# 6. Confirm no failed_subjects assigned to Satisfactory students\n",
        "sat_students = nonit_students[nonit_students['academic_status'] == 'Satisfactory']\n",
        "sats_with_fails = sat_students[sat_students['failed_subjects'] != 0]\n",
        "print(\"\\nSatisfactory students incorrectly assigned fails:\", len(sats_with_fails))  # 0\n"
      ],
      "outputs": [
        {
          "output_type": "stream",
          "name": "stdout",
          "text": "Total assigned failed_subjects to Non IT failed students: 46\nNumber with >3 failed subjects: 7\nNumber with <=3 failed subjects: 39\n\nFailed Subjects Distribution:\n1.0    19\n2.0    20\n4.0     2\n6.0     1\n7.0     2\n8.0     2\nName: failed_subjects, dtype: int64\n\nSatisfactory students incorrectly assigned fails: 0\n"
        }
      ],
      "execution_count": 41,
      "metadata": {
        "gather": {
          "logged": 1753155148309
        }
      }
    },
    {
      "cell_type": "code",
      "source": [
        "df['academic_status'].value_counts()"
      ],
      "outputs": [
        {
          "output_type": "execute_result",
          "execution_count": 42,
          "data": {
            "text/plain": "Satisfactory        621\nConditional          45\nAcademic Caution     26\nExcluded              6\nName: academic_status, dtype: int64"
          },
          "metadata": {}
        }
      ],
      "execution_count": 42,
      "metadata": {
        "gather": {
          "logged": 1753155148965
        }
      }
    },
    {
      "cell_type": "code",
      "source": [
        "df['identified_issues'].value_counts()"
      ],
      "outputs": [
        {
          "output_type": "execute_result",
          "execution_count": 43,
          "data": {
            "text/plain": "Late Enrollment         152\nMental health           144\nSickness                139\nPoor time management    132\nDeath in family         131\nName: identified_issues, dtype: int64"
          },
          "metadata": {}
        }
      ],
      "execution_count": 43,
      "metadata": {
        "gather": {
          "logged": 1753155149663
        }
      }
    },
    {
      "cell_type": "code",
      "source": [
        "df['student_cohort'].value_counts()"
      ],
      "outputs": [
        {
          "output_type": "execute_result",
          "execution_count": 44,
          "data": {
            "text/plain": "Return to Study    101\nFirst year          93\nTransferred         92\nContinuing          89\nExcluded            86\nLOA                 85\nNew                 78\nSRI to JCUB         74\nName: student_cohort, dtype: int64"
          },
          "metadata": {}
        }
      ],
      "execution_count": 44,
      "metadata": {
        "gather": {
          "logged": 1753155150344
        }
      }
    },
    {
      "cell_type": "markdown",
      "source": [
        "###### Balance identified issues"
      ],
      "metadata": {
        "nteract": {
          "transient": {
            "deleting": false
          }
        }
      }
    },
    {
      "cell_type": "code",
      "source": [
        "# Count how many 'New' students had 'Late Enrollment' as an identified issue\n",
        "df[(df['student_cohort'] == 'New') & (df['identified_issues'] == 'Late Enrollment')].shape"
      ],
      "outputs": [
        {
          "output_type": "execute_result",
          "execution_count": 45,
          "data": {
            "text/plain": "(23, 39)"
          },
          "metadata": {}
        }
      ],
      "execution_count": 45,
      "metadata": {
        "gather": {
          "logged": 1753155150979
        }
      }
    },
    {
      "cell_type": "code",
      "source": [
        "# Reassign identified issues for New students\n",
        "\n",
        "new_late_enrollment_indices = df[(df['student_cohort'] == 'New') & (df['identified_issues'] == 'Late Enrollment')].index\n",
        "\n",
        "# Randomly choose indices to replace\n",
        "\n",
        "reassign_identified_issue = np.random.choice(new_late_enrollment_indices, size = len(new_late_enrollment_indices)-20, replace=False)\n",
        "df.loc[reassign_identified_issue, 'identified_issues'] = 'None'"
      ],
      "outputs": [],
      "execution_count": 46,
      "metadata": {
        "gather": {
          "logged": 1753155151602
        }
      }
    },
    {
      "cell_type": "code",
      "source": [
        "df[(df['student_cohort'] == 'New') & (df['identified_issues'] == 'Late Enrollment')].shape"
      ],
      "outputs": [
        {
          "output_type": "execute_result",
          "execution_count": 47,
          "data": {
            "text/plain": "(20, 39)"
          },
          "metadata": {}
        }
      ],
      "execution_count": 47,
      "metadata": {
        "gather": {
          "logged": 1753155152225
        }
      }
    },
    {
      "cell_type": "code",
      "source": [
        "df[(df['student_cohort'] != 'New')  & (df['academic_status'] == 'Satisfactory')].shape"
      ],
      "outputs": [
        {
          "output_type": "execute_result",
          "execution_count": 48,
          "data": {
            "text/plain": "(543, 39)"
          },
          "metadata": {}
        }
      ],
      "execution_count": 48,
      "metadata": {
        "gather": {
          "logged": 1753155152918
        }
      }
    },
    {
      "cell_type": "code",
      "source": [
        "# Reassign identified issues for Satisfactory Students students\n",
        "\n",
        "satisfactory_identified_issues_indices = df[(df['student_cohort'] != 'New')  & (df['academic_status'] == 'Satisfactory')].index\n",
        "\n",
        "# Randomly choose indices to replace\n",
        "# 80% of students with academic status Satisfactory (Not new)\n",
        "reassign_identified_issue = np.random.choice(satisfactory_identified_issues_indices, size = 434, replace=False)\n",
        "df.loc[reassign_identified_issue, 'identified_issues'] = 'None'"
      ],
      "outputs": [],
      "execution_count": 49,
      "metadata": {
        "gather": {
          "logged": 1753155153605
        }
      }
    },
    {
      "cell_type": "code",
      "source": [
        "df[(df['student_cohort'] != 'New')  & (df['academic_status'] == 'Satisfactory') & (df['identified_issues'] == 'None')].shape"
      ],
      "outputs": [
        {
          "output_type": "execute_result",
          "execution_count": 50,
          "data": {
            "text/plain": "(434, 39)"
          },
          "metadata": {}
        }
      ],
      "execution_count": 50,
      "metadata": {
        "gather": {
          "logged": 1753155154315
        }
      }
    },
    {
      "cell_type": "code",
      "source": [
        "df['identified_issues'].value_counts()"
      ],
      "outputs": [
        {
          "output_type": "execute_result",
          "execution_count": 51,
          "data": {
            "text/plain": "None                    437\nSickness                 55\nLate Enrollment          55\nMental health            53\nDeath in family          52\nPoor time management     46\nName: identified_issues, dtype: int64"
          },
          "metadata": {}
        }
      ],
      "execution_count": 51,
      "metadata": {
        "gather": {
          "logged": 1753155155008
        }
      }
    },
    {
      "cell_type": "markdown",
      "source": [
        "###### Clean study skills column"
      ],
      "metadata": {
        "nteract": {
          "transient": {
            "deleting": false
          }
        }
      }
    },
    {
      "cell_type": "code",
      "source": [
        "df['study_skills(attended)'].value_counts()"
      ],
      "outputs": [
        {
          "output_type": "execute_result",
          "execution_count": 52,
          "data": {
            "text/plain": "Referencing                     140\nWriting                         125\nStudiocity                      117\nEssential Skills                113\nEssential Skills and Reading    108\n4R Essential Skills              95\nName: study_skills(attended), dtype: int64"
          },
          "metadata": {}
        }
      ],
      "execution_count": 52,
      "metadata": {
        "gather": {
          "logged": 1753155155684
        }
      }
    },
    {
      "cell_type": "code",
      "source": [
        "# Only for first year and new students\n",
        "study_skills_index = df[~df['student_cohort'].isin(['New', 'First year'])].index\n",
        "reassign_study_skills = np.random.choice(study_skills_index, size = len(study_skills_index), replace=False)\n",
        "df.loc[reassign_study_skills, 'study_skills(attended)'] = 'None'\n",
        "df['study_skills(attended)'].value_counts()"
      ],
      "outputs": [
        {
          "output_type": "execute_result",
          "execution_count": 53,
          "data": {
            "text/plain": "None                            527\nWriting                          34\nStudiocity                       33\nEssential Skills                 29\nReferencing                      28\nEssential Skills and Reading     26\n4R Essential Skills              21\nName: study_skills(attended), dtype: int64"
          },
          "metadata": {}
        }
      ],
      "execution_count": 53,
      "metadata": {
        "gather": {
          "logged": 1753155156356
        }
      }
    },
    {
      "cell_type": "code",
      "source": [
        "df.info()"
      ],
      "outputs": [
        {
          "output_type": "stream",
          "name": "stdout",
          "text": "<class 'pandas.core.frame.DataFrame'>\nRangeIndex: 698 entries, 0 to 697\nData columns (total 39 columns):\n #   Column                        Non-Null Count  Dtype  \n---  ------                        --------------  -----  \n 0   student_id                    698 non-null    int64  \n 1   course                        698 non-null    object \n 2   student_cohort                698 non-null    object \n 3   academic_status               698 non-null    object \n 4   failed_subjects               698 non-null    float64\n 5   study_skills(attended)        698 non-null    object \n 6   referral                      698 non-null    object \n 7   pp_meeting                    698 non-null    object \n 8   self_assessment               698 non-null    object \n 9   readiness_assessment_results  698 non-null    object \n 10  follow_up                     698 non-null    object \n 11  follow_up_type                698 non-null    object \n 12  subject_1                     698 non-null    object \n 13  subject_1_assess_1            698 non-null    float64\n 14  subject_1_assess_2            698 non-null    float64\n 15  subject_1_assess_3            698 non-null    float64\n 16  subject_1_assess_4            698 non-null    float64\n 17  attendance_1                  698 non-null    int64  \n 18  learn_jcu_issues_1            698 non-null    object \n 19  lecturer_referral_1           698 non-null    object \n 20  subject_2                     698 non-null    object \n 21  subject_2_assess_1            698 non-null    float64\n 22  subject_2_assess_2            698 non-null    float64\n 23  subject_2_assess_3            698 non-null    float64\n 24  subject_2_assess_4            698 non-null    float64\n 25  attendance_2                  698 non-null    int64  \n 26  learn_jcu_issues_2            698 non-null    object \n 27  lecturer_referral_2           698 non-null    object \n 28  subject_3                     698 non-null    object \n 29  subject_3_assess_1            698 non-null    float64\n 30  subject_3_assess_2            698 non-null    float64\n 31  subject_3_assess_3            698 non-null    float64\n 32  subject_3_assess_4            698 non-null    float64\n 33  attendance_3                  698 non-null    int64  \n 34  learn_jcu_issues_3            698 non-null    object \n 35  lecturer_referral_3           698 non-null    object \n 36  comments                      698 non-null    object \n 37  identified_issues             698 non-null    object \n 38  course_group                  698 non-null    object \ndtypes: float64(13), int64(4), object(22)\nmemory usage: 212.8+ KB\n"
        }
      ],
      "execution_count": 54,
      "metadata": {
        "gather": {
          "logged": 1753155156982
        }
      }
    },
    {
      "cell_type": "markdown",
      "source": [
        "###### Clean Attendance Data\n",
        "This section prepares the attendance data for analysis by handling missing values, correcting inconsistencies, and ensuring all attendance records are valid and comparable."
      ],
      "metadata": {
        "nteract": {
          "transient": {
            "deleting": false
          }
        }
      }
    },
    {
      "cell_type": "code",
      "source": [
        "# Parameters\n",
        "MIN_ATTD_ASSIGN = 53   # Minimum attendance to assign (just above threshold)\n",
        "MAX_ATTD_ASSIGN = 100  # Maximum attendance to assign (100%)"
      ],
      "outputs": [],
      "execution_count": 55,
      "metadata": {
        "gather": {
          "logged": 1753155157546
        }
      }
    },
    {
      "cell_type": "code",
      "source": [
        "df['attendance_1'].describe()"
      ],
      "outputs": [
        {
          "output_type": "execute_result",
          "execution_count": 56,
          "data": {
            "text/plain": "count    698.000000\nmean      51.173352\nstd       29.311125\nmin        0.000000\n25%       26.000000\n50%       52.000000\n75%       77.000000\nmax      100.000000\nName: attendance_1, dtype: float64"
          },
          "metadata": {}
        }
      ],
      "execution_count": 56,
      "metadata": {
        "gather": {
          "logged": 1753155158233
        }
      }
    },
    {
      "cell_type": "code",
      "source": [
        "df['academic_status'].value_counts()"
      ],
      "outputs": [
        {
          "output_type": "execute_result",
          "execution_count": 57,
          "data": {
            "text/plain": "Satisfactory        621\nConditional          45\nAcademic Caution     26\nExcluded              6\nName: academic_status, dtype: int64"
          },
          "metadata": {}
        }
      ],
      "execution_count": 57,
      "metadata": {
        "gather": {
          "logged": 1753155158907
        }
      }
    },
    {
      "cell_type": "code",
      "source": [
        "# Check for students with attendance less than 52%\n",
        "all_low_attendance = df[df['attendance_1'] <= 52]\n",
        "\n",
        "# Satisfactory attendance\n",
        "satisfactory_low_52 = len(all_low_attendance[all_low_attendance['academic_status'] == 'Satisfactory'])\n",
        "\n",
        "# Non-Satisfactory attendance\n",
        "non_satisfactory_low_52 = len(all_low_attendance[all_low_attendance['academic_status'] != 'Satisfactory'])\n",
        "\n",
        "print(satisfactory_low_52, non_satisfactory_low_52)\n",
        "print(satisfactory_low_52 + non_satisfactory_low_52, \"should equal\", len(all_low_attendance))\n"
      ],
      "outputs": [
        {
          "output_type": "stream",
          "name": "stdout",
          "text": "314 43\n357 should equal 357\n"
        }
      ],
      "execution_count": 58,
      "metadata": {
        "gather": {
          "logged": 1753155159575
        }
      }
    },
    {
      "cell_type": "code",
      "source": [
        "# First year with attendance less than 52%\n",
        "first_year_low_52 = len(all_low_attendance[all_low_attendance['student_cohort']=='First year'])\n",
        "first_year_low_52\n",
        "\n"
      ],
      "outputs": [
        {
          "output_type": "execute_result",
          "execution_count": 59,
          "data": {
            "text/plain": "49"
          },
          "metadata": {}
        }
      ],
      "execution_count": 59,
      "metadata": {
        "gather": {
          "logged": 1753155160266
        }
      }
    },
    {
      "cell_type": "code",
      "source": [
        "# New students with attendance less than 52%\n",
        "new_low_52 = len(all_low_attendance[all_low_attendance['student_cohort']=='New'])\n",
        "new_low_52"
      ],
      "outputs": [
        {
          "output_type": "execute_result",
          "execution_count": 60,
          "data": {
            "text/plain": "38"
          },
          "metadata": {}
        }
      ],
      "execution_count": 60,
      "metadata": {
        "gather": {
          "logged": 1753155160978
        }
      }
    },
    {
      "cell_type": "code",
      "source": [
        "# Remaining student cohorts with less than 52%\n",
        "mask = ~all_low_attendance['student_cohort'].isin(['New', 'First year'])\n",
        "std_less_52 = len(all_low_attendance[mask])\n",
        "std_less_52"
      ],
      "outputs": [
        {
          "output_type": "execute_result",
          "execution_count": 61,
          "data": {
            "text/plain": "270"
          },
          "metadata": {}
        }
      ],
      "execution_count": 61,
      "metadata": {
        "gather": {
          "logged": 1753155161663
        }
      }
    },
    {
      "cell_type": "code",
      "source": [
        "# Get first year students with academic status 'Satisfactory' and attendance less than 52\n",
        "df[(df['student_cohort']== 'First year') & (df['academic_status']=='Satisfactory') & (df['attendance_1']<=52)].shape\n"
      ],
      "outputs": [
        {
          "output_type": "execute_result",
          "execution_count": 62,
          "data": {
            "text/plain": "(43, 39)"
          },
          "metadata": {}
        }
      ],
      "execution_count": 62,
      "metadata": {
        "gather": {
          "logged": 1753155162437
        }
      }
    },
    {
      "cell_type": "code",
      "source": [
        "df[(df['student_cohort']== 'First year') & (df['academic_status']=='Satisfactory')].shape"
      ],
      "outputs": [
        {
          "output_type": "execute_result",
          "execution_count": 63,
          "data": {
            "text/plain": "(75, 39)"
          },
          "metadata": {}
        }
      ],
      "execution_count": 63,
      "metadata": {
        "gather": {
          "logged": 1753155163151
        }
      }
    },
    {
      "cell_type": "code",
      "source": [
        "df[(df['student_cohort']== 'First year') & (df['academic_status']!='Satisfactory')].shape"
      ],
      "outputs": [
        {
          "output_type": "execute_result",
          "execution_count": 64,
          "data": {
            "text/plain": "(18, 39)"
          },
          "metadata": {}
        }
      ],
      "execution_count": 64,
      "metadata": {
        "gather": {
          "logged": 1753155163900
        }
      }
    },
    {
      "cell_type": "code",
      "source": [
        "# Get index of first year students with academic status 'Satisfactory' and attendance less than 52\n",
        "\n",
        "first_year_satisfactory = df[(df['student_cohort']== 'First year') & (df['academic_status']=='Satisfactory') & (df['attendance_1']<=52)]\n",
        "first_year_index = first_year_satisfactory.index\n",
        "\n",
        "# Change the attendance of 30% first year students to more than 52%\n",
        "n_assign = 38 # Maximum number of students to assign higher attendance\n",
        "\n",
        "# Draw random sample of up to n_assign students\n",
        "n_select = min(n_assign, len(first_year_index))\n",
        "random_assign_attendance = np.random.choice(first_year_index, size = n_assign, replace = False)\n",
        "df.loc[random_assign_attendance, 'attendance_1'] = np.random.uniform(MIN_ATTD_ASSIGN, MAX_ATTD_ASSIGN, size=n_select)"
      ],
      "outputs": [],
      "execution_count": 65,
      "metadata": {
        "gather": {
          "logged": 1753155164654
        }
      }
    },
    {
      "cell_type": "code",
      "source": [
        "df[(df['student_cohort']== 'First year') & (df['academic_status']=='Satisfactory') & (df['attendance_1']<=52)].shape"
      ],
      "outputs": [
        {
          "output_type": "execute_result",
          "execution_count": 66,
          "data": {
            "text/plain": "(5, 39)"
          },
          "metadata": {}
        }
      ],
      "execution_count": 66,
      "metadata": {
        "gather": {
          "logged": 1753155165378
        }
      }
    },
    {
      "cell_type": "code",
      "source": [
        "first_year_non_satisfactory= df[(df['student_cohort']== 'First year') & (df['academic_status']!='Satisfactory') & (df['attendance_1']<=52)]\n",
        "first_year_non_satisfactory.shape\n",
        "first_year_non_satisfactory= df[(df['student_cohort']== 'First year') & (df['academic_status']!='Satisfactory') & (df['attendance_1']>52)]\n",
        "first_year_non_satisfactory.shape"
      ],
      "outputs": [
        {
          "output_type": "execute_result",
          "execution_count": 67,
          "data": {
            "text/plain": "(12, 39)"
          },
          "metadata": {}
        }
      ],
      "execution_count": 67,
      "metadata": {
        "gather": {
          "logged": 1753155166433
        }
      }
    },
    {
      "cell_type": "code",
      "source": [
        "df[(df['student_cohort']== 'New') & (df['academic_status']=='Satisfactory') & (df['attendance_1']<=52)].shape"
      ],
      "outputs": [
        {
          "output_type": "execute_result",
          "execution_count": 68,
          "data": {
            "text/plain": "(38, 39)"
          },
          "metadata": {}
        }
      ],
      "execution_count": 68,
      "metadata": {
        "gather": {
          "logged": 1753155167153
        }
      }
    },
    {
      "cell_type": "code",
      "source": [
        "df[(df['student_cohort']== 'New') & (df['academic_status']!='Satisfactory') & (df['attendance_1']<=52)].shape"
      ],
      "outputs": [
        {
          "output_type": "execute_result",
          "execution_count": 69,
          "data": {
            "text/plain": "(0, 39)"
          },
          "metadata": {}
        }
      ],
      "execution_count": 69,
      "metadata": {
        "gather": {
          "logged": 1753155167785
        }
      }
    },
    {
      "cell_type": "code",
      "source": [
        "df[df['student_cohort']=='New']['academic_status'].value_counts()"
      ],
      "outputs": [
        {
          "output_type": "execute_result",
          "execution_count": 70,
          "data": {
            "text/plain": "Satisfactory    78\nName: academic_status, dtype: int64"
          },
          "metadata": {}
        }
      ],
      "execution_count": 70,
      "metadata": {
        "gather": {
          "logged": 1753155168450
        }
      }
    },
    {
      "cell_type": "code",
      "source": [
        "# Get index of New students with academic status 'Satisfactory'\n",
        "\n",
        "new_satisfactory = df[(df['student_cohort']=='New') & (df['academic_status']=='Satisfactory') & (df['attendance_1']<=52)]\n",
        "new_index = new_satisfactory.index\n",
        "\n",
        "# Change the attendance of 10 New students to more than 52%\n",
        "n_assign = 27 # Maximum number of students to assign higher attendance\n",
        "\n",
        "# Draw random sample of up to n_assign students\n",
        "n_select = min(n_assign, len(new_index))\n",
        "random_assign_attendance = np.random.choice(new_index, size = n_assign, replace = False)\n",
        "df.loc[random_assign_attendance, 'attendance_1'] = np.random.uniform(MIN_ATTD_ASSIGN, MAX_ATTD_ASSIGN, size=n_select)"
      ],
      "outputs": [],
      "execution_count": 71,
      "metadata": {
        "gather": {
          "logged": 1753155169076
        }
      }
    },
    {
      "cell_type": "code",
      "source": [
        "df[(df['student_cohort']=='New') & (df['attendance_1']<=52) & (df['academic_status']=='Satisfactory')].shape"
      ],
      "outputs": [
        {
          "output_type": "execute_result",
          "execution_count": 72,
          "data": {
            "text/plain": "(11, 39)"
          },
          "metadata": {}
        }
      ],
      "execution_count": 72,
      "metadata": {
        "gather": {
          "logged": 1753155169775
        }
      }
    },
    {
      "cell_type": "code",
      "source": [
        "df[(~df['student_cohort'].isin(['First year', 'New'])) & (df['academic_status'] == 'Satisfactory') & (df['attendance_1'] <= 52)].shape"
      ],
      "outputs": [
        {
          "output_type": "execute_result",
          "execution_count": 73,
          "data": {
            "text/plain": "(233, 39)"
          },
          "metadata": {}
        }
      ],
      "execution_count": 73,
      "metadata": {
        "gather": {
          "logged": 1753155170446
        }
      }
    },
    {
      "cell_type": "code",
      "source": [
        "# Get index of students with academic status 'Satisfactory'\n",
        "\n",
        "stds_satisfactory = df[(~df['student_cohort'].isin(['First year', 'New'])) & (df['academic_status'] == 'Satisfactory') & (df['attendance_1'] <= 52)]\n",
        "stds_satisfactory_index = stds_satisfactory.index\n",
        "\n",
        "# Change the attendance of 3 New students to more than 52%\n",
        "n_assign = 226 # Maximum number of students to assign higher attendance\n",
        "\n",
        "# Draw random sample of up to n_assign students\n",
        "n_select = min(n_assign, len(stds_satisfactory_index))\n",
        "random_assign_attendance = np.random.choice(stds_satisfactory_index, size = n_assign, replace = False)\n",
        "df.loc[random_assign_attendance, 'attendance_1'] = np.random.uniform(MIN_ATTD_ASSIGN, MAX_ATTD_ASSIGN, size=n_select)"
      ],
      "outputs": [],
      "execution_count": 74,
      "metadata": {
        "gather": {
          "logged": 1753155171098
        }
      }
    },
    {
      "cell_type": "code",
      "source": [
        "df[(~df['student_cohort'].isin(['First year', 'New'])) & (df['academic_status'] == 'Satisfactory') & (df['attendance_1'] <= 52)].shape"
      ],
      "outputs": [
        {
          "output_type": "execute_result",
          "execution_count": 75,
          "data": {
            "text/plain": "(7, 39)"
          },
          "metadata": {}
        }
      ],
      "execution_count": 75,
      "metadata": {
        "gather": {
          "logged": 1753155171703
        }
      }
    },
    {
      "cell_type": "code",
      "source": [
        "df[(~df['student_cohort'].isin(['First year', 'New'])) & (df['academic_status'] != 'Satisfactory') & (df['attendance_1'] <= 52)].shape"
      ],
      "outputs": [
        {
          "output_type": "execute_result",
          "execution_count": 76,
          "data": {
            "text/plain": "(37, 39)"
          },
          "metadata": {}
        }
      ],
      "execution_count": 76,
      "metadata": {
        "gather": {
          "logged": 1753155172376
        }
      }
    },
    {
      "cell_type": "code",
      "source": [
        "# Get index of students with academic status 'Satisfactory'\n",
        "\n",
        "stds_non_satisfactory = df[(~df['student_cohort'].isin(['First year', 'New'])) & (df['academic_status'] != 'Satisfactory') & (df['attendance_1'] <= 52)]\n",
        "stds_non_satisfactory_index = stds_non_satisfactory.index\n",
        "\n",
        "# Change the attendance of 3 New students to more than 52%\n",
        "n_assign = 25# Maximum number of students to assign higher attendance\n",
        "\n",
        "# Draw random sample of up to n_assign students\n",
        "n_select = min(n_assign, len(stds_non_satisfactory_index))\n",
        "random_assign_attendance = np.random.choice(stds_non_satisfactory_index, size = n_assign, replace = False)\n",
        "df.loc[random_assign_attendance, 'attendance_1'] = np.random.uniform(MIN_ATTD_ASSIGN, MAX_ATTD_ASSIGN, size=n_select)"
      ],
      "outputs": [],
      "execution_count": 77,
      "metadata": {
        "gather": {
          "logged": 1753155172994
        }
      }
    },
    {
      "cell_type": "code",
      "source": [
        "df[(~df['student_cohort'].isin(['First year', 'New'])) & (df['academic_status'] != 'Satisfactory') & (df['attendance_1'] <= 52)].shape"
      ],
      "outputs": [
        {
          "output_type": "execute_result",
          "execution_count": 78,
          "data": {
            "text/plain": "(12, 39)"
          },
          "metadata": {}
        }
      ],
      "execution_count": 78,
      "metadata": {
        "gather": {
          "logged": 1753155173718
        }
      }
    },
    {
      "cell_type": "code",
      "source": [
        "df['attendance_1'].describe()"
      ],
      "outputs": [
        {
          "output_type": "execute_result",
          "execution_count": 79,
          "data": {
            "text/plain": "count    698.000000\nmean      74.213310\nstd       18.488261\nmin        0.000000\n25%       62.545848\n50%       77.000000\n75%       88.112361\nmax      100.000000\nName: attendance_1, dtype: float64"
          },
          "metadata": {}
        }
      ],
      "execution_count": 79,
      "metadata": {
        "gather": {
          "logged": 1753155174314
        }
      }
    },
    {
      "cell_type": "code",
      "source": [
        "df['attendance_adj'] = df['attendance_1'] - 4.76\n",
        "df['attendance_adj'] = df['attendance_adj'].clip(lower=0, upper=100)  # Stay within 0–100%\n",
        "df['attendance_1'] = df['attendance_adj']"
      ],
      "outputs": [],
      "execution_count": 80,
      "metadata": {
        "gather": {
          "logged": 1753155174929
        }
      }
    },
    {
      "cell_type": "code",
      "source": [
        "df = df.drop('attendance_adj', axis=1)"
      ],
      "outputs": [],
      "execution_count": 81,
      "metadata": {
        "gather": {
          "logged": 1753155175515
        }
      }
    },
    {
      "cell_type": "code",
      "source": [
        "df['attendance_1'].describe()"
      ],
      "outputs": [
        {
          "output_type": "execute_result",
          "execution_count": 82,
          "data": {
            "text/plain": "count    698.000000\nmean      69.479900\nstd       18.385177\nmin        0.000000\n25%       57.785848\n50%       72.240000\n75%       83.352361\nmax       95.240000\nName: attendance_1, dtype: float64"
          },
          "metadata": {}
        }
      ],
      "execution_count": 82,
      "metadata": {
        "gather": {
          "logged": 1753155176152
        }
      }
    },
    {
      "cell_type": "code",
      "source": [
        "df['attendance_2'].describe()"
      ],
      "outputs": [
        {
          "output_type": "execute_result",
          "execution_count": 83,
          "data": {
            "text/plain": "count    698.000000\nmean      49.723496\nstd       28.779966\nmin        0.000000\n25%       26.000000\n50%       48.000000\n75%       74.750000\nmax      100.000000\nName: attendance_2, dtype: float64"
          },
          "metadata": {}
        }
      ],
      "execution_count": 83,
      "metadata": {
        "gather": {
          "logged": 1753155176774
        }
      }
    },
    {
      "cell_type": "code",
      "source": [
        "df['attendance_3'].describe()"
      ],
      "outputs": [
        {
          "output_type": "execute_result",
          "execution_count": 84,
          "data": {
            "text/plain": "count    698.000000\nmean      49.939828\nstd       29.299558\nmin        0.000000\n25%       26.000000\n50%       49.000000\n75%       75.000000\nmax      100.000000\nName: attendance_3, dtype: float64"
          },
          "metadata": {}
        }
      ],
      "execution_count": 84,
      "metadata": {
        "gather": {
          "logged": 1753155177446
        }
      }
    },
    {
      "cell_type": "code",
      "source": [
        "# Parameters\n",
        "std_extra = 8  # How much each subject can differ from the base\n",
        "low = 30        # Minimum reasonable attendance\n",
        "high = 100      # Maximum possible attendance\n",
        "\n",
        "# Generate random differences for each new attendance column\n",
        "df['attendance_2'] = np.clip(df['attendance_1'] + np.random.normal(0, std_extra, len(df)), low, high)\n",
        "df['attendance_3'] = np.clip(df['attendance_1'] + np.random.normal(0, std_extra, len(df)), low, high)"
      ],
      "outputs": [],
      "execution_count": 85,
      "metadata": {
        "gather": {
          "logged": 1753155178060
        }
      }
    },
    {
      "cell_type": "code",
      "source": [
        "df['attendance_2'].describe()"
      ],
      "outputs": [
        {
          "output_type": "execute_result",
          "execution_count": 86,
          "data": {
            "text/plain": "count    698.000000\nmean      70.226146\nstd       17.866746\nmin       30.000000\n25%       57.714441\n50%       71.428213\n75%       83.744113\nmax      100.000000\nName: attendance_2, dtype: float64"
          },
          "metadata": {}
        }
      ],
      "execution_count": 86,
      "metadata": {
        "gather": {
          "logged": 1753155178675
        }
      }
    },
    {
      "cell_type": "code",
      "source": [
        "df['attendance_3'].describe()"
      ],
      "outputs": [
        {
          "output_type": "execute_result",
          "execution_count": 87,
          "data": {
            "text/plain": "count    698.000000\nmean      69.987971\nstd       18.188424\nmin       30.000000\n25%       56.340228\n50%       70.844739\n75%       84.459943\nmax      100.000000\nName: attendance_3, dtype: float64"
          },
          "metadata": {}
        }
      ],
      "execution_count": 87,
      "metadata": {
        "gather": {
          "logged": 1753155179284
        }
      }
    },
    {
      "cell_type": "code",
      "source": [
        "df.info()"
      ],
      "outputs": [
        {
          "output_type": "stream",
          "name": "stdout",
          "text": "<class 'pandas.core.frame.DataFrame'>\nRangeIndex: 698 entries, 0 to 697\nData columns (total 39 columns):\n #   Column                        Non-Null Count  Dtype  \n---  ------                        --------------  -----  \n 0   student_id                    698 non-null    int64  \n 1   course                        698 non-null    object \n 2   student_cohort                698 non-null    object \n 3   academic_status               698 non-null    object \n 4   failed_subjects               698 non-null    float64\n 5   study_skills(attended)        698 non-null    object \n 6   referral                      698 non-null    object \n 7   pp_meeting                    698 non-null    object \n 8   self_assessment               698 non-null    object \n 9   readiness_assessment_results  698 non-null    object \n 10  follow_up                     698 non-null    object \n 11  follow_up_type                698 non-null    object \n 12  subject_1                     698 non-null    object \n 13  subject_1_assess_1            698 non-null    float64\n 14  subject_1_assess_2            698 non-null    float64\n 15  subject_1_assess_3            698 non-null    float64\n 16  subject_1_assess_4            698 non-null    float64\n 17  attendance_1                  698 non-null    float64\n 18  learn_jcu_issues_1            698 non-null    object \n 19  lecturer_referral_1           698 non-null    object \n 20  subject_2                     698 non-null    object \n 21  subject_2_assess_1            698 non-null    float64\n 22  subject_2_assess_2            698 non-null    float64\n 23  subject_2_assess_3            698 non-null    float64\n 24  subject_2_assess_4            698 non-null    float64\n 25  attendance_2                  698 non-null    float64\n 26  learn_jcu_issues_2            698 non-null    object \n 27  lecturer_referral_2           698 non-null    object \n 28  subject_3                     698 non-null    object \n 29  subject_3_assess_1            698 non-null    float64\n 30  subject_3_assess_2            698 non-null    float64\n 31  subject_3_assess_3            698 non-null    float64\n 32  subject_3_assess_4            698 non-null    float64\n 33  attendance_3                  698 non-null    float64\n 34  learn_jcu_issues_3            698 non-null    object \n 35  lecturer_referral_3           698 non-null    object \n 36  comments                      698 non-null    object \n 37  identified_issues             698 non-null    object \n 38  course_group                  698 non-null    object \ndtypes: float64(16), int64(1), object(22)\nmemory usage: 212.8+ KB\n"
        }
      ],
      "execution_count": 88,
      "metadata": {
        "gather": {
          "logged": 1753155179966
        }
      }
    },
    {
      "cell_type": "markdown",
      "source": [
        "###### Clean Subject Assessment Score Data\n",
        "This section ensures the subject assessment score data is ready for analysis by addressing missing values, correcting data entry errors, and validating that all scores are within the permissible academic range. "
      ],
      "metadata": {
        "nteract": {
          "transient": {
            "deleting": false
          }
        }
      }
    },
    {
      "cell_type": "code",
      "source": [
        "df['subject_1_assess_1'].describe()"
      ],
      "outputs": [
        {
          "output_type": "execute_result",
          "execution_count": 89,
          "data": {
            "text/plain": "count    698.000000\nmean      51.630702\nstd       28.580143\nmin        0.150000\n25%       27.815000\n50%       52.105000\n75%       75.647500\nmax       99.980000\nName: subject_1_assess_1, dtype: float64"
          },
          "metadata": {}
        }
      ],
      "execution_count": 89,
      "metadata": {
        "gather": {
          "logged": 1753155180620
        }
      }
    },
    {
      "cell_type": "code",
      "source": [
        "df[(df['academic_status'] == 'Satisfactory') & (df['student_cohort'] == 'First year')].shape"
      ],
      "outputs": [
        {
          "output_type": "execute_result",
          "execution_count": 90,
          "data": {
            "text/plain": "(75, 39)"
          },
          "metadata": {}
        }
      ],
      "execution_count": 90,
      "metadata": {
        "gather": {
          "logged": 1753155181323
        }
      }
    },
    {
      "cell_type": "code",
      "source": [
        "df[(df['academic_status'] == 'Satisfactory') & (df['student_cohort'] == 'First year') & (df['failed_subjects']>=1)].shape"
      ],
      "outputs": [
        {
          "output_type": "execute_result",
          "execution_count": 120,
          "data": {
            "text/plain": "(7, 39)"
          },
          "metadata": {}
        }
      ],
      "execution_count": 120,
      "metadata": {
        "gather": {
          "logged": 1753156625581
        }
      }
    },
    {
      "cell_type": "code",
      "source": [
        "df[(df['academic_status'] != 'Satisfactory') & (df['student_cohort'] == 'First year') & (df['failed_subjects']>=1)].shape"
      ],
      "outputs": [
        {
          "output_type": "execute_result",
          "execution_count": 122,
          "data": {
            "text/plain": "(15, 39)"
          },
          "metadata": {}
        }
      ],
      "execution_count": 122,
      "metadata": {
        "gather": {
          "logged": 1753156695460
        }
      }
    },
    {
      "cell_type": "code",
      "source": [
        "df[(df['academic_status'] != 'Satisfactory') & (df['student_cohort'] == 'First year') & (df['subject_1_assess_1']>52)].shape"
      ],
      "outputs": [
        {
          "output_type": "execute_result",
          "execution_count": 126,
          "data": {
            "text/plain": "(7, 39)"
          },
          "metadata": {}
        }
      ],
      "execution_count": 126,
      "metadata": {
        "gather": {
          "logged": 1753156838484
        }
      }
    },
    {
      "cell_type": "code",
      "source": [
        "df[(df['academic_status'] != 'Satisfactory') & (df['student_cohort'] == 'First year') & (df['subject_1_assess_1']<=52)].shape"
      ],
      "outputs": [
        {
          "output_type": "execute_result",
          "execution_count": 127,
          "data": {
            "text/plain": "(11, 39)"
          },
          "metadata": {}
        }
      ],
      "execution_count": 127,
      "metadata": {
        "gather": {
          "logged": 1753156853302
        }
      }
    },
    {
      "cell_type": "code",
      "source": [
        "df[(df['academic_status'] == 'Satisfactory') & (df['student_cohort'] == 'First year') & (df['subject_1_assess_1']>52)].shape"
      ],
      "outputs": [
        {
          "output_type": "execute_result",
          "execution_count": 128,
          "data": {
            "text/plain": "(38, 39)"
          },
          "metadata": {}
        }
      ],
      "execution_count": 128,
      "metadata": {
        "gather": {
          "logged": 1753156933718
        }
      }
    },
    {
      "cell_type": "code",
      "source": [
        "df[(df['academic_status'] == 'Satisfactory') & (df['student_cohort'] == 'First year') & (df['subject_1_assess_1']<=52)].shape"
      ],
      "outputs": [
        {
          "output_type": "execute_result",
          "execution_count": 129,
          "data": {
            "text/plain": "(37, 39)"
          },
          "metadata": {}
        }
      ],
      "execution_count": 129,
      "metadata": {
        "gather": {
          "logged": 1753156950498
        }
      }
    },
    {
      "cell_type": "code",
      "source": [
        "df['academic_status'].value_counts()"
      ],
      "outputs": [
        {
          "output_type": "execute_result",
          "execution_count": 99,
          "data": {
            "text/plain": "Satisfactory        621\nConditional          43\nAcademic Caution     28\nExcluded              6\nName: academic_status, dtype: int64"
          },
          "metadata": {}
        }
      ],
      "execution_count": 99,
      "metadata": {
        "gather": {
          "logged": 1753246623857
        }
      }
    },
    {
      "cell_type": "code",
      "source": [
        "df['student_cohort'].value_counts()"
      ],
      "outputs": [
        {
          "output_type": "execute_result",
          "execution_count": 100,
          "data": {
            "text/plain": "Return to Study    101\nFirst year          93\nTransferred         92\nContinuing          89\nExcluded            86\nLOA                 85\nNew                 78\nSRI to JCUB         74\nName: student_cohort, dtype: int64"
          },
          "metadata": {}
        }
      ],
      "execution_count": 100,
      "metadata": {
        "gather": {
          "logged": 1753246646240
        }
      }
    }
  ],
  "metadata": {
    "kernelspec": {
      "name": "python310-sdkv2",
      "language": "python",
      "display_name": "Python 3.10 - SDK v2"
    },
    "language_info": {
      "name": "python",
      "version": "3.10.18",
      "mimetype": "text/x-python",
      "codemirror_mode": {
        "name": "ipython",
        "version": 3
      },
      "pygments_lexer": "ipython3",
      "nbconvert_exporter": "python",
      "file_extension": ".py"
    },
    "microsoft": {
      "ms_spell_check": {
        "ms_spell_check_language": "en"
      },
      "host": {
        "AzureML": {
          "notebookHasBeenCompleted": true
        }
      }
    },
    "kernel_info": {
      "name": "python310-sdkv2"
    },
    "nteract": {
      "version": "nteract-front-end@1.0.0"
    }
  },
  "nbformat": 4,
  "nbformat_minor": 2
}